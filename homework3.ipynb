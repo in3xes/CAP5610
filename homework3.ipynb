{
  "nbformat": 4,
  "nbformat_minor": 0,
  "metadata": {
    "colab": {
      "name": "homework3.ipynb",
      "provenance": [],
      "collapsed_sections": [],
      "authorship_tag": "ABX9TyOybU0F/5UI/t6jsDZNKU88",
      "include_colab_link": true
    },
    "kernelspec": {
      "name": "python3",
      "display_name": "Python 3"
    }
  },
  "cells": [
    {
      "cell_type": "markdown",
      "metadata": {
        "id": "view-in-github",
        "colab_type": "text"
      },
      "source": [
        "<a href=\"https://colab.research.google.com/github/in3xes/CAP5610/blob/master/homework3.ipynb\" target=\"_parent\"><img src=\"https://colab.research.google.com/assets/colab-badge.svg\" alt=\"Open In Colab\"/></a>"
      ]
    },
    {
      "cell_type": "markdown",
      "metadata": {
        "id": "XOXfFWW1M6kX"
      },
      "source": [
        "**Task 1:**"
      ]
    },
    {
      "cell_type": "code",
      "metadata": {
        "id": "D9zpJ4oRM_9a",
        "outputId": "1372cb45-b324-47d0-885b-46c7c7b0ff87",
        "colab": {
          "base_uri": "https://localhost:8080/",
          "height": 204
        }
      },
      "source": [
        "import pandas as pd\n",
        "import numpy as np\n",
        "\n",
        "test = pd.read_csv('/content/test_football.csv')\n",
        "train = pd.read_csv('/content/train_football.csv')\n",
        "\n",
        "combined = [train, test]\n",
        "\n",
        "train.head()"
      ],
      "execution_count": 203,
      "outputs": [
        {
          "output_type": "execute_result",
          "data": {
            "text/html": [
              "<div>\n",
              "<style scoped>\n",
              "    .dataframe tbody tr th:only-of-type {\n",
              "        vertical-align: middle;\n",
              "    }\n",
              "\n",
              "    .dataframe tbody tr th {\n",
              "        vertical-align: top;\n",
              "    }\n",
              "\n",
              "    .dataframe thead th {\n",
              "        text-align: right;\n",
              "    }\n",
              "</style>\n",
              "<table border=\"1\" class=\"dataframe\">\n",
              "  <thead>\n",
              "    <tr style=\"text-align: right;\">\n",
              "      <th></th>\n",
              "      <th>ID</th>\n",
              "      <th>Date</th>\n",
              "      <th>Opponent</th>\n",
              "      <th>Is_Home_or_Away</th>\n",
              "      <th>Is_Opponent_in_AP25_Preseason</th>\n",
              "      <th>Media</th>\n",
              "      <th>Label</th>\n",
              "    </tr>\n",
              "  </thead>\n",
              "  <tbody>\n",
              "    <tr>\n",
              "      <th>0</th>\n",
              "      <td>1</td>\n",
              "      <td>9/5/2015</td>\n",
              "      <td>Texas</td>\n",
              "      <td>Home</td>\n",
              "      <td>Out</td>\n",
              "      <td>1-NBC</td>\n",
              "      <td>Win</td>\n",
              "    </tr>\n",
              "    <tr>\n",
              "      <th>1</th>\n",
              "      <td>2</td>\n",
              "      <td>9/12/2015</td>\n",
              "      <td>Virginia</td>\n",
              "      <td>Away</td>\n",
              "      <td>Out</td>\n",
              "      <td>4-ABC</td>\n",
              "      <td>Win</td>\n",
              "    </tr>\n",
              "    <tr>\n",
              "      <th>2</th>\n",
              "      <td>3</td>\n",
              "      <td>9/19/2015</td>\n",
              "      <td>GeorgiaTech</td>\n",
              "      <td>Home</td>\n",
              "      <td>In</td>\n",
              "      <td>1-NBC</td>\n",
              "      <td>Win</td>\n",
              "    </tr>\n",
              "    <tr>\n",
              "      <th>3</th>\n",
              "      <td>4</td>\n",
              "      <td>9/26/2015</td>\n",
              "      <td>UMass</td>\n",
              "      <td>Home</td>\n",
              "      <td>Out</td>\n",
              "      <td>1-NBC</td>\n",
              "      <td>Win</td>\n",
              "    </tr>\n",
              "    <tr>\n",
              "      <th>4</th>\n",
              "      <td>5</td>\n",
              "      <td>10/3/2015</td>\n",
              "      <td>Clemson</td>\n",
              "      <td>Away</td>\n",
              "      <td>In</td>\n",
              "      <td>4-ABC</td>\n",
              "      <td>Lose</td>\n",
              "    </tr>\n",
              "  </tbody>\n",
              "</table>\n",
              "</div>"
            ],
            "text/plain": [
              "   ID       Date     Opponent  ... Is_Opponent_in_AP25_Preseason  Media Label\n",
              "0   1   9/5/2015        Texas  ...                           Out  1-NBC   Win\n",
              "1   2  9/12/2015     Virginia  ...                           Out  4-ABC   Win\n",
              "2   3  9/19/2015  GeorgiaTech  ...                            In  1-NBC   Win\n",
              "3   4  9/26/2015        UMass  ...                           Out  1-NBC   Win\n",
              "4   5  10/3/2015      Clemson  ...                            In  4-ABC  Lose\n",
              "\n",
              "[5 rows x 7 columns]"
            ]
          },
          "metadata": {
            "tags": []
          },
          "execution_count": 203
        }
      ]
    },
    {
      "cell_type": "code",
      "metadata": {
        "id": "__SV4iLnoclt",
        "outputId": "14986c1b-7178-483b-8e1c-f8d21f9aa9f3",
        "colab": {
          "base_uri": "https://localhost:8080/",
          "height": 204
        }
      },
      "source": [
        "# cleaning\n",
        "\n",
        "train = train.drop([\"ID\"], axis = 1)\n",
        "train = train.drop([\"Date\"], axis = 1)\n",
        "\n",
        "cols = [\"Opponent\", \"Is_Home_or_Away\", \"Is_Opponent_in_AP25_Preseason\", \"Media\", \"Label\"]\n",
        "\n",
        "for col in cols:\n",
        "  train[col] = train[col].astype('category').cat.codes\n",
        "\n",
        "train.head()"
      ],
      "execution_count": 204,
      "outputs": [
        {
          "output_type": "execute_result",
          "data": {
            "text/html": [
              "<div>\n",
              "<style scoped>\n",
              "    .dataframe tbody tr th:only-of-type {\n",
              "        vertical-align: middle;\n",
              "    }\n",
              "\n",
              "    .dataframe tbody tr th {\n",
              "        vertical-align: top;\n",
              "    }\n",
              "\n",
              "    .dataframe thead th {\n",
              "        text-align: right;\n",
              "    }\n",
              "</style>\n",
              "<table border=\"1\" class=\"dataframe\">\n",
              "  <thead>\n",
              "    <tr style=\"text-align: right;\">\n",
              "      <th></th>\n",
              "      <th>Opponent</th>\n",
              "      <th>Is_Home_or_Away</th>\n",
              "      <th>Is_Opponent_in_AP25_Preseason</th>\n",
              "      <th>Media</th>\n",
              "      <th>Label</th>\n",
              "    </tr>\n",
              "  </thead>\n",
              "  <tbody>\n",
              "    <tr>\n",
              "      <th>0</th>\n",
              "      <td>14</td>\n",
              "      <td>1</td>\n",
              "      <td>1</td>\n",
              "      <td>0</td>\n",
              "      <td>1</td>\n",
              "    </tr>\n",
              "    <tr>\n",
              "      <th>1</th>\n",
              "      <td>17</td>\n",
              "      <td>0</td>\n",
              "      <td>1</td>\n",
              "      <td>3</td>\n",
              "      <td>1</td>\n",
              "    </tr>\n",
              "    <tr>\n",
              "      <th>2</th>\n",
              "      <td>4</td>\n",
              "      <td>1</td>\n",
              "      <td>0</td>\n",
              "      <td>0</td>\n",
              "      <td>1</td>\n",
              "    </tr>\n",
              "    <tr>\n",
              "      <th>3</th>\n",
              "      <td>15</td>\n",
              "      <td>1</td>\n",
              "      <td>1</td>\n",
              "      <td>0</td>\n",
              "      <td>1</td>\n",
              "    </tr>\n",
              "    <tr>\n",
              "      <th>4</th>\n",
              "      <td>2</td>\n",
              "      <td>0</td>\n",
              "      <td>0</td>\n",
              "      <td>3</td>\n",
              "      <td>0</td>\n",
              "    </tr>\n",
              "  </tbody>\n",
              "</table>\n",
              "</div>"
            ],
            "text/plain": [
              "   Opponent  Is_Home_or_Away  Is_Opponent_in_AP25_Preseason  Media  Label\n",
              "0        14                1                              1      0      1\n",
              "1        17                0                              1      3      1\n",
              "2         4                1                              0      0      1\n",
              "3        15                1                              1      0      1\n",
              "4         2                0                              0      3      0"
            ]
          },
          "metadata": {
            "tags": []
          },
          "execution_count": 204
        }
      ]
    },
    {
      "cell_type": "code",
      "metadata": {
        "id": "NstuV_mYoyMu",
        "outputId": "612942f5-8fc1-4d15-c4ae-c89bc62b136f",
        "colab": {
          "base_uri": "https://localhost:8080/",
          "height": 204
        }
      },
      "source": [
        "test = test.drop([\"ID\"], axis = 1)\n",
        "test = test.drop([\"Date\"], axis = 1)\n",
        "\n",
        "cols = [\"Opponent\", \"Is_Home_or_Away\", \"Is_Opponent_in_AP25_Preseason\", \"Media\", \"Label\"]\n",
        "\n",
        "for col in cols:\n",
        "  test[col] = test[col].astype('category').cat.codes\n",
        "\n",
        "test.head()"
      ],
      "execution_count": 205,
      "outputs": [
        {
          "output_type": "execute_result",
          "data": {
            "text/html": [
              "<div>\n",
              "<style scoped>\n",
              "    .dataframe tbody tr th:only-of-type {\n",
              "        vertical-align: middle;\n",
              "    }\n",
              "\n",
              "    .dataframe tbody tr th {\n",
              "        vertical-align: top;\n",
              "    }\n",
              "\n",
              "    .dataframe thead th {\n",
              "        text-align: right;\n",
              "    }\n",
              "</style>\n",
              "<table border=\"1\" class=\"dataframe\">\n",
              "  <thead>\n",
              "    <tr style=\"text-align: right;\">\n",
              "      <th></th>\n",
              "      <th>Opponent</th>\n",
              "      <th>Is_Home_or_Away</th>\n",
              "      <th>Is_Opponent_in_AP25_Preseason</th>\n",
              "      <th>Media</th>\n",
              "      <th>Label</th>\n",
              "    </tr>\n",
              "  </thead>\n",
              "  <tbody>\n",
              "    <tr>\n",
              "      <th>0</th>\n",
              "      <td>9</td>\n",
              "      <td>1</td>\n",
              "      <td>1</td>\n",
              "      <td>0</td>\n",
              "      <td>1</td>\n",
              "    </tr>\n",
              "    <tr>\n",
              "      <th>1</th>\n",
              "      <td>1</td>\n",
              "      <td>1</td>\n",
              "      <td>0</td>\n",
              "      <td>0</td>\n",
              "      <td>0</td>\n",
              "    </tr>\n",
              "    <tr>\n",
              "      <th>2</th>\n",
              "      <td>0</td>\n",
              "      <td>0</td>\n",
              "      <td>1</td>\n",
              "      <td>1</td>\n",
              "      <td>1</td>\n",
              "    </tr>\n",
              "    <tr>\n",
              "      <th>3</th>\n",
              "      <td>4</td>\n",
              "      <td>0</td>\n",
              "      <td>1</td>\n",
              "      <td>2</td>\n",
              "      <td>1</td>\n",
              "    </tr>\n",
              "    <tr>\n",
              "      <th>4</th>\n",
              "      <td>3</td>\n",
              "      <td>1</td>\n",
              "      <td>1</td>\n",
              "      <td>0</td>\n",
              "      <td>1</td>\n",
              "    </tr>\n",
              "  </tbody>\n",
              "</table>\n",
              "</div>"
            ],
            "text/plain": [
              "   Opponent  Is_Home_or_Away  Is_Opponent_in_AP25_Preseason  Media  Label\n",
              "0         9                1                              1      0      1\n",
              "1         1                1                              0      0      0\n",
              "2         0                0                              1      1      1\n",
              "3         4                0                              1      2      1\n",
              "4         3                1                              1      0      1"
            ]
          },
          "metadata": {
            "tags": []
          },
          "execution_count": 205
        }
      ]
    },
    {
      "cell_type": "code",
      "metadata": {
        "id": "H8JnGd2BpNdT",
        "outputId": "13a2f959-f7c8-4d5c-c611-b0332d0e89c4",
        "colab": {
          "base_uri": "https://localhost:8080/",
          "height": 34
        }
      },
      "source": [
        "from sklearn.model_selection import train_test_split\n",
        "\n",
        "train_labels = train['Label']\n",
        "train_data = train.drop('Label', axis=1)\n",
        "\n",
        "test_labels = test['Label']\n",
        "test_data = test.drop('Label', axis=1)\n",
        "\n",
        "\n",
        "print(train_data.shape, test_data.shape, train_labels.shape, test_labels.shape)"
      ],
      "execution_count": 206,
      "outputs": [
        {
          "output_type": "stream",
          "text": [
            "(24, 4) (12, 4) (24,) (12,)\n"
          ],
          "name": "stdout"
        }
      ]
    },
    {
      "cell_type": "code",
      "metadata": {
        "id": "UOXzVFQgo8vD",
        "outputId": "95c31be8-413d-4519-9a49-a937c3d9b8a2",
        "colab": {
          "base_uri": "https://localhost:8080/",
          "height": 119
        }
      },
      "source": [
        "from sklearn.naive_bayes import GaussianNB\n",
        "from sklearn.metrics import accuracy_score, f1_score, precision_score, recall_score\n",
        "\n",
        "\n",
        "\n",
        "classifier = GaussianNB()\n",
        "classifier.fit(train_data, train_labels)\n",
        "\n",
        "pred = classifier.predict(test_data)\n",
        "\n",
        "# print(pred)\n",
        "# print(test_labels)\n",
        "\n",
        "accuracy = accuracy_score(test_labels, pred)\n",
        "f1 = f1_score(test_labels, pred)\n",
        "precision = precision_score(test_labels, pred)\n",
        "recall = recall_score(test_labels, pred)\n",
        "\n",
        "from tabulate import tabulate\n",
        "print(tabulate([['accuracy', accuracy],  ['precision', precision],  ['recall', recall], ['f1', f1]], headers=['Metric', 'Value']))"
      ],
      "execution_count": 207,
      "outputs": [
        {
          "output_type": "stream",
          "text": [
            "Metric        Value\n",
            "---------  --------\n",
            "accuracy   0.833333\n",
            "precision  1\n",
            "recall     0.777778\n",
            "f1         0.875\n"
          ],
          "name": "stdout"
        }
      ]
    },
    {
      "cell_type": "code",
      "metadata": {
        "id": "BCDYuLmKSCYx",
        "outputId": "a4724b32-5fb8-4241-c841-183d16ba8d4a",
        "colab": {
          "base_uri": "https://localhost:8080/",
          "height": 221
        }
      },
      "source": [
        "for p in pred:\n",
        "  if p == 1:\n",
        "    print(\"Win\")\n",
        "  else:\n",
        "    print(\"Lose\")"
      ],
      "execution_count": 208,
      "outputs": [
        {
          "output_type": "stream",
          "text": [
            "Win\n",
            "Lose\n",
            "Win\n",
            "Win\n",
            "Win\n",
            "Lose\n",
            "Lose\n",
            "Win\n",
            "Win\n",
            "Lose\n",
            "Win\n",
            "Lose\n"
          ],
          "name": "stdout"
        }
      ]
    },
    {
      "cell_type": "markdown",
      "metadata": {
        "id": "ojKW422fqdsH"
      },
      "source": [
        "**KNN**"
      ]
    },
    {
      "cell_type": "code",
      "metadata": {
        "id": "Oow-X0fNqdDu",
        "outputId": "1c15ba5d-436a-4464-a0d5-214cd863f04b",
        "colab": {
          "base_uri": "https://localhost:8080/",
          "height": 119
        }
      },
      "source": [
        "from sklearn.neighbors import KNeighborsClassifier\n",
        "from sklearn.metrics import accuracy_score\n",
        "from sklearn.model_selection import GridSearchCV\n",
        "\n",
        "\n",
        "knn = KNeighborsClassifier()\n",
        "knn.fit(train_data, train_labels)\n",
        "\n",
        "pred = knn.predict(test_data)\n",
        "\n",
        "# print(pred)\n",
        "# print(test_labels)\n",
        "\n",
        "accuracy = accuracy_score(test_labels, pred)\n",
        "f1 = f1_score(test_labels, pred)\n",
        "precision = precision_score(test_labels, pred)\n",
        "recall = recall_score(test_labels, pred)\n",
        "\n",
        "from tabulate import tabulate\n",
        "print(tabulate([['accuracy', accuracy],  ['precision', precision],  ['recall', recall], ['f1', f1]], headers=['Metric', 'Value']))"
      ],
      "execution_count": 209,
      "outputs": [
        {
          "output_type": "stream",
          "text": [
            "Metric        Value\n",
            "---------  --------\n",
            "accuracy   0.583333\n",
            "precision  0.75\n",
            "recall     0.666667\n",
            "f1         0.705882\n"
          ],
          "name": "stdout"
        }
      ]
    },
    {
      "cell_type": "code",
      "metadata": {
        "id": "t3xJSRdrRuvq",
        "outputId": "361ab65f-04d6-43b2-8234-534b4d96d8a9",
        "colab": {
          "base_uri": "https://localhost:8080/",
          "height": 221
        }
      },
      "source": [
        "for p in pred:\n",
        "  if p == 1:\n",
        "    print(\"Win\")\n",
        "  else:\n",
        "    print(\"Lose\")"
      ],
      "execution_count": 210,
      "outputs": [
        {
          "output_type": "stream",
          "text": [
            "Lose\n",
            "Win\n",
            "Win\n",
            "Lose\n",
            "Win\n",
            "Lose\n",
            "Win\n",
            "Win\n",
            "Win\n",
            "Win\n",
            "Win\n",
            "Lose\n"
          ],
          "name": "stdout"
        }
      ]
    },
    {
      "cell_type": "markdown",
      "metadata": {
        "id": "DFCCnYXPOyhy"
      },
      "source": [
        "**Task 2:**"
      ]
    },
    {
      "cell_type": "code",
      "metadata": {
        "id": "NE3GJ1YZO0YI",
        "outputId": "0551a0a0-5cbc-46f8-dc60-951dcb402c15",
        "colab": {
          "base_uri": "https://localhost:8080/",
          "height": 204
        }
      },
      "source": [
        "import pandas as pd\n",
        "import numpy as np\n",
        "\n",
        "test = pd.read_csv('/content/test.csv')\n",
        "train = pd.read_csv('/content/train.csv')\n",
        "\n",
        "combined = [train, test]\n",
        "\n",
        "#preprocessing:\n",
        "\n",
        "#From homework 1 & 2\n",
        "\n",
        "from numpy.random import uniform\n",
        "\n",
        "# Fill null in Fare to median\n",
        "for df in combined:\n",
        "  median_fare = df['Fare'].median()\n",
        "  df['Fare'] = df['Fare'].fillna(median_fare)\n",
        "\n",
        "for t in combined:\n",
        "  train_fare = t[\"Fare\"].tolist()\n",
        "\n",
        "  for x in range(0, len(train_fare)):\n",
        "    if t.at[t.index[x], 'Fare'] > -0.001 and t.at[t.index[x], 'Fare'] <= 7.91:\n",
        "      t.at[t.index[x], 'Fare'] =  0\n",
        "    elif t.at[t.index[x], 'Fare'] > 7.91 and t.at[t.index[x], 'Fare'] <= 14.454:\n",
        "      t.at[t.index[x], 'Fare'] =  1\n",
        "    elif t.at[t.index[x], 'Fare'] > 14.454 and t.at[t.index[x], 'Fare'] <= 31.0:\n",
        "      t.at[t.index[x], 'Fare'] =  2\n",
        "    elif t.at[t.index[x], 'Fare'] > 31.0 and t.at[t.index[x], 'Fare'] <= 512.329:\n",
        "      t.at[t.index[x], 'Fare'] =  3  \n",
        "\n",
        "# Fill null in embarked and make them numerical\n",
        "embarked_to_num_map = {'S': 0, 'C': 1, 'Q': 2}\n",
        "for df in combined:\n",
        "  df['Embarked'] = df['Embarked'].fillna('S')\n",
        "  df['Embarked'] = df['Embarked'].map(embarked_to_num_map)\n",
        "\n",
        "\n",
        "# Change sex to numerical\n",
        "sex_to_num_map = {'female': 1, 'male': 0}\n",
        "for df in combined:\n",
        "  df['Sex'] = df['Sex'].map(sex_to_num_map).astype(int)\n",
        "\n",
        "# Adgust null in Age based on median and std\n",
        "for df in combined:\n",
        "  std_age = df['Age'].std()\n",
        "  median_age = df['Age'].median() \n",
        "  df['Age'] = df['Age'].fillna(uniform(std_age, median_age))\n",
        "  df.loc[ df['Age'] <= 15, 'Age'] = 0\n",
        "  df.loc[(df['Age'] > 15) & (df['Age'] <= 30), 'Age'] = 1\n",
        "  df.loc[(df['Age'] > 30) & (df['Age'] <= 45), 'Age'] = 2\n",
        "  df.loc[(df['Age'] > 45) & (df['Age'] <= 60), 'Age'] = 3\n",
        "  df.loc[ df['Age'] > 60, 'Age'] = 4  \n",
        "\n",
        "\n",
        "\n",
        "\n",
        "# feature selection\n",
        "\n",
        "drop_elements = ['PassengerId', 'Name', 'Ticket', 'Cabin', 'SibSp']\n",
        "train = train.drop(drop_elements, axis = 1)\n",
        "test  = test.drop(drop_elements, axis = 1)\n",
        "\n",
        "train.head()\n"
      ],
      "execution_count": 211,
      "outputs": [
        {
          "output_type": "execute_result",
          "data": {
            "text/html": [
              "<div>\n",
              "<style scoped>\n",
              "    .dataframe tbody tr th:only-of-type {\n",
              "        vertical-align: middle;\n",
              "    }\n",
              "\n",
              "    .dataframe tbody tr th {\n",
              "        vertical-align: top;\n",
              "    }\n",
              "\n",
              "    .dataframe thead th {\n",
              "        text-align: right;\n",
              "    }\n",
              "</style>\n",
              "<table border=\"1\" class=\"dataframe\">\n",
              "  <thead>\n",
              "    <tr style=\"text-align: right;\">\n",
              "      <th></th>\n",
              "      <th>Survived</th>\n",
              "      <th>Pclass</th>\n",
              "      <th>Sex</th>\n",
              "      <th>Age</th>\n",
              "      <th>Parch</th>\n",
              "      <th>Fare</th>\n",
              "      <th>Embarked</th>\n",
              "    </tr>\n",
              "  </thead>\n",
              "  <tbody>\n",
              "    <tr>\n",
              "      <th>0</th>\n",
              "      <td>0</td>\n",
              "      <td>3</td>\n",
              "      <td>0</td>\n",
              "      <td>1.0</td>\n",
              "      <td>0</td>\n",
              "      <td>0.0</td>\n",
              "      <td>0</td>\n",
              "    </tr>\n",
              "    <tr>\n",
              "      <th>1</th>\n",
              "      <td>1</td>\n",
              "      <td>1</td>\n",
              "      <td>1</td>\n",
              "      <td>2.0</td>\n",
              "      <td>0</td>\n",
              "      <td>3.0</td>\n",
              "      <td>1</td>\n",
              "    </tr>\n",
              "    <tr>\n",
              "      <th>2</th>\n",
              "      <td>1</td>\n",
              "      <td>3</td>\n",
              "      <td>1</td>\n",
              "      <td>1.0</td>\n",
              "      <td>0</td>\n",
              "      <td>1.0</td>\n",
              "      <td>0</td>\n",
              "    </tr>\n",
              "    <tr>\n",
              "      <th>3</th>\n",
              "      <td>1</td>\n",
              "      <td>1</td>\n",
              "      <td>1</td>\n",
              "      <td>2.0</td>\n",
              "      <td>0</td>\n",
              "      <td>3.0</td>\n",
              "      <td>0</td>\n",
              "    </tr>\n",
              "    <tr>\n",
              "      <th>4</th>\n",
              "      <td>0</td>\n",
              "      <td>3</td>\n",
              "      <td>0</td>\n",
              "      <td>2.0</td>\n",
              "      <td>0</td>\n",
              "      <td>1.0</td>\n",
              "      <td>0</td>\n",
              "    </tr>\n",
              "  </tbody>\n",
              "</table>\n",
              "</div>"
            ],
            "text/plain": [
              "   Survived  Pclass  Sex  Age  Parch  Fare  Embarked\n",
              "0         0       3    0  1.0      0   0.0         0\n",
              "1         1       1    1  2.0      0   3.0         1\n",
              "2         1       3    1  1.0      0   1.0         0\n",
              "3         1       1    1  2.0      0   3.0         0\n",
              "4         0       3    0  2.0      0   1.0         0"
            ]
          },
          "metadata": {
            "tags": []
          },
          "execution_count": 211
        }
      ]
    },
    {
      "cell_type": "code",
      "metadata": {
        "id": "Y22xlK8OPdxB",
        "outputId": "1d185c50-af6b-42dc-afb5-9d6630e7f160",
        "colab": {
          "base_uri": "https://localhost:8080/",
          "height": 34
        }
      },
      "source": [
        "from sklearn.model_selection import train_test_split\n",
        "\n",
        "label = train[\"Survived\"]\n",
        "train_d = train.drop(\"Survived\", axis=1)\n",
        "train_data,test_data,train_labels,test_labels=train_test_split(train_d, label, test_size=0.3, random_state=42)\n",
        "\n",
        "print(train_data.shape, test_data.shape, train_labels.shape, test_labels.shape)\n"
      ],
      "execution_count": 212,
      "outputs": [
        {
          "output_type": "stream",
          "text": [
            "(623, 6) (268, 6) (623,) (268,)\n"
          ],
          "name": "stdout"
        }
      ]
    },
    {
      "cell_type": "markdown",
      "metadata": {
        "id": "YXumdQBNYI6G"
      },
      "source": [
        "**Naïve Bayes**"
      ]
    },
    {
      "cell_type": "code",
      "metadata": {
        "id": "1cCr-kSWja7w",
        "outputId": "d359e0dc-5d60-4d07-b586-e024e0d646e1",
        "colab": {
          "base_uri": "https://localhost:8080/",
          "height": 204
        }
      },
      "source": [
        "from sklearn.naive_bayes import GaussianNB\n",
        "from sklearn.model_selection import cross_validate, cross_val_score\n",
        "from sklearn.metrics import make_scorer, accuracy_score, precision_score, recall_score, f1_score\n",
        "\n",
        "scoring = ['accuracy', 'precision', 'recall', 'f1']\n",
        "\n",
        "classifier = GaussianNB()\n",
        "classifier.fit(train_data, train_labels)\n",
        "\n",
        "\n",
        "# cross_validate(classifier, train_d, label, cv=5)\n",
        "\n",
        "results = cross_validate(estimator=classifier,\n",
        "                                          X=train_d,\n",
        "                                          y=label,\n",
        "                                          cv=5,\n",
        "                                          scoring=scoring)\n",
        "\n",
        "df = pd.DataFrame(results)\n",
        "\n",
        "df\n"
      ],
      "execution_count": 220,
      "outputs": [
        {
          "output_type": "execute_result",
          "data": {
            "text/html": [
              "<div>\n",
              "<style scoped>\n",
              "    .dataframe tbody tr th:only-of-type {\n",
              "        vertical-align: middle;\n",
              "    }\n",
              "\n",
              "    .dataframe tbody tr th {\n",
              "        vertical-align: top;\n",
              "    }\n",
              "\n",
              "    .dataframe thead th {\n",
              "        text-align: right;\n",
              "    }\n",
              "</style>\n",
              "<table border=\"1\" class=\"dataframe\">\n",
              "  <thead>\n",
              "    <tr style=\"text-align: right;\">\n",
              "      <th></th>\n",
              "      <th>fit_time</th>\n",
              "      <th>score_time</th>\n",
              "      <th>test_accuracy</th>\n",
              "      <th>test_precision</th>\n",
              "      <th>test_recall</th>\n",
              "      <th>test_f1</th>\n",
              "    </tr>\n",
              "  </thead>\n",
              "  <tbody>\n",
              "    <tr>\n",
              "      <th>0</th>\n",
              "      <td>0.004893</td>\n",
              "      <td>0.004964</td>\n",
              "      <td>0.670391</td>\n",
              "      <td>1.000000</td>\n",
              "      <td>0.144928</td>\n",
              "      <td>0.253165</td>\n",
              "    </tr>\n",
              "    <tr>\n",
              "      <th>1</th>\n",
              "      <td>0.002365</td>\n",
              "      <td>0.003433</td>\n",
              "      <td>0.741573</td>\n",
              "      <td>0.923077</td>\n",
              "      <td>0.352941</td>\n",
              "      <td>0.510638</td>\n",
              "    </tr>\n",
              "    <tr>\n",
              "      <th>2</th>\n",
              "      <td>0.002131</td>\n",
              "      <td>0.003325</td>\n",
              "      <td>0.702247</td>\n",
              "      <td>0.941176</td>\n",
              "      <td>0.235294</td>\n",
              "      <td>0.376471</td>\n",
              "    </tr>\n",
              "    <tr>\n",
              "      <th>3</th>\n",
              "      <td>0.002170</td>\n",
              "      <td>0.003285</td>\n",
              "      <td>0.707865</td>\n",
              "      <td>0.863636</td>\n",
              "      <td>0.279412</td>\n",
              "      <td>0.422222</td>\n",
              "    </tr>\n",
              "    <tr>\n",
              "      <th>4</th>\n",
              "      <td>0.002173</td>\n",
              "      <td>0.003316</td>\n",
              "      <td>0.724719</td>\n",
              "      <td>1.000000</td>\n",
              "      <td>0.289855</td>\n",
              "      <td>0.449438</td>\n",
              "    </tr>\n",
              "  </tbody>\n",
              "</table>\n",
              "</div>"
            ],
            "text/plain": [
              "   fit_time  score_time  test_accuracy  test_precision  test_recall   test_f1\n",
              "0  0.004893    0.004964       0.670391        1.000000     0.144928  0.253165\n",
              "1  0.002365    0.003433       0.741573        0.923077     0.352941  0.510638\n",
              "2  0.002131    0.003325       0.702247        0.941176     0.235294  0.376471\n",
              "3  0.002170    0.003285       0.707865        0.863636     0.279412  0.422222\n",
              "4  0.002173    0.003316       0.724719        1.000000     0.289855  0.449438"
            ]
          },
          "metadata": {
            "tags": []
          },
          "execution_count": 220
        }
      ]
    },
    {
      "cell_type": "markdown",
      "metadata": {
        "id": "ZKiJg16qPcGs"
      },
      "source": [
        "**KNN**"
      ]
    },
    {
      "cell_type": "code",
      "metadata": {
        "id": "z73jlu2DVAMe",
        "outputId": "34cd6274-1310-425b-e4e2-fd38c27d4d90",
        "colab": {
          "base_uri": "https://localhost:8080/",
          "height": 204
        }
      },
      "source": [
        "from sklearn.neighbors import KNeighborsClassifier\n",
        "from sklearn.metrics import accuracy_score\n",
        "from sklearn.model_selection import GridSearchCV\n",
        "\n",
        "\n",
        "knn = KNeighborsClassifier()\n",
        "k_range = list(range(1,11))\n",
        "weights_options = ['uniform','distance']\n",
        "k_grid = dict(n_neighbors=k_range, weights = weights_options)\n",
        "grid = GridSearchCV(knn, k_grid, cv=10, scoring = 'precision')\n",
        "grid.fit(train_data, train_labels)\n",
        "\n",
        "# for i in ['mean_test_score', 'std_test_score', 'param_n_neighbors']:\n",
        "#   print(i,\" : \",grid.cv_results_[i][::2])\n",
        "\n",
        "results = cross_validate(estimator=knn,\n",
        "                                          X=train_d,\n",
        "                                          y=label,\n",
        "                                          cv=5,\n",
        "                                          scoring=scoring)\n",
        "\n",
        "df = pd.DataFrame(results)\n",
        "\n",
        "df"
      ],
      "execution_count": 222,
      "outputs": [
        {
          "output_type": "execute_result",
          "data": {
            "text/html": [
              "<div>\n",
              "<style scoped>\n",
              "    .dataframe tbody tr th:only-of-type {\n",
              "        vertical-align: middle;\n",
              "    }\n",
              "\n",
              "    .dataframe tbody tr th {\n",
              "        vertical-align: top;\n",
              "    }\n",
              "\n",
              "    .dataframe thead th {\n",
              "        text-align: right;\n",
              "    }\n",
              "</style>\n",
              "<table border=\"1\" class=\"dataframe\">\n",
              "  <thead>\n",
              "    <tr style=\"text-align: right;\">\n",
              "      <th></th>\n",
              "      <th>fit_time</th>\n",
              "      <th>score_time</th>\n",
              "      <th>test_accuracy</th>\n",
              "      <th>test_precision</th>\n",
              "      <th>test_recall</th>\n",
              "      <th>test_f1</th>\n",
              "    </tr>\n",
              "  </thead>\n",
              "  <tbody>\n",
              "    <tr>\n",
              "      <th>0</th>\n",
              "      <td>0.002490</td>\n",
              "      <td>0.009751</td>\n",
              "      <td>0.703911</td>\n",
              "      <td>0.595238</td>\n",
              "      <td>0.724638</td>\n",
              "      <td>0.653595</td>\n",
              "    </tr>\n",
              "    <tr>\n",
              "      <th>1</th>\n",
              "      <td>0.002741</td>\n",
              "      <td>0.010631</td>\n",
              "      <td>0.780899</td>\n",
              "      <td>0.710145</td>\n",
              "      <td>0.720588</td>\n",
              "      <td>0.715328</td>\n",
              "    </tr>\n",
              "    <tr>\n",
              "      <th>2</th>\n",
              "      <td>0.002799</td>\n",
              "      <td>0.009920</td>\n",
              "      <td>0.825843</td>\n",
              "      <td>0.793651</td>\n",
              "      <td>0.735294</td>\n",
              "      <td>0.763359</td>\n",
              "    </tr>\n",
              "    <tr>\n",
              "      <th>3</th>\n",
              "      <td>0.002704</td>\n",
              "      <td>0.009706</td>\n",
              "      <td>0.808989</td>\n",
              "      <td>0.814815</td>\n",
              "      <td>0.647059</td>\n",
              "      <td>0.721311</td>\n",
              "    </tr>\n",
              "    <tr>\n",
              "      <th>4</th>\n",
              "      <td>0.002591</td>\n",
              "      <td>0.009351</td>\n",
              "      <td>0.837079</td>\n",
              "      <td>0.844828</td>\n",
              "      <td>0.710145</td>\n",
              "      <td>0.771654</td>\n",
              "    </tr>\n",
              "  </tbody>\n",
              "</table>\n",
              "</div>"
            ],
            "text/plain": [
              "   fit_time  score_time  test_accuracy  test_precision  test_recall   test_f1\n",
              "0  0.002490    0.009751       0.703911        0.595238     0.724638  0.653595\n",
              "1  0.002741    0.010631       0.780899        0.710145     0.720588  0.715328\n",
              "2  0.002799    0.009920       0.825843        0.793651     0.735294  0.763359\n",
              "3  0.002704    0.009706       0.808989        0.814815     0.647059  0.721311\n",
              "4  0.002591    0.009351       0.837079        0.844828     0.710145  0.771654"
            ]
          },
          "metadata": {
            "tags": []
          },
          "execution_count": 222
        }
      ]
    },
    {
      "cell_type": "code",
      "metadata": {
        "id": "ocnSEVaW0rSj",
        "outputId": "595412bc-a9e5-470c-f100-71cb91b7a021",
        "colab": {
          "base_uri": "https://localhost:8080/",
          "height": 142
        }
      },
      "source": [
        "l = [\"K\", \"Mean test score\", \"Std test score\"]\n",
        "pd.DataFrame([grid.cv_results_['param_n_neighbors'][::2], grid.cv_results_['mean_test_score'][::2], grid.cv_results_['std_test_score'][::2]], l)"
      ],
      "execution_count": 223,
      "outputs": [
        {
          "output_type": "execute_result",
          "data": {
            "text/html": [
              "<div>\n",
              "<style scoped>\n",
              "    .dataframe tbody tr th:only-of-type {\n",
              "        vertical-align: middle;\n",
              "    }\n",
              "\n",
              "    .dataframe tbody tr th {\n",
              "        vertical-align: top;\n",
              "    }\n",
              "\n",
              "    .dataframe thead th {\n",
              "        text-align: right;\n",
              "    }\n",
              "</style>\n",
              "<table border=\"1\" class=\"dataframe\">\n",
              "  <thead>\n",
              "    <tr style=\"text-align: right;\">\n",
              "      <th></th>\n",
              "      <th>0</th>\n",
              "      <th>1</th>\n",
              "      <th>2</th>\n",
              "      <th>3</th>\n",
              "      <th>4</th>\n",
              "      <th>5</th>\n",
              "      <th>6</th>\n",
              "      <th>7</th>\n",
              "      <th>8</th>\n",
              "      <th>9</th>\n",
              "    </tr>\n",
              "  </thead>\n",
              "  <tbody>\n",
              "    <tr>\n",
              "      <th>K</th>\n",
              "      <td>1.000000</td>\n",
              "      <td>2.000000</td>\n",
              "      <td>3.000000</td>\n",
              "      <td>4.000000</td>\n",
              "      <td>5.000000</td>\n",
              "      <td>6.000000</td>\n",
              "      <td>7.000000</td>\n",
              "      <td>8.000000</td>\n",
              "      <td>9.000000</td>\n",
              "      <td>10.000000</td>\n",
              "    </tr>\n",
              "    <tr>\n",
              "      <th>Mean test score</th>\n",
              "      <td>0.724021</td>\n",
              "      <td>0.854594</td>\n",
              "      <td>0.825551</td>\n",
              "      <td>0.857579</td>\n",
              "      <td>0.792550</td>\n",
              "      <td>0.841773</td>\n",
              "      <td>0.787392</td>\n",
              "      <td>0.830054</td>\n",
              "      <td>0.807920</td>\n",
              "      <td>0.833689</td>\n",
              "    </tr>\n",
              "    <tr>\n",
              "      <th>Std test score</th>\n",
              "      <td>0.124112</td>\n",
              "      <td>0.089278</td>\n",
              "      <td>0.096805</td>\n",
              "      <td>0.103485</td>\n",
              "      <td>0.095576</td>\n",
              "      <td>0.071988</td>\n",
              "      <td>0.093430</td>\n",
              "      <td>0.094987</td>\n",
              "      <td>0.085838</td>\n",
              "      <td>0.083411</td>\n",
              "    </tr>\n",
              "  </tbody>\n",
              "</table>\n",
              "</div>"
            ],
            "text/plain": [
              "                        0         1         2  ...         7         8          9\n",
              "K                1.000000  2.000000  3.000000  ...  8.000000  9.000000  10.000000\n",
              "Mean test score  0.724021  0.854594  0.825551  ...  0.830054  0.807920   0.833689\n",
              "Std test score   0.124112  0.089278  0.096805  ...  0.094987  0.085838   0.083411\n",
              "\n",
              "[3 rows x 10 columns]"
            ]
          },
          "metadata": {
            "tags": []
          },
          "execution_count": 223
        }
      ]
    },
    {
      "cell_type": "code",
      "metadata": {
        "id": "qZ6sIrEoXiqG",
        "outputId": "c53aa2ef-f99f-46ae-ec42-ca704a2b8038",
        "colab": {
          "base_uri": "https://localhost:8080/",
          "height": 624
        }
      },
      "source": [
        "%matplotlib inline\n",
        "from matplotlib import pyplot as plt\n",
        "import pandas as pd\n",
        "\n",
        "s = pd.Series(grid.cv_results_['mean_test_score'][::2], grid.cv_results_['param_n_neighbors'][::2])\n",
        "\n",
        "s.plot.bar(figsize=(20,10))\n",
        "plt.xlabel('K size')\n",
        "plt.ylabel('Accuracy')\n",
        "plt.title(\"Accuracy vs K size\"); "
      ],
      "execution_count": 224,
      "outputs": [
        {
          "output_type": "display_data",
          "data": {
            "image/png": "[encoded data removed]",
            "text/plain": [
              "<Figure size 1440x720 with 1 Axes>"
            ]
          },
          "metadata": {
            "tags": [],
            "needs_background": "light"
          }
        }
      ]
    },
    {
      "cell_type": "code",
      "metadata": {
        "id": "yQ9BM2T6TxI2",
        "outputId": "e01a3d40-70b7-40fd-ae7e-364fcb35dbea",
        "colab": {
          "base_uri": "https://localhost:8080/",
          "height": 34
        }
      },
      "source": [
        "label_pred = grid.predict(test)\n",
        "\n",
        "result=clf.predict(test)\n",
        "testset = pd.read_csv('/content/test.csv')\n",
        "index=[testset['PassengerId']]\n",
        "df=pd.DataFrame(data=label_pred,index=testset['PassengerId'],columns=['Survived'])\n",
        "df.to_csv('gender_submission.csv',header=True)\n",
        "print('gender_submission.csv')"
      ],
      "execution_count": 197,
      "outputs": [
        {
          "output_type": "stream",
          "text": [
            "gender_submission.csv\n"
          ],
          "name": "stdout"
        }
      ]
    }
  ]
}