{
  "nbformat": 4,
  "nbformat_minor": 0,
  "metadata": {
    "colab": {
      "name": "homework3.ipynb",
      "provenance": [],
      "authorship_tag": "ABX9TyOlwQtm35zBzmOyOlrQOPVk",
      "include_colab_link": true
    },
    "kernelspec": {
      "name": "python3",
      "display_name": "Python 3"
    }
  },
  "cells": [
    {
      "cell_type": "markdown",
      "metadata": {
        "id": "view-in-github",
        "colab_type": "text"
      },
      "source": [
        "<a href=\"https://colab.research.google.com/github/in3xes/CAP5610/blob/master/homework3.ipynb\" target=\"_parent\"><img src=\"https://colab.research.google.com/assets/colab-badge.svg\" alt=\"Open In Colab\"/></a>"
      ]
    },
    {
      "cell_type": "markdown",
      "metadata": {
        "id": "XOXfFWW1M6kX"
      },
      "source": [
        "**Task 1:**"
      ]
    },
    {
      "cell_type": "code",
      "metadata": {
        "id": "D9zpJ4oRM_9a",
        "outputId": "23c3d3f6-eb0b-4dbc-8214-1710540d0b64",
        "colab": {
          "base_uri": "https://localhost:8080/",
          "height": 204
        }
      },
      "source": [
        "import pandas as pd\n",
        "import numpy as np\n",
        "\n",
        "test = pd.read_csv('/content/test_football.csv')\n",
        "train = pd.read_csv('/content/train_football.csv')\n",
        "\n",
        "combined = [train, test]\n",
        "\n",
        "train.head()"
      ],
      "execution_count": 142,
      "outputs": [
        {
          "output_type": "execute_result",
          "data": {
            "text/html": [
              "<div>\n",
              "<style scoped>\n",
              "    .dataframe tbody tr th:only-of-type {\n",
              "        vertical-align: middle;\n",
              "    }\n",
              "\n",
              "    .dataframe tbody tr th {\n",
              "        vertical-align: top;\n",
              "    }\n",
              "\n",
              "    .dataframe thead th {\n",
              "        text-align: right;\n",
              "    }\n",
              "</style>\n",
              "<table border=\"1\" class=\"dataframe\">\n",
              "  <thead>\n",
              "    <tr style=\"text-align: right;\">\n",
              "      <th></th>\n",
              "      <th>ID</th>\n",
              "      <th>Date</th>\n",
              "      <th>Opponent</th>\n",
              "      <th>Is_Home_or_Away</th>\n",
              "      <th>Is_Opponent_in_AP25_Preseason</th>\n",
              "      <th>Media</th>\n",
              "      <th>Label</th>\n",
              "    </tr>\n",
              "  </thead>\n",
              "  <tbody>\n",
              "    <tr>\n",
              "      <th>0</th>\n",
              "      <td>1</td>\n",
              "      <td>9/5/2015</td>\n",
              "      <td>Texas</td>\n",
              "      <td>Home</td>\n",
              "      <td>Out</td>\n",
              "      <td>1-NBC</td>\n",
              "      <td>Win</td>\n",
              "    </tr>\n",
              "    <tr>\n",
              "      <th>1</th>\n",
              "      <td>2</td>\n",
              "      <td>9/12/2015</td>\n",
              "      <td>Virginia</td>\n",
              "      <td>Away</td>\n",
              "      <td>Out</td>\n",
              "      <td>4-ABC</td>\n",
              "      <td>Win</td>\n",
              "    </tr>\n",
              "    <tr>\n",
              "      <th>2</th>\n",
              "      <td>3</td>\n",
              "      <td>9/19/2015</td>\n",
              "      <td>GeorgiaTech</td>\n",
              "      <td>Home</td>\n",
              "      <td>In</td>\n",
              "      <td>1-NBC</td>\n",
              "      <td>Win</td>\n",
              "    </tr>\n",
              "    <tr>\n",
              "      <th>3</th>\n",
              "      <td>4</td>\n",
              "      <td>9/26/2015</td>\n",
              "      <td>UMass</td>\n",
              "      <td>Home</td>\n",
              "      <td>Out</td>\n",
              "      <td>1-NBC</td>\n",
              "      <td>Win</td>\n",
              "    </tr>\n",
              "    <tr>\n",
              "      <th>4</th>\n",
              "      <td>5</td>\n",
              "      <td>10/3/2015</td>\n",
              "      <td>Clemson</td>\n",
              "      <td>Away</td>\n",
              "      <td>In</td>\n",
              "      <td>4-ABC</td>\n",
              "      <td>Lose</td>\n",
              "    </tr>\n",
              "  </tbody>\n",
              "</table>\n",
              "</div>"
            ],
            "text/plain": [
              "   ID       Date     Opponent  ... Is_Opponent_in_AP25_Preseason  Media Label\n",
              "0   1   9/5/2015        Texas  ...                           Out  1-NBC   Win\n",
              "1   2  9/12/2015     Virginia  ...                           Out  4-ABC   Win\n",
              "2   3  9/19/2015  GeorgiaTech  ...                            In  1-NBC   Win\n",
              "3   4  9/26/2015        UMass  ...                           Out  1-NBC   Win\n",
              "4   5  10/3/2015      Clemson  ...                            In  4-ABC  Lose\n",
              "\n",
              "[5 rows x 7 columns]"
            ]
          },
          "metadata": {
            "tags": []
          },
          "execution_count": 142
        }
      ]
    },
    {
      "cell_type": "code",
      "metadata": {
        "id": "__SV4iLnoclt",
        "outputId": "6e6d6e8e-124a-4d36-df00-f3490df3edf5",
        "colab": {
          "base_uri": "https://localhost:8080/",
          "height": 204
        }
      },
      "source": [
        "# cleaning\n",
        "\n",
        "for col in train.columns:\n",
        "    train[col] = pd.Categorical(train[col])\n",
        "    train[col] = train[col].cat.codes\n",
        "\n",
        "train = train.drop([\"ID\", \"Date\"], axis = 1)    \n",
        "\n",
        "train.head()"
      ],
      "execution_count": 143,
      "outputs": [
        {
          "output_type": "execute_result",
          "data": {
            "text/html": [
              "<div>\n",
              "<style scoped>\n",
              "    .dataframe tbody tr th:only-of-type {\n",
              "        vertical-align: middle;\n",
              "    }\n",
              "\n",
              "    .dataframe tbody tr th {\n",
              "        vertical-align: top;\n",
              "    }\n",
              "\n",
              "    .dataframe thead th {\n",
              "        text-align: right;\n",
              "    }\n",
              "</style>\n",
              "<table border=\"1\" class=\"dataframe\">\n",
              "  <thead>\n",
              "    <tr style=\"text-align: right;\">\n",
              "      <th></th>\n",
              "      <th>Opponent</th>\n",
              "      <th>Is_Home_or_Away</th>\n",
              "      <th>Is_Opponent_in_AP25_Preseason</th>\n",
              "      <th>Media</th>\n",
              "      <th>Label</th>\n",
              "    </tr>\n",
              "  </thead>\n",
              "  <tbody>\n",
              "    <tr>\n",
              "      <th>0</th>\n",
              "      <td>14</td>\n",
              "      <td>1</td>\n",
              "      <td>1</td>\n",
              "      <td>0</td>\n",
              "      <td>1</td>\n",
              "    </tr>\n",
              "    <tr>\n",
              "      <th>1</th>\n",
              "      <td>17</td>\n",
              "      <td>0</td>\n",
              "      <td>1</td>\n",
              "      <td>3</td>\n",
              "      <td>1</td>\n",
              "    </tr>\n",
              "    <tr>\n",
              "      <th>2</th>\n",
              "      <td>4</td>\n",
              "      <td>1</td>\n",
              "      <td>0</td>\n",
              "      <td>0</td>\n",
              "      <td>1</td>\n",
              "    </tr>\n",
              "    <tr>\n",
              "      <th>3</th>\n",
              "      <td>15</td>\n",
              "      <td>1</td>\n",
              "      <td>1</td>\n",
              "      <td>0</td>\n",
              "      <td>1</td>\n",
              "    </tr>\n",
              "    <tr>\n",
              "      <th>4</th>\n",
              "      <td>2</td>\n",
              "      <td>0</td>\n",
              "      <td>0</td>\n",
              "      <td>3</td>\n",
              "      <td>0</td>\n",
              "    </tr>\n",
              "  </tbody>\n",
              "</table>\n",
              "</div>"
            ],
            "text/plain": [
              "   Opponent  Is_Home_or_Away  Is_Opponent_in_AP25_Preseason  Media  Label\n",
              "0        14                1                              1      0      1\n",
              "1        17                0                              1      3      1\n",
              "2         4                1                              0      0      1\n",
              "3        15                1                              1      0      1\n",
              "4         2                0                              0      3      0"
            ]
          },
          "metadata": {
            "tags": []
          },
          "execution_count": 143
        }
      ]
    },
    {
      "cell_type": "code",
      "metadata": {
        "id": "NstuV_mYoyMu",
        "outputId": "f159049b-dbe3-419f-acb0-f9151f48e528",
        "colab": {
          "base_uri": "https://localhost:8080/",
          "height": 204
        }
      },
      "source": [
        "for col in test.columns:\n",
        "    test[col] = pd.Categorical(test[col])\n",
        "    test[col] = test[col].cat.codes\n",
        "\n",
        "test = test.drop([\"ID\", \"Date\"], axis = 1)    \n",
        "\n",
        "test.head()"
      ],
      "execution_count": 144,
      "outputs": [
        {
          "output_type": "execute_result",
          "data": {
            "text/html": [
              "<div>\n",
              "<style scoped>\n",
              "    .dataframe tbody tr th:only-of-type {\n",
              "        vertical-align: middle;\n",
              "    }\n",
              "\n",
              "    .dataframe tbody tr th {\n",
              "        vertical-align: top;\n",
              "    }\n",
              "\n",
              "    .dataframe thead th {\n",
              "        text-align: right;\n",
              "    }\n",
              "</style>\n",
              "<table border=\"1\" class=\"dataframe\">\n",
              "  <thead>\n",
              "    <tr style=\"text-align: right;\">\n",
              "      <th></th>\n",
              "      <th>Opponent</th>\n",
              "      <th>Is_Home_or_Away</th>\n",
              "      <th>Is_Opponent_in_AP25_Preseason</th>\n",
              "      <th>Media</th>\n",
              "      <th>Label</th>\n",
              "    </tr>\n",
              "  </thead>\n",
              "  <tbody>\n",
              "    <tr>\n",
              "      <th>0</th>\n",
              "      <td>9</td>\n",
              "      <td>1</td>\n",
              "      <td>1</td>\n",
              "      <td>0</td>\n",
              "      <td>1</td>\n",
              "    </tr>\n",
              "    <tr>\n",
              "      <th>1</th>\n",
              "      <td>1</td>\n",
              "      <td>1</td>\n",
              "      <td>0</td>\n",
              "      <td>0</td>\n",
              "      <td>0</td>\n",
              "    </tr>\n",
              "    <tr>\n",
              "      <th>2</th>\n",
              "      <td>0</td>\n",
              "      <td>0</td>\n",
              "      <td>1</td>\n",
              "      <td>1</td>\n",
              "      <td>1</td>\n",
              "    </tr>\n",
              "    <tr>\n",
              "      <th>3</th>\n",
              "      <td>4</td>\n",
              "      <td>0</td>\n",
              "      <td>1</td>\n",
              "      <td>2</td>\n",
              "      <td>1</td>\n",
              "    </tr>\n",
              "    <tr>\n",
              "      <th>4</th>\n",
              "      <td>3</td>\n",
              "      <td>1</td>\n",
              "      <td>1</td>\n",
              "      <td>0</td>\n",
              "      <td>1</td>\n",
              "    </tr>\n",
              "  </tbody>\n",
              "</table>\n",
              "</div>"
            ],
            "text/plain": [
              "   Opponent  Is_Home_or_Away  Is_Opponent_in_AP25_Preseason  Media  Label\n",
              "0         9                1                              1      0      1\n",
              "1         1                1                              0      0      0\n",
              "2         0                0                              1      1      1\n",
              "3         4                0                              1      2      1\n",
              "4         3                1                              1      0      1"
            ]
          },
          "metadata": {
            "tags": []
          },
          "execution_count": 144
        }
      ]
    },
    {
      "cell_type": "code",
      "metadata": {
        "id": "H8JnGd2BpNdT",
        "outputId": "8373e7b0-382d-4b27-aff8-3fa617484e4f",
        "colab": {
          "base_uri": "https://localhost:8080/",
          "height": 34
        }
      },
      "source": [
        "from sklearn.model_selection import train_test_split\n",
        "\n",
        "train_labels = train['Label']\n",
        "train_data = train.drop('Label', axis=1)\n",
        "\n",
        "test_labels = test['Label']\n",
        "test_data = test.drop('Label', axis=1)\n",
        "\n",
        "\n",
        "print(train_data.shape, test_data.shape, train_labels.shape, test_labels.shape)"
      ],
      "execution_count": 145,
      "outputs": [
        {
          "output_type": "stream",
          "text": [
            "(24, 4) (12, 4) (24,) (12,)\n"
          ],
          "name": "stdout"
        }
      ]
    },
    {
      "cell_type": "code",
      "metadata": {
        "id": "UOXzVFQgo8vD",
        "outputId": "b88f7631-776c-4bd8-eaaa-adfdcfdfdbb0",
        "colab": {
          "base_uri": "https://localhost:8080/",
          "height": 119
        }
      },
      "source": [
        "from sklearn.naive_bayes import GaussianNB\n",
        "from sklearn.metrics import accuracy_score, f1_score, precision_score, recall_score\n",
        "\n",
        "\n",
        "\n",
        "classifier = GaussianNB()\n",
        "classifier.fit(train_data, train_labels)\n",
        "\n",
        "pred = classifier.predict(test_data)\n",
        "\n",
        "# print(pred)\n",
        "# print(test_labels)\n",
        "\n",
        "accuracy = accuracy_score(test_labels, pred)\n",
        "f1 = f1_score(test_labels, pred)\n",
        "precision = precision_score(test_labels, pred)\n",
        "recall = recall_score(test_labels, pred)\n",
        "\n",
        "from tabulate import tabulate\n",
        "print(tabulate([['accuracy', accuracy],  ['precision', precision],  ['recall', recall], ['f1', f1]], headers=['Metric', 'Value']))"
      ],
      "execution_count": 153,
      "outputs": [
        {
          "output_type": "stream",
          "text": [
            "Metric        Value\n",
            "---------  --------\n",
            "accuracy   0.833333\n",
            "precision  1\n",
            "recall     0.777778\n",
            "f1         0.875\n"
          ],
          "name": "stdout"
        }
      ]
    },
    {
      "cell_type": "markdown",
      "metadata": {
        "id": "ojKW422fqdsH"
      },
      "source": [
        "**KNN**"
      ]
    },
    {
      "cell_type": "code",
      "metadata": {
        "id": "Oow-X0fNqdDu",
        "outputId": "fa2d4860-a710-4ac5-fd88-f1dca1851c52",
        "colab": {
          "base_uri": "https://localhost:8080/",
          "height": 119
        }
      },
      "source": [
        "from sklearn.neighbors import KNeighborsClassifier\n",
        "from sklearn.metrics import accuracy_score\n",
        "from sklearn.model_selection import GridSearchCV\n",
        "\n",
        "\n",
        "knn = KNeighborsClassifier()\n",
        "knn.fit(train_data, train_labels)\n",
        "\n",
        "pred = knn.predict(test_data)\n",
        "\n",
        "# print(pred)\n",
        "# print(test_labels)\n",
        "\n",
        "accuracy = accuracy_score(test_labels, pred)\n",
        "f1 = f1_score(test_labels, pred)\n",
        "precision = precision_score(test_labels, pred)\n",
        "recall = recall_score(test_labels, pred)\n",
        "\n",
        "from tabulate import tabulate\n",
        "print(tabulate([['accuracy', accuracy],  ['precision', precision],  ['recall', recall], ['f1', f1]], headers=['Metric', 'Value']))"
      ],
      "execution_count": 154,
      "outputs": [
        {
          "output_type": "stream",
          "text": [
            "Metric        Value\n",
            "---------  --------\n",
            "accuracy   0.583333\n",
            "precision  0.75\n",
            "recall     0.666667\n",
            "f1         0.705882\n"
          ],
          "name": "stdout"
        }
      ]
    },
    {
      "cell_type": "markdown",
      "metadata": {
        "id": "DFCCnYXPOyhy"
      },
      "source": [
        "**Task 2:**"
      ]
    },
    {
      "cell_type": "code",
      "metadata": {
        "id": "NE3GJ1YZO0YI",
        "outputId": "590fd68a-248e-4379-c4d6-7437f064257d",
        "colab": {
          "base_uri": "https://localhost:8080/",
          "height": 204
        }
      },
      "source": [
        "import pandas as pd\n",
        "import numpy as np\n",
        "\n",
        "test = pd.read_csv('/content/test.csv')\n",
        "train = pd.read_csv('/content/train.csv')\n",
        "\n",
        "combined = [train, test]\n",
        "\n",
        "#preprocessing:\n",
        "\n",
        "#From homework 1 & 2\n",
        "\n",
        "from numpy.random import uniform\n",
        "\n",
        "# Fill null in Fare to median\n",
        "for df in combined:\n",
        "  median_fare = df['Fare'].median()\n",
        "  df['Fare'] = df['Fare'].fillna(median_fare)\n",
        "\n",
        "for t in combined:\n",
        "  train_fare = t[\"Fare\"].tolist()\n",
        "\n",
        "  for x in range(0, len(train_fare)):\n",
        "    if t.at[t.index[x], 'Fare'] > -0.001 and t.at[t.index[x], 'Fare'] <= 7.91:\n",
        "      t.at[t.index[x], 'Fare'] =  0\n",
        "    elif t.at[t.index[x], 'Fare'] > 7.91 and t.at[t.index[x], 'Fare'] <= 14.454:\n",
        "      t.at[t.index[x], 'Fare'] =  1\n",
        "    elif t.at[t.index[x], 'Fare'] > 14.454 and t.at[t.index[x], 'Fare'] <= 31.0:\n",
        "      t.at[t.index[x], 'Fare'] =  2\n",
        "    elif t.at[t.index[x], 'Fare'] > 31.0 and t.at[t.index[x], 'Fare'] <= 512.329:\n",
        "      t.at[t.index[x], 'Fare'] =  3  \n",
        "\n",
        "# Fill null in embarked and make them numerical\n",
        "embarked_to_num_map = {'S': 0, 'C': 1, 'Q': 2}\n",
        "for df in combined:\n",
        "  df['Embarked'] = df['Embarked'].fillna('S')\n",
        "  df['Embarked'] = df['Embarked'].map(embarked_to_num_map)\n",
        "\n",
        "\n",
        "# Change sex to numerical\n",
        "sex_to_num_map = {'female': 1, 'male': 0}\n",
        "for df in combined:\n",
        "  df['Sex'] = df['Sex'].map(sex_to_num_map).astype(int)\n",
        "\n",
        "# Adgust null in Age based on median and std\n",
        "for df in combined:\n",
        "  std_age = df['Age'].std()\n",
        "  median_age = df['Age'].median() \n",
        "  df['Age'] = df['Age'].fillna(uniform(std_age, median_age))\n",
        "  df.loc[ df['Age'] <= 15, 'Age'] = 0\n",
        "  df.loc[(df['Age'] > 15) & (df['Age'] <= 30), 'Age'] = 1\n",
        "  df.loc[(df['Age'] > 30) & (df['Age'] <= 45), 'Age'] = 2\n",
        "  df.loc[(df['Age'] > 45) & (df['Age'] <= 60), 'Age'] = 3\n",
        "  df.loc[ df['Age'] > 60, 'Age'] = 4  \n",
        "\n",
        "\n",
        "\n",
        "\n",
        "# feature selection\n",
        "\n",
        "drop_elements = ['PassengerId', 'Name', 'Ticket', 'Cabin', 'SibSp']\n",
        "train = train.drop(drop_elements, axis = 1)\n",
        "test  = test.drop(drop_elements, axis = 1)\n",
        "\n",
        "train.head()\n"
      ],
      "execution_count": 163,
      "outputs": [
        {
          "output_type": "execute_result",
          "data": {
            "text/html": [
              "<div>\n",
              "<style scoped>\n",
              "    .dataframe tbody tr th:only-of-type {\n",
              "        vertical-align: middle;\n",
              "    }\n",
              "\n",
              "    .dataframe tbody tr th {\n",
              "        vertical-align: top;\n",
              "    }\n",
              "\n",
              "    .dataframe thead th {\n",
              "        text-align: right;\n",
              "    }\n",
              "</style>\n",
              "<table border=\"1\" class=\"dataframe\">\n",
              "  <thead>\n",
              "    <tr style=\"text-align: right;\">\n",
              "      <th></th>\n",
              "      <th>Survived</th>\n",
              "      <th>Pclass</th>\n",
              "      <th>Sex</th>\n",
              "      <th>Age</th>\n",
              "      <th>Parch</th>\n",
              "      <th>Fare</th>\n",
              "      <th>Embarked</th>\n",
              "    </tr>\n",
              "  </thead>\n",
              "  <tbody>\n",
              "    <tr>\n",
              "      <th>0</th>\n",
              "      <td>0</td>\n",
              "      <td>3</td>\n",
              "      <td>0</td>\n",
              "      <td>1.0</td>\n",
              "      <td>0</td>\n",
              "      <td>0.0</td>\n",
              "      <td>0</td>\n",
              "    </tr>\n",
              "    <tr>\n",
              "      <th>1</th>\n",
              "      <td>1</td>\n",
              "      <td>1</td>\n",
              "      <td>1</td>\n",
              "      <td>2.0</td>\n",
              "      <td>0</td>\n",
              "      <td>3.0</td>\n",
              "      <td>1</td>\n",
              "    </tr>\n",
              "    <tr>\n",
              "      <th>2</th>\n",
              "      <td>1</td>\n",
              "      <td>3</td>\n",
              "      <td>1</td>\n",
              "      <td>1.0</td>\n",
              "      <td>0</td>\n",
              "      <td>1.0</td>\n",
              "      <td>0</td>\n",
              "    </tr>\n",
              "    <tr>\n",
              "      <th>3</th>\n",
              "      <td>1</td>\n",
              "      <td>1</td>\n",
              "      <td>1</td>\n",
              "      <td>2.0</td>\n",
              "      <td>0</td>\n",
              "      <td>3.0</td>\n",
              "      <td>0</td>\n",
              "    </tr>\n",
              "    <tr>\n",
              "      <th>4</th>\n",
              "      <td>0</td>\n",
              "      <td>3</td>\n",
              "      <td>0</td>\n",
              "      <td>2.0</td>\n",
              "      <td>0</td>\n",
              "      <td>1.0</td>\n",
              "      <td>0</td>\n",
              "    </tr>\n",
              "  </tbody>\n",
              "</table>\n",
              "</div>"
            ],
            "text/plain": [
              "   Survived  Pclass  Sex  Age  Parch  Fare  Embarked\n",
              "0         0       3    0  1.0      0   0.0         0\n",
              "1         1       1    1  2.0      0   3.0         1\n",
              "2         1       3    1  1.0      0   1.0         0\n",
              "3         1       1    1  2.0      0   3.0         0\n",
              "4         0       3    0  2.0      0   1.0         0"
            ]
          },
          "metadata": {
            "tags": []
          },
          "execution_count": 163
        }
      ]
    },
    {
      "cell_type": "code",
      "metadata": {
        "id": "Y22xlK8OPdxB",
        "outputId": "bb287948-51e5-4aa9-aaea-a61da1edf0b1",
        "colab": {
          "base_uri": "https://localhost:8080/",
          "height": 34
        }
      },
      "source": [
        "from sklearn.model_selection import train_test_split\n",
        "\n",
        "label = train[\"Survived\"]\n",
        "train_d = train.drop(\"Survived\", axis=1)\n",
        "train_data,test_data,train_labels,test_labels=train_test_split(train_d, label, test_size=0.3, random_state=42)\n",
        "\n",
        "print(train_data.shape, test_data.shape, train_labels.shape, test_labels.shape)\n"
      ],
      "execution_count": 164,
      "outputs": [
        {
          "output_type": "stream",
          "text": [
            "(623, 6) (268, 6) (623,) (268,)\n"
          ],
          "name": "stdout"
        }
      ]
    },
    {
      "cell_type": "markdown",
      "metadata": {
        "id": "YXumdQBNYI6G"
      },
      "source": [
        "**Naïve Bayes**"
      ]
    },
    {
      "cell_type": "code",
      "metadata": {
        "id": "1cCr-kSWja7w",
        "outputId": "ea68b677-cfd1-44ab-9789-e4d74fac0ba0",
        "colab": {
          "base_uri": "https://localhost:8080/",
          "height": 204
        }
      },
      "source": [
        "from sklearn.naive_bayes import GaussianNB\n",
        "from sklearn.model_selection import cross_validate, cross_val_score\n",
        "from sklearn.metrics import make_scorer, accuracy_score, precision_score, recall_score, f1_score\n",
        "\n",
        "scoring = ['accuracy', 'precision', 'recall', 'f1']\n",
        "\n",
        "classifier = GaussianNB()\n",
        "classifier.fit(train_data, train_labels)\n",
        "\n",
        "\n",
        "# cross_validate(classifier, train_d, label, cv=5)\n",
        "\n",
        "results = cross_validate(estimator=classifier,\n",
        "                                          X=train_d,\n",
        "                                          y=label,\n",
        "                                          cv=5,\n",
        "                                          scoring=scoring)\n",
        "\n",
        "df = pd.DataFrame(results)\n",
        "\n",
        "df\n"
      ],
      "execution_count": 165,
      "outputs": [
        {
          "output_type": "execute_result",
          "data": {
            "text/html": [
              "<div>\n",
              "<style scoped>\n",
              "    .dataframe tbody tr th:only-of-type {\n",
              "        vertical-align: middle;\n",
              "    }\n",
              "\n",
              "    .dataframe tbody tr th {\n",
              "        vertical-align: top;\n",
              "    }\n",
              "\n",
              "    .dataframe thead th {\n",
              "        text-align: right;\n",
              "    }\n",
              "</style>\n",
              "<table border=\"1\" class=\"dataframe\">\n",
              "  <thead>\n",
              "    <tr style=\"text-align: right;\">\n",
              "      <th></th>\n",
              "      <th>fit_time</th>\n",
              "      <th>score_time</th>\n",
              "      <th>test_accuracy</th>\n",
              "      <th>test_precision</th>\n",
              "      <th>test_recall</th>\n",
              "      <th>test_f1</th>\n",
              "    </tr>\n",
              "  </thead>\n",
              "  <tbody>\n",
              "    <tr>\n",
              "      <th>0</th>\n",
              "      <td>0.003009</td>\n",
              "      <td>0.005774</td>\n",
              "      <td>0.670391</td>\n",
              "      <td>1.000000</td>\n",
              "      <td>0.144928</td>\n",
              "      <td>0.253165</td>\n",
              "    </tr>\n",
              "    <tr>\n",
              "      <th>1</th>\n",
              "      <td>0.002931</td>\n",
              "      <td>0.003539</td>\n",
              "      <td>0.741573</td>\n",
              "      <td>0.923077</td>\n",
              "      <td>0.352941</td>\n",
              "      <td>0.510638</td>\n",
              "    </tr>\n",
              "    <tr>\n",
              "      <th>2</th>\n",
              "      <td>0.002244</td>\n",
              "      <td>0.003381</td>\n",
              "      <td>0.702247</td>\n",
              "      <td>0.941176</td>\n",
              "      <td>0.235294</td>\n",
              "      <td>0.376471</td>\n",
              "    </tr>\n",
              "    <tr>\n",
              "      <th>3</th>\n",
              "      <td>0.002464</td>\n",
              "      <td>0.004428</td>\n",
              "      <td>0.707865</td>\n",
              "      <td>0.863636</td>\n",
              "      <td>0.279412</td>\n",
              "      <td>0.422222</td>\n",
              "    </tr>\n",
              "    <tr>\n",
              "      <th>4</th>\n",
              "      <td>0.003209</td>\n",
              "      <td>0.003999</td>\n",
              "      <td>0.724719</td>\n",
              "      <td>1.000000</td>\n",
              "      <td>0.289855</td>\n",
              "      <td>0.449438</td>\n",
              "    </tr>\n",
              "  </tbody>\n",
              "</table>\n",
              "</div>"
            ],
            "text/plain": [
              "   fit_time  score_time  test_accuracy  test_precision  test_recall   test_f1\n",
              "0  0.003009    0.005774       0.670391        1.000000     0.144928  0.253165\n",
              "1  0.002931    0.003539       0.741573        0.923077     0.352941  0.510638\n",
              "2  0.002244    0.003381       0.702247        0.941176     0.235294  0.376471\n",
              "3  0.002464    0.004428       0.707865        0.863636     0.279412  0.422222\n",
              "4  0.003209    0.003999       0.724719        1.000000     0.289855  0.449438"
            ]
          },
          "metadata": {
            "tags": []
          },
          "execution_count": 165
        }
      ]
    },
    {
      "cell_type": "markdown",
      "metadata": {
        "id": "ZKiJg16qPcGs"
      },
      "source": [
        "**KNN**"
      ]
    },
    {
      "cell_type": "code",
      "metadata": {
        "id": "z73jlu2DVAMe",
        "outputId": "c94b3c2c-39c9-4488-c9c2-a4ffd64d13d7",
        "colab": {
          "base_uri": "https://localhost:8080/",
          "height": 204
        }
      },
      "source": [
        "from sklearn.neighbors import KNeighborsClassifier\n",
        "from sklearn.metrics import accuracy_score\n",
        "from sklearn.model_selection import GridSearchCV\n",
        "\n",
        "\n",
        "knn = KNeighborsClassifier()\n",
        "k_range = list(range(1,10))\n",
        "weights_options = ['uniform','distance']\n",
        "k_grid = dict(n_neighbors=k_range, weights = weights_options)\n",
        "grid = GridSearchCV(knn, k_grid, cv=10, scoring = 'precision')\n",
        "grid.fit(train_data, train_labels)\n",
        "\n",
        "# for i in ['mean_test_score', 'std_test_score', 'param_n_neighbors']:\n",
        "#   print(i,\" : \",grid.cv_results_[i][::2])\n",
        "\n",
        "results = cross_validate(estimator=classifier,\n",
        "                                          X=train_d,\n",
        "                                          y=label,\n",
        "                                          cv=5,\n",
        "                                          scoring=scoring)\n",
        "\n",
        "df = pd.DataFrame(results)\n",
        "\n",
        "df"
      ],
      "execution_count": 167,
      "outputs": [
        {
          "output_type": "execute_result",
          "data": {
            "text/html": [
              "<div>\n",
              "<style scoped>\n",
              "    .dataframe tbody tr th:only-of-type {\n",
              "        vertical-align: middle;\n",
              "    }\n",
              "\n",
              "    .dataframe tbody tr th {\n",
              "        vertical-align: top;\n",
              "    }\n",
              "\n",
              "    .dataframe thead th {\n",
              "        text-align: right;\n",
              "    }\n",
              "</style>\n",
              "<table border=\"1\" class=\"dataframe\">\n",
              "  <thead>\n",
              "    <tr style=\"text-align: right;\">\n",
              "      <th></th>\n",
              "      <th>fit_time</th>\n",
              "      <th>score_time</th>\n",
              "      <th>test_accuracy</th>\n",
              "      <th>test_precision</th>\n",
              "      <th>test_recall</th>\n",
              "      <th>test_f1</th>\n",
              "    </tr>\n",
              "  </thead>\n",
              "  <tbody>\n",
              "    <tr>\n",
              "      <th>0</th>\n",
              "      <td>0.002491</td>\n",
              "      <td>0.004123</td>\n",
              "      <td>0.670391</td>\n",
              "      <td>1.000000</td>\n",
              "      <td>0.144928</td>\n",
              "      <td>0.253165</td>\n",
              "    </tr>\n",
              "    <tr>\n",
              "      <th>1</th>\n",
              "      <td>0.002481</td>\n",
              "      <td>0.003605</td>\n",
              "      <td>0.741573</td>\n",
              "      <td>0.923077</td>\n",
              "      <td>0.352941</td>\n",
              "      <td>0.510638</td>\n",
              "    </tr>\n",
              "    <tr>\n",
              "      <th>2</th>\n",
              "      <td>0.002292</td>\n",
              "      <td>0.003355</td>\n",
              "      <td>0.702247</td>\n",
              "      <td>0.941176</td>\n",
              "      <td>0.235294</td>\n",
              "      <td>0.376471</td>\n",
              "    </tr>\n",
              "    <tr>\n",
              "      <th>3</th>\n",
              "      <td>0.002258</td>\n",
              "      <td>0.003396</td>\n",
              "      <td>0.707865</td>\n",
              "      <td>0.863636</td>\n",
              "      <td>0.279412</td>\n",
              "      <td>0.422222</td>\n",
              "    </tr>\n",
              "    <tr>\n",
              "      <th>4</th>\n",
              "      <td>0.002345</td>\n",
              "      <td>0.003605</td>\n",
              "      <td>0.724719</td>\n",
              "      <td>1.000000</td>\n",
              "      <td>0.289855</td>\n",
              "      <td>0.449438</td>\n",
              "    </tr>\n",
              "  </tbody>\n",
              "</table>\n",
              "</div>"
            ],
            "text/plain": [
              "   fit_time  score_time  test_accuracy  test_precision  test_recall   test_f1\n",
              "0  0.002491    0.004123       0.670391        1.000000     0.144928  0.253165\n",
              "1  0.002481    0.003605       0.741573        0.923077     0.352941  0.510638\n",
              "2  0.002292    0.003355       0.702247        0.941176     0.235294  0.376471\n",
              "3  0.002258    0.003396       0.707865        0.863636     0.279412  0.422222\n",
              "4  0.002345    0.003605       0.724719        1.000000     0.289855  0.449438"
            ]
          },
          "metadata": {
            "tags": []
          },
          "execution_count": 167
        }
      ]
    },
    {
      "cell_type": "code",
      "metadata": {
        "id": "ocnSEVaW0rSj",
        "outputId": "a4231785-7fd1-43c1-b213-b3c4a6de5f12",
        "colab": {
          "base_uri": "https://localhost:8080/",
          "height": 142
        }
      },
      "source": [
        "l = [\"K\", \"Mean test score\", \"Std test score\"]\n",
        "pd.DataFrame([grid.cv_results_['param_n_neighbors'][::2], grid.cv_results_['mean_test_score'][::2], grid.cv_results_['std_test_score'][::2]], l)"
      ],
      "execution_count": 168,
      "outputs": [
        {
          "output_type": "execute_result",
          "data": {
            "text/html": [
              "<div>\n",
              "<style scoped>\n",
              "    .dataframe tbody tr th:only-of-type {\n",
              "        vertical-align: middle;\n",
              "    }\n",
              "\n",
              "    .dataframe tbody tr th {\n",
              "        vertical-align: top;\n",
              "    }\n",
              "\n",
              "    .dataframe thead th {\n",
              "        text-align: right;\n",
              "    }\n",
              "</style>\n",
              "<table border=\"1\" class=\"dataframe\">\n",
              "  <thead>\n",
              "    <tr style=\"text-align: right;\">\n",
              "      <th></th>\n",
              "      <th>0</th>\n",
              "      <th>1</th>\n",
              "      <th>2</th>\n",
              "      <th>3</th>\n",
              "      <th>4</th>\n",
              "      <th>5</th>\n",
              "      <th>6</th>\n",
              "      <th>7</th>\n",
              "      <th>8</th>\n",
              "    </tr>\n",
              "  </thead>\n",
              "  <tbody>\n",
              "    <tr>\n",
              "      <th>K</th>\n",
              "      <td>1.000000</td>\n",
              "      <td>2.000000</td>\n",
              "      <td>3.000000</td>\n",
              "      <td>4.000000</td>\n",
              "      <td>5.000000</td>\n",
              "      <td>6.000000</td>\n",
              "      <td>7.000000</td>\n",
              "      <td>8.000000</td>\n",
              "      <td>9.000000</td>\n",
              "    </tr>\n",
              "    <tr>\n",
              "      <th>Mean test score</th>\n",
              "      <td>0.724021</td>\n",
              "      <td>0.854594</td>\n",
              "      <td>0.825551</td>\n",
              "      <td>0.857579</td>\n",
              "      <td>0.792550</td>\n",
              "      <td>0.841773</td>\n",
              "      <td>0.787392</td>\n",
              "      <td>0.830054</td>\n",
              "      <td>0.807920</td>\n",
              "    </tr>\n",
              "    <tr>\n",
              "      <th>Std test score</th>\n",
              "      <td>0.124112</td>\n",
              "      <td>0.089278</td>\n",
              "      <td>0.096805</td>\n",
              "      <td>0.103485</td>\n",
              "      <td>0.095576</td>\n",
              "      <td>0.071988</td>\n",
              "      <td>0.093430</td>\n",
              "      <td>0.094987</td>\n",
              "      <td>0.085838</td>\n",
              "    </tr>\n",
              "  </tbody>\n",
              "</table>\n",
              "</div>"
            ],
            "text/plain": [
              "                        0         1         2  ...         6         7         8\n",
              "K                1.000000  2.000000  3.000000  ...  7.000000  8.000000  9.000000\n",
              "Mean test score  0.724021  0.854594  0.825551  ...  0.787392  0.830054  0.807920\n",
              "Std test score   0.124112  0.089278  0.096805  ...  0.093430  0.094987  0.085838\n",
              "\n",
              "[3 rows x 9 columns]"
            ]
          },
          "metadata": {
            "tags": []
          },
          "execution_count": 168
        }
      ]
    },
    {
      "cell_type": "code",
      "metadata": {
        "id": "qZ6sIrEoXiqG",
        "outputId": "82fc4b08-36ad-4074-bdc5-c20284f92e66",
        "colab": {
          "base_uri": "https://localhost:8080/",
          "height": 618
        }
      },
      "source": [
        "%matplotlib inline\n",
        "from matplotlib import pyplot as plt\n",
        "import pandas as pd\n",
        "\n",
        "s = pd.Series(grid.cv_results_['mean_test_score'][::2], grid.cv_results_['param_n_neighbors'][::2])\n",
        "\n",
        "s.plot.bar(figsize=(20,10))\n",
        "plt.xlabel('K size')\n",
        "plt.ylabel('Accuracy')\n",
        "plt.title(\"Accuracy vs K size\"); "
      ],
      "execution_count": 169,
      "outputs": [
        {
          "output_type": "display_data",
          "data": {
            "image/png": "[encoded data removed]",
            "text/plain": [
              "<Figure size 1440x720 with 1 Axes>"
            ]
          },
          "metadata": {
            "tags": [],
            "needs_background": "light"
          }
        }
      ]
    },
    {
      "cell_type": "code",
      "metadata": {
        "id": "yQ9BM2T6TxI2",
        "outputId": "f0f12091-4756-4f5a-cf29-d84fc1316cf8",
        "colab": {
          "base_uri": "https://localhost:8080/",
          "height": 34
        }
      },
      "source": [
        "label_pred = grid.predict(test)\n",
        "\n",
        "result=clf.predict(test)\n",
        "testset = pd.read_csv('/content/test.csv')\n",
        "index=[testset['PassengerId']]\n",
        "df=pd.DataFrame(data=label_pred,index=testset['PassengerId'],columns=['Survived'])\n",
        "df.to_csv('gender_submission.csv',header=True)\n",
        "print('gender_submission.csv')"
      ],
      "execution_count": 56,
      "outputs": [
        {
          "output_type": "stream",
          "text": [
            "gender_submission.csv\n"
          ],
          "name": "stdout"
        }
      ]
    }
  ]
}