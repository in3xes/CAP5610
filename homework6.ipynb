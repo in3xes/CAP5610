{
  "nbformat": 4,
  "nbformat_minor": 0,
  "metadata": {
    "colab": {
      "name": "homework6.ipynb",
      "provenance": [],
      "collapsed_sections": [],
      "authorship_tag": "ABX9TyO+C/AZxTLh4G5Dqj0hC6aO",
      "include_colab_link": true
    },
    "kernelspec": {
      "name": "python3",
      "display_name": "Python 3"
    }
  },
  "cells": [
    {
      "cell_type": "markdown",
      "metadata": {
        "id": "view-in-github",
        "colab_type": "text"
      },
      "source": [
        "<a href=\"https://colab.research.google.com/github/in3xes/CAP5610/blob/master/homework6.ipynb\" target=\"_parent\"><img src=\"https://colab.research.google.com/assets/colab-badge.svg\" alt=\"Open In Colab\"/></a>"
      ]
    },
    {
      "cell_type": "code",
      "metadata": {
        "colab": {
          "base_uri": "https://localhost:8080/"
        },
        "id": "71NrDKN0ArrO",
        "outputId": "ceada6c7-110e-44eb-9414-d3320493fed7"
      },
      "source": [
        "!pip install surprise"
      ],
      "execution_count": 4,
      "outputs": [
        {
          "output_type": "stream",
          "text": [
            "Collecting surprise\n",
            "  Downloading https://files.pythonhosted.org/packages/61/de/e5cba8682201fcf9c3719a6fdda95693468ed061945493dea2dd37c5618b/surprise-0.1-py2.py3-none-any.whl\n",
            "Collecting scikit-surprise\n",
            "\u001b[?25l  Downloading https://files.pythonhosted.org/packages/97/37/5d334adaf5ddd65da99fc65f6507e0e4599d092ba048f4302fe8775619e8/scikit-surprise-1.1.1.tar.gz (11.8MB)\n",
            "\u001b[K     |████████████████████████████████| 11.8MB 317kB/s \n",
            "\u001b[?25hRequirement already satisfied: joblib>=0.11 in /usr/local/lib/python3.6/dist-packages (from scikit-surprise->surprise) (0.17.0)\n",
            "Requirement already satisfied: numpy>=1.11.2 in /usr/local/lib/python3.6/dist-packages (from scikit-surprise->surprise) (1.18.5)\n",
            "Requirement already satisfied: scipy>=1.0.0 in /usr/local/lib/python3.6/dist-packages (from scikit-surprise->surprise) (1.4.1)\n",
            "Requirement already satisfied: six>=1.10.0 in /usr/local/lib/python3.6/dist-packages (from scikit-surprise->surprise) (1.15.0)\n",
            "Building wheels for collected packages: scikit-surprise\n",
            "  Building wheel for scikit-surprise (setup.py) ... \u001b[?25l\u001b[?25hdone\n",
            "  Created wheel for scikit-surprise: filename=scikit_surprise-1.1.1-cp36-cp36m-linux_x86_64.whl size=1670928 sha256=c2df6594d44480babfd3a3186c6f3354703bbff68c69b1671f2fadddd6ee0eae\n",
            "  Stored in directory: /root/.cache/pip/wheels/78/9c/3d/41b419c9d2aff5b6e2b4c0fc8d25c538202834058f9ed110d0\n",
            "Successfully built scikit-surprise\n",
            "Installing collected packages: scikit-surprise, surprise\n",
            "Successfully installed scikit-surprise-1.1.1 surprise-0.1\n"
          ],
          "name": "stdout"
        }
      ]
    },
    {
      "cell_type": "code",
      "metadata": {
        "id": "3D17E27NzJKI"
      },
      "source": [
        "from surprise import SVD\n",
        "from surprise import Dataset\n",
        "from surprise.model_selection import cross_validate\n",
        "from surprise.prediction_algorithms.knns import KNNBasic, KNNWithMeans\n",
        "\n",
        "data = Dataset.load_builtin('ml-100k')"
      ],
      "execution_count": 18,
      "outputs": []
    },
    {
      "cell_type": "markdown",
      "metadata": {
        "id": "orT6n6JgFEga"
      },
      "source": [
        "# **Question 3.c**"
      ]
    },
    {
      "cell_type": "code",
      "metadata": {
        "colab": {
          "base_uri": "https://localhost:8080/"
        },
        "id": "JR6qnKJdDlV1",
        "outputId": "1f5bf4ea-d80b-4b5c-ba92-761926e1fb5b"
      },
      "source": [
        "algo = SVD(biased=False)\n",
        "\n",
        "result_pmf = cross_validate(algo, data, measures=['RMSE', 'MAE'], cv=5, verbose=True)"
      ],
      "execution_count": 101,
      "outputs": [
        {
          "output_type": "stream",
          "text": [
            "Evaluating RMSE, MAE of algorithm SVD on 5 split(s).\n",
            "\n",
            "                  Fold 1  Fold 2  Fold 3  Fold 4  Fold 5  Mean    Std     \n",
            "RMSE (testset)    0.9434  0.9536  0.9541  0.9488  0.9461  0.9492  0.0042  \n",
            "MAE (testset)     0.7441  0.7518  0.7501  0.7440  0.7444  0.7469  0.0034  \n",
            "Fit time          5.33    5.33    5.35    5.35    5.39    5.35    0.02    \n",
            "Test time         0.13    0.14    0.14    0.38    0.14    0.19    0.10    \n"
          ],
          "name": "stdout"
        }
      ]
    },
    {
      "cell_type": "code",
      "metadata": {
        "colab": {
          "base_uri": "https://localhost:8080/"
        },
        "id": "MEYu1dVdQDlY",
        "outputId": "0534f1df-7da7-4244-ecaf-94faff30da70"
      },
      "source": [
        "sim_options_user_msd = {'name': 'MSD', 'user_based': True}\n",
        "\n",
        "algo_CF_user_msd = KNNWithMeans(sim_options=sim_options_user_msd, verbose=False)\n",
        "\n",
        "result_CF_user_msd = cross_validate(algo_CF_user_msd, data, measures=['RMSE', 'MAE'], cv=5, verbose=True)"
      ],
      "execution_count": 102,
      "outputs": [
        {
          "output_type": "stream",
          "text": [
            "Evaluating RMSE, MAE of algorithm KNNWithMeans on 5 split(s).\n",
            "\n",
            "                  Fold 1  Fold 2  Fold 3  Fold 4  Fold 5  Mean    Std     \n",
            "RMSE (testset)    0.9562  0.9452  0.9489  0.9479  0.9520  0.9500  0.0037  \n",
            "MAE (testset)     0.7537  0.7470  0.7478  0.7474  0.7484  0.7489  0.0025  \n",
            "Fit time          0.55    0.58    0.58    0.60    0.60    0.58    0.02    \n",
            "Test time         4.44    4.18    4.23    4.48    4.28    4.32    0.12    \n"
          ],
          "name": "stdout"
        }
      ]
    },
    {
      "cell_type": "code",
      "metadata": {
        "colab": {
          "base_uri": "https://localhost:8080/"
        },
        "id": "4ZZTjhwNQb9w",
        "outputId": "6b37abfb-d6c6-42ec-b5c9-ee2f0329775b"
      },
      "source": [
        "sim_options_item_msd = {'name': 'MSD', 'user_based': False}\n",
        "\n",
        "algo_CF_item_msd = KNNWithMeans(sim_options=sim_options_item_msd, verbose=False)\n",
        "\n",
        "result_CF_item_msd = cross_validate(algo_CF_item_msd, data, measures=['RMSE', 'MAE'], cv=5, verbose=True)"
      ],
      "execution_count": 103,
      "outputs": [
        {
          "output_type": "stream",
          "text": [
            "Evaluating RMSE, MAE of algorithm KNNWithMeans on 5 split(s).\n",
            "\n",
            "                  Fold 1  Fold 2  Fold 3  Fold 4  Fold 5  Mean    Std     \n",
            "RMSE (testset)    0.9363  0.9378  0.9272  0.9318  0.9350  0.9336  0.0038  \n",
            "MAE (testset)     0.7338  0.7360  0.7293  0.7337  0.7324  0.7331  0.0022  \n",
            "Fit time          0.79    0.83    0.86    0.84    0.86    0.83    0.03    \n",
            "Test time         4.95    5.09    4.86    5.12    4.97    5.00    0.10    \n"
          ],
          "name": "stdout"
        }
      ]
    },
    {
      "cell_type": "markdown",
      "metadata": {
        "id": "qdjEymbVLtGu"
      },
      "source": [
        "# **Question 3.d**"
      ]
    },
    {
      "cell_type": "code",
      "metadata": {
        "colab": {
          "base_uri": "https://localhost:8080/",
          "height": 354
        },
        "id": "YKOMi9sWFCkM",
        "outputId": "c444b542-bc40-42bb-a03d-3072038084ef"
      },
      "source": [
        "from statistics import mean\n",
        "import matplotlib.pyplot as plt\n",
        "\n",
        "def get_perf(res):\n",
        "  return (mean(res)-0.9)*10000\n",
        "\n",
        "\n",
        "perf_mean = [get_perf(result_CF_user_msd['test_rmse']), get_perf(result_CF_item_msd['test_rmse']), get_perf(result_pmf['test_rmse'])]\n",
        "\n",
        "print(perf_mean)\n",
        "\n",
        "algos = ['CF_User', 'CF_item', 'PMF']\n",
        "\n",
        "fig = plt.figure()\n",
        "ax = fig.add_axes([0,0,1,1])\n",
        "ax.bar(algos,perf_mean)\n",
        "plt.show()"
      ],
      "execution_count": 104,
      "outputs": [
        {
          "output_type": "stream",
          "text": [
            "[500.44298850642656, 336.0470168379004, 492.0211812183972]\n"
          ],
          "name": "stdout"
        },
        {
          "output_type": "display_data",
          "data": {
            "image/png": "[encoded data removed]",
            "text/plain": [
              "<Figure size 432x288 with 1 Axes>"
            ]
          },
          "metadata": {
            "tags": [],
            "needs_background": "light"
          }
        }
      ]
    },
    {
      "cell_type": "code",
      "metadata": {
        "colab": {
          "base_uri": "https://localhost:8080/",
          "height": 354
        },
        "id": "jUWsst9FIRec",
        "outputId": "021f6052-250b-402c-c0d1-6e8675ad302d"
      },
      "source": [
        "from statistics import mean\n",
        "import matplotlib.pyplot as plt\n",
        "\n",
        "def get_perf(res):\n",
        "  return (mean(res)-0.7)\n",
        "\n",
        "\n",
        "perf_mean = [get_perf(result_CF_user_msd['test_mae']), get_perf(result_CF_item_msd['test_mae']), get_perf(result_pmf['test_mae'])]\n",
        "\n",
        "print(perf_mean)\n",
        "\n",
        "algos = ['CF_User', 'CF_item', 'PMF']\n",
        "\n",
        "fig = plt.figure()\n",
        "ax = fig.add_axes([0,0,1,1])\n",
        "ax.bar(algos,perf_mean)\n",
        "plt.show()"
      ],
      "execution_count": 105,
      "outputs": [
        {
          "output_type": "stream",
          "text": [
            "[0.04886146083939358, 0.0330541689832301, 0.04689803646866353]\n"
          ],
          "name": "stdout"
        },
        {
          "output_type": "display_data",
          "data": {
            "image/png": "[encoded data removed]",
            "text/plain": [
              "<Figure size 432x288 with 1 Axes>"
            ]
          },
          "metadata": {
            "tags": [],
            "needs_background": "light"
          }
        }
      ]
    },
    {
      "cell_type": "markdown",
      "metadata": {
        "id": "IJjIEo9HLSBd"
      },
      "source": [
        "# **Question 3.e**"
      ]
    },
    {
      "cell_type": "code",
      "metadata": {
        "colab": {
          "base_uri": "https://localhost:8080/"
        },
        "id": "IyzUhSOkEv6g",
        "outputId": "e100b3e6-49ec-48ea-980e-1bc7687eed0f"
      },
      "source": [
        "sim_options_user = {'name': 'cosine', 'user_based': True}\n",
        "\n",
        "algo_CF_user = KNNWithMeans(sim_options=sim_options_user, verbose=False)\n",
        "\n",
        "result_CF_user_cosine = cross_validate(algo_CF_user, data, measures=['RMSE', 'MAE'], cv=5, verbose=True)"
      ],
      "execution_count": 106,
      "outputs": [
        {
          "output_type": "stream",
          "text": [
            "Evaluating RMSE, MAE of algorithm KNNWithMeans on 5 split(s).\n",
            "\n",
            "                  Fold 1  Fold 2  Fold 3  Fold 4  Fold 5  Mean    Std     \n",
            "RMSE (testset)    0.9566  0.9593  0.9486  0.9681  0.9474  0.9560  0.0076  \n",
            "MAE (testset)     0.7528  0.7576  0.7488  0.7670  0.7479  0.7548  0.0070  \n",
            "Fit time          1.24    1.25    1.21    1.23    1.24    1.23    0.01    \n",
            "Test time         4.32    4.60    4.31    4.52    4.32    4.41    0.12    \n"
          ],
          "name": "stdout"
        }
      ]
    },
    {
      "cell_type": "code",
      "metadata": {
        "colab": {
          "base_uri": "https://localhost:8080/"
        },
        "id": "nxcD3KzDHGKZ",
        "outputId": "95694cfc-1141-4c45-99f0-7207d5253c1c"
      },
      "source": [
        "sim_options_item = {'name': 'cosine', 'user_based': False}\n",
        "\n",
        "algo_CF_item = KNNWithMeans(sim_options=sim_options_item, verbose=False)\n",
        "\n",
        "result_CF_item_cosine = cross_validate(algo_CF_item, data, measures=['RMSE', 'MAE'], cv=5, verbose=True)"
      ],
      "execution_count": 107,
      "outputs": [
        {
          "output_type": "stream",
          "text": [
            "Evaluating RMSE, MAE of algorithm KNNWithMeans on 5 split(s).\n",
            "\n",
            "                  Fold 1  Fold 2  Fold 3  Fold 4  Fold 5  Mean    Std     \n",
            "RMSE (testset)    0.9452  0.9457  0.9337  0.9467  0.9434  0.9429  0.0047  \n",
            "MAE (testset)     0.7404  0.7432  0.7348  0.7438  0.7438  0.7412  0.0035  \n",
            "Fit time          2.01    1.98    2.05    2.02    2.03    2.02    0.02    \n",
            "Test time         4.92    5.17    4.94    4.86    5.23    5.02    0.15    \n"
          ],
          "name": "stdout"
        }
      ]
    },
    {
      "cell_type": "code",
      "metadata": {
        "colab": {
          "base_uri": "https://localhost:8080/"
        },
        "id": "gGJnaUkmQhbo",
        "outputId": "eb40511a-438c-48e7-f4d9-bc6c1082cf45"
      },
      "source": [
        "sim_options_user_pearson = {'name': 'pearson_baseline', 'user_based': True}\n",
        "\n",
        "algo_CF_user_pearson = KNNWithMeans(sim_options=sim_options_user_pearson, verbose=False)\n",
        "\n",
        "result_CF_user_pearson = cross_validate(algo_CF_user_pearson, data, measures=['RMSE', 'MAE'], cv=5, verbose=True)"
      ],
      "execution_count": 108,
      "outputs": [
        {
          "output_type": "stream",
          "text": [
            "Evaluating RMSE, MAE of algorithm KNNWithMeans on 5 split(s).\n",
            "\n",
            "                  Fold 1  Fold 2  Fold 3  Fold 4  Fold 5  Mean    Std     \n",
            "RMSE (testset)    0.9365  0.9363  0.9321  0.9318  0.9431  0.9360  0.0041  \n",
            "MAE (testset)     0.7305  0.7306  0.7257  0.7264  0.7346  0.7296  0.0032  \n",
            "Fit time          1.65    1.76    1.70    1.67    1.71    1.70    0.04    \n",
            "Test time         4.05    4.06    4.32    4.05    4.12    4.12    0.11    \n"
          ],
          "name": "stdout"
        }
      ]
    },
    {
      "cell_type": "code",
      "metadata": {
        "colab": {
          "base_uri": "https://localhost:8080/"
        },
        "id": "bxiNvS6xQwKQ",
        "outputId": "14656ee5-68a5-40d0-ea6d-7d521b769a1e"
      },
      "source": [
        "sim_options_item_pearson = {'name': 'pearson_baseline', 'user_based': False}\n",
        "\n",
        "algo_CF_item_pearson = KNNWithMeans(sim_options=sim_options_item_pearson, verbose=False)\n",
        "\n",
        "result_CF_item_pearson = cross_validate(algo_CF_item_pearson, data, measures=['RMSE', 'MAE'], cv=5, verbose=True)"
      ],
      "execution_count": 109,
      "outputs": [
        {
          "output_type": "stream",
          "text": [
            "Evaluating RMSE, MAE of algorithm KNNWithMeans on 5 split(s).\n",
            "\n",
            "                  Fold 1  Fold 2  Fold 3  Fold 4  Fold 5  Mean    Std     \n",
            "RMSE (testset)    0.9256  0.9202  0.9255  0.9193  0.9165  0.9214  0.0036  \n",
            "MAE (testset)     0.7258  0.7207  0.7217  0.7200  0.7136  0.7204  0.0039  \n",
            "Fit time          2.28    2.35    2.28    2.27    2.26    2.29    0.03    \n",
            "Test time         4.70    4.68    4.96    4.70    4.96    4.80    0.13    \n"
          ],
          "name": "stdout"
        }
      ]
    },
    {
      "cell_type": "code",
      "metadata": {
        "colab": {
          "base_uri": "https://localhost:8080/",
          "height": 353
        },
        "id": "vQGvJp_jJdPT",
        "outputId": "c8a6a768-7207-4e9a-a7d0-45830c6f42d5"
      },
      "source": [
        "from statistics import mean\n",
        "import matplotlib.pyplot as plt\n",
        "\n",
        "def get_perf(res):\n",
        "  return (mean(res)-0.9)*10000\n",
        "\n",
        "\n",
        "perf_mean = [get_perf(result_CF_user_msd['test_rmse']), get_perf(result_CF_user_cosine['test_rmse']), get_perf(result_CF_user_pearson['test_rmse'])]\n",
        "\n",
        "print(perf_mean)\n",
        "\n",
        "algos = ['MSD', 'Cosine', 'Pearson']\n",
        "\n",
        "fig = plt.figure()\n",
        "ax = fig.add_axes([0,0,1,1])\n",
        "ax.bar(algos,perf_mean)\n",
        "plt.show()"
      ],
      "execution_count": 110,
      "outputs": [
        {
          "output_type": "stream",
          "text": [
            "[500.44298850642656, 559.833264470665, 359.5838682317243]\n"
          ],
          "name": "stdout"
        },
        {
          "output_type": "display_data",
          "data": {
            "image/png": "[encoded data removed]",
            "text/plain": [
              "<Figure size 432x288 with 1 Axes>"
            ]
          },
          "metadata": {
            "tags": [],
            "needs_background": "light"
          }
        }
      ]
    },
    {
      "cell_type": "code",
      "metadata": {
        "colab": {
          "base_uri": "https://localhost:8080/",
          "height": 353
        },
        "id": "w-QUu78EJ1CM",
        "outputId": "3c178f83-28c2-420c-f65f-8f36b99a1e44"
      },
      "source": [
        "from statistics import mean\n",
        "import matplotlib.pyplot as plt\n",
        "\n",
        "def get_perf(res):\n",
        "  return (mean(res)-0.9)*10000\n",
        "\n",
        "\n",
        "perf_mean = [get_perf(result_CF_item_msd['test_rmse']), get_perf(result_CF_item_cosine['test_rmse']), get_perf(result_CF_item_pearson['test_rmse'])]\n",
        "\n",
        "print(perf_mean)\n",
        "\n",
        "algos = ['MSD', 'Cosine', 'Pearson']\n",
        "\n",
        "fig = plt.figure()\n",
        "ax = fig.add_axes([0,0,1,1])\n",
        "ax.bar(algos,perf_mean)\n",
        "plt.show()"
      ],
      "execution_count": 111,
      "outputs": [
        {
          "output_type": "stream",
          "text": [
            "[336.0470168379004, 429.4019746794597, 214.39899508045147]\n"
          ],
          "name": "stdout"
        },
        {
          "output_type": "display_data",
          "data": {
            "image/png": "[encoded data removed]",
            "text/plain": [
              "<Figure size 432x288 with 1 Axes>"
            ]
          },
          "metadata": {
            "tags": [],
            "needs_background": "light"
          }
        }
      ]
    },
    {
      "cell_type": "markdown",
      "metadata": {
        "id": "-ra1HAMrLjWN"
      },
      "source": [
        "# **Question 3.f**"
      ]
    },
    {
      "cell_type": "code",
      "metadata": {
        "colab": {
          "base_uri": "https://localhost:8080/",
          "height": 1000
        },
        "id": "5KzB7PKDMaiM",
        "outputId": "830f86dc-82c1-4c09-d82a-3ab0eb40d7c0"
      },
      "source": [
        "from surprise.model_selection import train_test_split\n",
        "from surprise import accuracy\n",
        "\n",
        "\n",
        "trainset, testset = train_test_split(data, test_size=.25)\n",
        "\n",
        "results_k_user = []\n",
        "k = [x*5 for x in range(1, 31)]\n",
        "\n",
        "for input_k in k:\n",
        "  print(\"K : \", input_k)\n",
        "  algo = KNNWithMeans(k=input_k, sim_options=sim_options_user_msd, verbose=False)\n",
        "\n",
        "  algo.fit(trainset)\n",
        "  predictions = algo.test(testset)\n",
        "\n",
        "  results_k_user.append((accuracy.rmse(predictions)-0.9)*10000)\n",
        "\n",
        "fig = plt.figure()\n",
        "ax = fig.add_axes([0,0,1,1])\n",
        "ax.plot(k,results_k_user)\n",
        "plt.show()"
      ],
      "execution_count": 117,
      "outputs": [
        {
          "output_type": "stream",
          "text": [
            "K :  5\n",
            "RMSE: 1.0156\n",
            "K :  10\n",
            "RMSE: 0.9786\n",
            "K :  15\n",
            "RMSE: 0.9645\n",
            "K :  20\n",
            "RMSE: 0.9597\n",
            "K :  25\n",
            "RMSE: 0.9560\n",
            "K :  30\n",
            "RMSE: 0.9552\n",
            "K :  35\n",
            "RMSE: 0.9542\n",
            "K :  40\n",
            "RMSE: 0.9538\n",
            "K :  45\n",
            "RMSE: 0.9535\n",
            "K :  50\n",
            "RMSE: 0.9534\n",
            "K :  55\n",
            "RMSE: 0.9531\n",
            "K :  60\n",
            "RMSE: 0.9532\n",
            "K :  65\n",
            "RMSE: 0.9532\n",
            "K :  70\n",
            "RMSE: 0.9532\n",
            "K :  75\n",
            "RMSE: 0.9535\n",
            "K :  80\n",
            "RMSE: 0.9536\n",
            "K :  85\n",
            "RMSE: 0.9537\n",
            "K :  90\n",
            "RMSE: 0.9540\n",
            "K :  95\n",
            "RMSE: 0.9542\n",
            "K :  100\n",
            "RMSE: 0.9545\n",
            "K :  105\n",
            "RMSE: 0.9546\n",
            "K :  110\n",
            "RMSE: 0.9549\n",
            "K :  115\n",
            "RMSE: 0.9551\n",
            "K :  120\n",
            "RMSE: 0.9553\n",
            "K :  125\n",
            "RMSE: 0.9554\n",
            "K :  130\n",
            "RMSE: 0.9556\n",
            "K :  135\n",
            "RMSE: 0.9558\n",
            "K :  140\n",
            "RMSE: 0.9559\n",
            "K :  145\n",
            "RMSE: 0.9560\n",
            "K :  150\n",
            "RMSE: 0.9562\n"
          ],
          "name": "stdout"
        },
        {
          "output_type": "display_data",
          "data": {
            "image/png": "[encoded data removed]",
            "text/plain": [
              "<Figure size 432x288 with 1 Axes>"
            ]
          },
          "metadata": {
            "tags": [],
            "needs_background": "light"
          }
        }
      ]
    },
    {
      "cell_type": "code",
      "metadata": {
        "colab": {
          "base_uri": "https://localhost:8080/",
          "height": 1000
        },
        "id": "m7bv3AhkNwsN",
        "outputId": "19508c1b-46e6-4c35-b739-1f7b58424bdc"
      },
      "source": [
        "from surprise.model_selection import train_test_split\n",
        "from surprise import accuracy\n",
        "\n",
        "\n",
        "trainset, testset = train_test_split(data, test_size=.25)\n",
        "\n",
        "results_k_item = []\n",
        "k = [x*5 for x in range(1, 31)]\n",
        "\n",
        "for input_k in k:\n",
        "  print(\"K : \", input_k)\n",
        "\n",
        "  algo = KNNWithMeans(k=input_k, sim_options=sim_options_item_msd, verbose=False)\n",
        "\n",
        "  algo.fit(trainset)\n",
        "  predictions = algo.test(testset)\n",
        "\n",
        "  results_k_item.append((accuracy.rmse(predictions)-0.9)*10000)\n",
        "\n",
        "fig = plt.figure()\n",
        "ax = fig.add_axes([0,0,1,1])\n",
        "ax.plot(k, results_k_item)\n",
        "plt.show()"
      ],
      "execution_count": 118,
      "outputs": [
        {
          "output_type": "stream",
          "text": [
            "K :  5\n",
            "RMSE: 1.0184\n",
            "K :  10\n",
            "RMSE: 0.9705\n",
            "K :  15\n",
            "RMSE: 0.9560\n",
            "K :  20\n",
            "RMSE: 0.9494\n",
            "K :  25\n",
            "RMSE: 0.9450\n",
            "K :  30\n",
            "RMSE: 0.9423\n",
            "K :  35\n",
            "RMSE: 0.9411\n",
            "K :  40\n",
            "RMSE: 0.9401\n",
            "K :  45\n",
            "RMSE: 0.9397\n",
            "K :  50\n",
            "RMSE: 0.9394\n",
            "K :  55\n",
            "RMSE: 0.9389\n",
            "K :  60\n",
            "RMSE: 0.9390\n",
            "K :  65\n",
            "RMSE: 0.9392\n",
            "K :  70\n",
            "RMSE: 0.9393\n",
            "K :  75\n",
            "RMSE: 0.9398\n",
            "K :  80\n",
            "RMSE: 0.9401\n",
            "K :  85\n",
            "RMSE: 0.9405\n",
            "K :  90\n",
            "RMSE: 0.9406\n",
            "K :  95\n",
            "RMSE: 0.9409\n",
            "K :  100\n",
            "RMSE: 0.9411\n",
            "K :  105\n",
            "RMSE: 0.9414\n",
            "K :  110\n",
            "RMSE: 0.9417\n",
            "K :  115\n",
            "RMSE: 0.9419\n",
            "K :  120\n",
            "RMSE: 0.9421\n",
            "K :  125\n",
            "RMSE: 0.9424\n",
            "K :  130\n",
            "RMSE: 0.9426\n",
            "K :  135\n",
            "RMSE: 0.9428\n",
            "K :  140\n",
            "RMSE: 0.9431\n",
            "K :  145\n",
            "RMSE: 0.9432\n",
            "K :  150\n",
            "RMSE: 0.9435\n"
          ],
          "name": "stdout"
        },
        {
          "output_type": "display_data",
          "data": {
            "image/png": "[encoded data removed]",
            "text/plain": [
              "<Figure size 432x288 with 1 Axes>"
            ]
          },
          "metadata": {
            "tags": [],
            "needs_background": "light"
          }
        }
      ]
    },
    {
      "cell_type": "markdown",
      "metadata": {
        "id": "3XiP090SLkKU"
      },
      "source": [
        "# **Question 3.g**"
      ]
    },
    {
      "cell_type": "code",
      "metadata": {
        "id": "Nzi_nicFVeTF"
      },
      "source": [
        "from surprise.model_selection import GridSearchCV\n",
        "\n",
        "k = [x*5 for x in range(1, 31)]\n",
        "\n",
        "param_grid_user = {'k': k,\n",
        "              'sim_options': {'user_based': [True]},\n",
        "              'verbose' : [False]\n",
        "              }\n",
        "\n",
        "gs_user = GridSearchCV(KNNWithMeans, param_grid_user, measures=['rmse'], cv=3)\n",
        "\n",
        "gs_user.fit(data)\n",
        "\n",
        "print(gs_user.best_score['rmse'])\n",
        "print(gs_user.best_params['rmse'])"
      ],
      "execution_count": null,
      "outputs": []
    },
    {
      "cell_type": "code",
      "metadata": {
        "id": "IsAAnHvgTeXi"
      },
      "source": [
        "from surprise.model_selection import GridSearchCV\n",
        "\n",
        "k = [x*5 for x in range(1, 31)]\n",
        "param_grid_item = {'k': k,\n",
        "              'sim_options': {'user_based': [False]},\n",
        "              'verbose' : [False]\n",
        "              }\n",
        "\n",
        "gs_item = GridSearchCV(KNNWithMeans, param_grid_item, measures=['rmse', 'mae'], cv=3)\n",
        "\n",
        "gs_item.fit(data)\n",
        "\n",
        "print(gs_item.best_score['rmse'])\n",
        "print(gs_item.best_params['rmse'])"
      ],
      "execution_count": null,
      "outputs": []
    }
  ]
}