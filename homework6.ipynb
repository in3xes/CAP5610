{
  "nbformat": 4,
  "nbformat_minor": 0,
  "metadata": {
    "colab": {
      "name": "homework6.ipynb",
      "provenance": [],
      "collapsed_sections": [],
      "toc_visible": true,
      "authorship_tag": "ABX9TyNQJSRB0+PrCbKzq2DRudZ7",
      "include_colab_link": true
    },
    "kernelspec": {
      "name": "python3",
      "display_name": "Python 3"
    }
  },
  "cells": [
    {
      "cell_type": "markdown",
      "metadata": {
        "id": "view-in-github",
        "colab_type": "text"
      },
      "source": [
        "<a href=\"https://colab.research.google.com/github/in3xes/CAP5610/blob/master/homework6.ipynb\" target=\"_parent\"><img src=\"https://colab.research.google.com/assets/colab-badge.svg\" alt=\"Open In Colab\"/></a>"
      ]
    },
    {
      "cell_type": "code",
      "metadata": {
        "colab": {
          "base_uri": "https://localhost:8080/"
        },
        "id": "71NrDKN0ArrO",
        "outputId": "7bd16abb-b28b-40a9-8ff3-d2f3ead98d65"
      },
      "source": [
        "!pip install surprise"
      ],
      "execution_count": 2,
      "outputs": [
        {
          "output_type": "stream",
          "text": [
            "Collecting surprise\n",
            "  Downloading https://files.pythonhosted.org/packages/61/de/e5cba8682201fcf9c3719a6fdda95693468ed061945493dea2dd37c5618b/surprise-0.1-py2.py3-none-any.whl\n",
            "Collecting scikit-surprise\n",
            "\u001b[?25l  Downloading https://files.pythonhosted.org/packages/97/37/5d334adaf5ddd65da99fc65f6507e0e4599d092ba048f4302fe8775619e8/scikit-surprise-1.1.1.tar.gz (11.8MB)\n",
            "\u001b[K     |████████████████████████████████| 11.8MB 5.2MB/s \n",
            "\u001b[?25hRequirement already satisfied: joblib>=0.11 in /usr/local/lib/python3.6/dist-packages (from scikit-surprise->surprise) (0.17.0)\n",
            "Requirement already satisfied: numpy>=1.11.2 in /usr/local/lib/python3.6/dist-packages (from scikit-surprise->surprise) (1.18.5)\n",
            "Requirement already satisfied: scipy>=1.0.0 in /usr/local/lib/python3.6/dist-packages (from scikit-surprise->surprise) (1.4.1)\n",
            "Requirement already satisfied: six>=1.10.0 in /usr/local/lib/python3.6/dist-packages (from scikit-surprise->surprise) (1.15.0)\n",
            "Building wheels for collected packages: scikit-surprise\n",
            "  Building wheel for scikit-surprise (setup.py) ... \u001b[?25l\u001b[?25hdone\n",
            "  Created wheel for scikit-surprise: filename=scikit_surprise-1.1.1-cp36-cp36m-linux_x86_64.whl size=1670916 sha256=31ccf3ed70542ba1154be0ecd4f36465d0d195fbda7b9867490c233992c1e3c9\n",
            "  Stored in directory: /root/.cache/pip/wheels/78/9c/3d/41b419c9d2aff5b6e2b4c0fc8d25c538202834058f9ed110d0\n",
            "Successfully built scikit-surprise\n",
            "Installing collected packages: scikit-surprise, surprise\n",
            "Successfully installed scikit-surprise-1.1.1 surprise-0.1\n"
          ],
          "name": "stdout"
        }
      ]
    },
    {
      "cell_type": "code",
      "metadata": {
        "id": "3D17E27NzJKI"
      },
      "source": [
        "from surprise import SVD\n",
        "from surprise import Dataset\n",
        "from surprise.model_selection import cross_validate\n",
        "from surprise.prediction_algorithms.knns import KNNBasic, KNNWithMeans\n",
        "from surprise import Reader\n",
        "\n",
        "import pandas as pd\n",
        "\n",
        "df = pd.read_csv('/content/ratings_small.csv')\n",
        "reader = Reader(rating_scale=(1, 5))\n",
        "data = Dataset.load_from_df(df[['userId', 'movieId', 'rating']], reader)"
      ],
      "execution_count": 10,
      "outputs": []
    },
    {
      "cell_type": "markdown",
      "metadata": {
        "id": "orT6n6JgFEga"
      },
      "source": [
        "# **Question 3.c**"
      ]
    },
    {
      "cell_type": "code",
      "metadata": {
        "colab": {
          "base_uri": "https://localhost:8080/"
        },
        "id": "JR6qnKJdDlV1",
        "outputId": "8fef39ec-933d-496b-966d-738b3873ab33"
      },
      "source": [
        "algo = SVD(biased=False)\n",
        "\n",
        "result_pmf = cross_validate(algo, data, measures=['RMSE', 'MAE'], cv=5, verbose=True)"
      ],
      "execution_count": 11,
      "outputs": [
        {
          "output_type": "stream",
          "text": [
            "Evaluating RMSE, MAE of algorithm SVD on 5 split(s).\n",
            "\n",
            "                  Fold 1  Fold 2  Fold 3  Fold 4  Fold 5  Mean    Std     \n",
            "RMSE (testset)    1.0121  1.0011  1.0040  1.0092  1.0016  1.0056  0.0044  \n",
            "MAE (testset)     0.7841  0.7731  0.7745  0.7765  0.7737  0.7764  0.0040  \n",
            "Fit time          4.89    4.85    4.84    4.96    4.85    4.88    0.05    \n",
            "Test time         0.19    0.12    0.12    0.19    0.19    0.16    0.03    \n"
          ],
          "name": "stdout"
        }
      ]
    },
    {
      "cell_type": "code",
      "metadata": {
        "colab": {
          "base_uri": "https://localhost:8080/"
        },
        "id": "MEYu1dVdQDlY",
        "outputId": "5f083d01-2957-4040-bf6f-92761a6dbdec"
      },
      "source": [
        "sim_options_user_msd = {'name': 'MSD', 'user_based': True}\n",
        "\n",
        "algo_CF_user_msd = KNNWithMeans(sim_options=sim_options_user_msd, verbose=False)\n",
        "\n",
        "result_CF_user_msd = cross_validate(algo_CF_user_msd, data, measures=['RMSE', 'MAE'], cv=5, verbose=True)"
      ],
      "execution_count": 12,
      "outputs": [
        {
          "output_type": "stream",
          "text": [
            "Evaluating RMSE, MAE of algorithm KNNWithMeans on 5 split(s).\n",
            "\n",
            "                  Fold 1  Fold 2  Fold 3  Fold 4  Fold 5  Mean    Std     \n",
            "RMSE (testset)    0.9193  0.9256  0.9133  0.9260  0.9151  0.9199  0.0052  \n",
            "MAE (testset)     0.7031  0.7085  0.7022  0.7092  0.6989  0.7044  0.0039  \n",
            "Fit time          0.15    0.18    0.20    0.20    0.19    0.19    0.02    \n",
            "Test time         1.94    1.78    1.90    1.94    1.80    1.87    0.07    \n"
          ],
          "name": "stdout"
        }
      ]
    },
    {
      "cell_type": "code",
      "metadata": {
        "colab": {
          "base_uri": "https://localhost:8080/"
        },
        "id": "4ZZTjhwNQb9w",
        "outputId": "0fb98bb5-02f1-40d2-9dcf-24253e174ae6"
      },
      "source": [
        "sim_options_item_msd = {'name': 'MSD', 'user_based': False}\n",
        "\n",
        "algo_CF_item_msd = KNNWithMeans(sim_options=sim_options_item_msd, verbose=False)\n",
        "\n",
        "result_CF_item_msd = cross_validate(algo_CF_item_msd, data, measures=['RMSE', 'MAE'], cv=5, verbose=True)"
      ],
      "execution_count": 13,
      "outputs": [
        {
          "output_type": "stream",
          "text": [
            "Evaluating RMSE, MAE of algorithm KNNWithMeans on 5 split(s).\n",
            "\n",
            "                  Fold 1  Fold 2  Fold 3  Fold 4  Fold 5  Mean    Std     \n",
            "RMSE (testset)    0.9140  0.9169  0.9232  0.9163  0.9118  0.9164  0.0038  \n",
            "MAE (testset)     0.6998  0.7022  0.7072  0.7034  0.6981  0.7021  0.0031  \n",
            "Fit time          5.04    4.64    4.10    4.07    4.44    4.46    0.36    \n",
            "Test time         6.99    7.36    7.33    7.11    7.31    7.22    0.15    \n"
          ],
          "name": "stdout"
        }
      ]
    },
    {
      "cell_type": "markdown",
      "metadata": {
        "id": "qdjEymbVLtGu"
      },
      "source": [
        "# **Question 3.d**"
      ]
    },
    {
      "cell_type": "code",
      "metadata": {
        "colab": {
          "base_uri": "https://localhost:8080/",
          "height": 354
        },
        "id": "YKOMi9sWFCkM",
        "outputId": "3a43af37-516a-4b19-d30e-f25984ab2a5f"
      },
      "source": [
        "from statistics import mean\n",
        "import matplotlib.pyplot as plt\n",
        "\n",
        "def get_perf(res):\n",
        "  return (mean(res)-0.9)\n",
        "\n",
        "\n",
        "perf_mean = [get_perf(result_CF_user_msd['test_rmse']), get_perf(result_CF_item_msd['test_rmse']), get_perf(result_pmf['test_rmse'])]\n",
        "\n",
        "print(perf_mean)\n",
        "\n",
        "algos = ['CF_User', 'CF_item', 'PMF']\n",
        "\n",
        "fig = plt.figure()\n",
        "ax = fig.add_axes([0,0,1,1])\n",
        "ax.bar(algos,perf_mean)\n",
        "plt.show()"
      ],
      "execution_count": 14,
      "outputs": [
        {
          "output_type": "stream",
          "text": [
            "[0.01987422699432817, 0.016429514528135125, 0.10559651016552085]\n"
          ],
          "name": "stdout"
        },
        {
          "output_type": "display_data",
          "data": {
            "image/png": "[encoded data removed]",
            "text/plain": [
              "<Figure size 432x288 with 1 Axes>"
            ]
          },
          "metadata": {
            "tags": [],
            "needs_background": "light"
          }
        }
      ]
    },
    {
      "cell_type": "code",
      "metadata": {
        "colab": {
          "base_uri": "https://localhost:8080/",
          "height": 357
        },
        "id": "jUWsst9FIRec",
        "outputId": "7166e7c8-d261-4328-8eed-5c10fc822674"
      },
      "source": [
        "from statistics import mean\n",
        "import matplotlib.pyplot as plt\n",
        "\n",
        "def get_perf(res):\n",
        "  return (mean(res)-0.6)\n",
        "\n",
        "\n",
        "perf_mean = [get_perf(result_CF_user_msd['test_mae']), get_perf(result_CF_item_msd['test_mae']), get_perf(result_pmf['test_mae'])]\n",
        "\n",
        "print(perf_mean)\n",
        "\n",
        "algos = ['CF_User', 'CF_item', 'PMF']\n",
        "\n",
        "fig = plt.figure()\n",
        "ax = fig.add_axes([0,0,1,1])\n",
        "ax.bar(algos,perf_mean)\n",
        "plt.show()"
      ],
      "execution_count": 15,
      "outputs": [
        {
          "output_type": "stream",
          "text": [
            "[0.004370507201240881, 0.0021280501790270634, 0.07637489402306541]\n"
          ],
          "name": "stdout"
        },
        {
          "output_type": "display_data",
          "data": {
            "image/png": "[encoded data removed]",
            "text/plain": [
              "<Figure size 432x288 with 1 Axes>"
            ]
          },
          "metadata": {
            "tags": [],
            "needs_background": "light"
          }
        }
      ]
    },
    {
      "cell_type": "markdown",
      "metadata": {
        "id": "IJjIEo9HLSBd"
      },
      "source": [
        "# **Question 3.e**"
      ]
    },
    {
      "cell_type": "code",
      "metadata": {
        "colab": {
          "base_uri": "https://localhost:8080/"
        },
        "id": "IyzUhSOkEv6g",
        "outputId": "258d03e5-dc75-4d8b-9dd8-c3ce5e6cc90a"
      },
      "source": [
        "sim_options_user = {'name': 'cosine', 'user_based': True}\n",
        "\n",
        "algo_CF_user = KNNWithMeans(sim_options=sim_options_user, verbose=False)\n",
        "\n",
        "result_CF_user_cosine = cross_validate(algo_CF_user, data, measures=['RMSE', 'MAE'], cv=5, verbose=True)"
      ],
      "execution_count": 16,
      "outputs": [
        {
          "output_type": "stream",
          "text": [
            "Evaluating RMSE, MAE of algorithm KNNWithMeans on 5 split(s).\n",
            "\n",
            "                  Fold 1  Fold 2  Fold 3  Fold 4  Fold 5  Mean    Std     \n",
            "RMSE (testset)    0.9210  0.9230  0.9214  0.9259  0.9248  0.9232  0.0019  \n",
            "MAE (testset)     0.7017  0.7072  0.7073  0.7107  0.7093  0.7072  0.0030  \n",
            "Fit time          0.40    0.42    0.41    0.41    0.41    0.41    0.01    \n",
            "Test time         1.90    1.77    1.77    1.86    1.77    1.81    0.06    \n"
          ],
          "name": "stdout"
        }
      ]
    },
    {
      "cell_type": "code",
      "metadata": {
        "colab": {
          "base_uri": "https://localhost:8080/"
        },
        "id": "nxcD3KzDHGKZ",
        "outputId": "55970e95-2fcc-4b59-9233-b00558febdb9"
      },
      "source": [
        "sim_options_item = {'name': 'cosine', 'user_based': False}\n",
        "\n",
        "algo_CF_item = KNNWithMeans(sim_options=sim_options_item, verbose=False)\n",
        "\n",
        "result_CF_item_cosine = cross_validate(algo_CF_item, data, measures=['RMSE', 'MAE'], cv=5, verbose=True)"
      ],
      "execution_count": 17,
      "outputs": [
        {
          "output_type": "stream",
          "text": [
            "Evaluating RMSE, MAE of algorithm KNNWithMeans on 5 split(s).\n",
            "\n",
            "                  Fold 1  Fold 2  Fold 3  Fold 4  Fold 5  Mean    Std     \n",
            "RMSE (testset)    0.9251  0.9189  0.9309  0.9254  0.9364  0.9273  0.0059  \n",
            "MAE (testset)     0.7092  0.7026  0.7127  0.7110  0.7157  0.7103  0.0044  \n",
            "Fit time          13.75   13.82   13.39   13.64   13.44   13.61   0.17    \n",
            "Test time         6.84    7.11    7.06    6.97    7.09    7.01    0.10    \n"
          ],
          "name": "stdout"
        }
      ]
    },
    {
      "cell_type": "code",
      "metadata": {
        "colab": {
          "base_uri": "https://localhost:8080/"
        },
        "id": "gGJnaUkmQhbo",
        "outputId": "2f198275-9478-4e20-c64b-1e6108e9f00a"
      },
      "source": [
        "sim_options_user_pearson = {'name': 'pearson_baseline', 'user_based': True}\n",
        "\n",
        "algo_CF_user_pearson = KNNWithMeans(sim_options=sim_options_user_pearson, verbose=False)\n",
        "\n",
        "result_CF_user_pearson = cross_validate(algo_CF_user_pearson, data, measures=['RMSE', 'MAE'], cv=5, verbose=True)"
      ],
      "execution_count": 18,
      "outputs": [
        {
          "output_type": "stream",
          "text": [
            "Evaluating RMSE, MAE of algorithm KNNWithMeans on 5 split(s).\n",
            "\n",
            "                  Fold 1  Fold 2  Fold 3  Fold 4  Fold 5  Mean    Std     \n",
            "RMSE (testset)    0.9325  0.9188  0.9227  0.9256  0.9160  0.9231  0.0057  \n",
            "MAE (testset)     0.7092  0.7018  0.6995  0.7023  0.6939  0.7013  0.0049  \n",
            "Fit time          0.70    0.71    0.71    0.72    0.71    0.71    0.01    \n",
            "Test time         1.66    1.81    1.65    1.80    1.65    1.72    0.07    \n"
          ],
          "name": "stdout"
        }
      ]
    },
    {
      "cell_type": "code",
      "metadata": {
        "colab": {
          "base_uri": "https://localhost:8080/"
        },
        "id": "bxiNvS6xQwKQ",
        "outputId": "fab6e8fd-bd02-4c5d-a3d2-299fad8011d4"
      },
      "source": [
        "sim_options_item_pearson = {'name': 'pearson_baseline', 'user_based': False}\n",
        "\n",
        "algo_CF_item_pearson = KNNWithMeans(sim_options=sim_options_item_pearson, verbose=False)\n",
        "\n",
        "result_CF_item_pearson = cross_validate(algo_CF_item_pearson, data, measures=['RMSE', 'MAE'], cv=5, verbose=True)"
      ],
      "execution_count": 19,
      "outputs": [
        {
          "output_type": "stream",
          "text": [
            "Evaluating RMSE, MAE of algorithm KNNWithMeans on 5 split(s).\n",
            "\n",
            "                  Fold 1  Fold 2  Fold 3  Fold 4  Fold 5  Mean    Std     \n",
            "RMSE (testset)    0.8985  0.9097  0.9065  0.9077  0.8990  0.9043  0.0046  \n",
            "MAE (testset)     0.6838  0.6916  0.6913  0.6895  0.6827  0.6878  0.0038  \n",
            "Fit time          8.62    8.53    8.55    8.55    8.56    8.56    0.03    \n",
            "Test time         6.78    6.85    6.71    6.94    6.86    6.83    0.08    \n"
          ],
          "name": "stdout"
        }
      ]
    },
    {
      "cell_type": "code",
      "metadata": {
        "colab": {
          "base_uri": "https://localhost:8080/",
          "height": 353
        },
        "id": "vQGvJp_jJdPT",
        "outputId": "a70aaab6-9a3d-4302-e392-908e72d2eaba"
      },
      "source": [
        "from statistics import mean\n",
        "import matplotlib.pyplot as plt\n",
        "\n",
        "def get_perf(res):\n",
        "  return (mean(res)-0.9)\n",
        "\n",
        "\n",
        "perf_mean = [get_perf(result_CF_user_msd['test_rmse']), get_perf(result_CF_user_cosine['test_rmse']), get_perf(result_CF_user_pearson['test_rmse'])]\n",
        "\n",
        "print(perf_mean)\n",
        "\n",
        "algos = ['MSD', 'Cosine', 'Pearson']\n",
        "\n",
        "fig = plt.figure()\n",
        "ax = fig.add_axes([0,0,1,1])\n",
        "ax.bar(algos,perf_mean)\n",
        "plt.show()"
      ],
      "execution_count": 20,
      "outputs": [
        {
          "output_type": "stream",
          "text": [
            "[0.01987422699432817, 0.023192141302636138, 0.023128720767045752]\n"
          ],
          "name": "stdout"
        },
        {
          "output_type": "display_data",
          "data": {
            "image/png": "[encoded data removed]",
            "text/plain": [
              "<Figure size 432x288 with 1 Axes>"
            ]
          },
          "metadata": {
            "tags": [],
            "needs_background": "light"
          }
        }
      ]
    },
    {
      "cell_type": "code",
      "metadata": {
        "colab": {
          "base_uri": "https://localhost:8080/",
          "height": 353
        },
        "id": "w-QUu78EJ1CM",
        "outputId": "2bc15cfb-6e4a-472a-80c7-1c03bacb0524"
      },
      "source": [
        "from statistics import mean\n",
        "import matplotlib.pyplot as plt\n",
        "\n",
        "def get_perf(res):\n",
        "  return (mean(res)-0.9)\n",
        "\n",
        "\n",
        "perf_mean = [get_perf(result_CF_item_msd['test_rmse']), get_perf(result_CF_item_cosine['test_rmse']), get_perf(result_CF_item_pearson['test_rmse'])]\n",
        "\n",
        "print(perf_mean)\n",
        "\n",
        "algos = ['MSD', 'Cosine', 'Pearson']\n",
        "\n",
        "fig = plt.figure()\n",
        "ax = fig.add_axes([0,0,1,1])\n",
        "ax.bar(algos,perf_mean)\n",
        "plt.show()"
      ],
      "execution_count": 21,
      "outputs": [
        {
          "output_type": "stream",
          "text": [
            "[0.016429514528135125, 0.02733432444049133, 0.004252545046199652]\n"
          ],
          "name": "stdout"
        },
        {
          "output_type": "display_data",
          "data": {
            "image/png": "[encoded data removed]",
            "text/plain": [
              "<Figure size 432x288 with 1 Axes>"
            ]
          },
          "metadata": {
            "tags": [],
            "needs_background": "light"
          }
        }
      ]
    },
    {
      "cell_type": "code",
      "metadata": {
        "colab": {
          "base_uri": "https://localhost:8080/",
          "height": 353
        },
        "id": "TwxylYHu2XB8",
        "outputId": "fbe9ee68-2488-4dee-faf5-6960bb2947ed"
      },
      "source": [
        "from statistics import mean\n",
        "import matplotlib.pyplot as plt\n",
        "\n",
        "def get_perf(res):\n",
        "  return (mean(res)-0.6)\n",
        "\n",
        "\n",
        "perf_mean = [get_perf(result_CF_user_msd['test_mae']), get_perf(result_CF_user_cosine['test_mae']), get_perf(result_CF_user_pearson['test_mae'])]\n",
        "\n",
        "print(perf_mean)\n",
        "\n",
        "algos = ['MSD', 'Cosine', 'Pearson']\n",
        "\n",
        "fig = plt.figure()\n",
        "ax = fig.add_axes([0,0,1,1])\n",
        "ax.bar(algos,perf_mean)\n",
        "plt.show()"
      ],
      "execution_count": 22,
      "outputs": [
        {
          "output_type": "stream",
          "text": [
            "[0.004370507201240881, 0.007235980965113131, 0.0013490031807067426]\n"
          ],
          "name": "stdout"
        },
        {
          "output_type": "display_data",
          "data": {
            "image/png": "[encoded data removed]",
            "text/plain": [
              "<Figure size 432x288 with 1 Axes>"
            ]
          },
          "metadata": {
            "tags": [],
            "needs_background": "light"
          }
        }
      ]
    },
    {
      "cell_type": "code",
      "metadata": {
        "colab": {
          "base_uri": "https://localhost:8080/",
          "height": 353
        },
        "id": "A0Tzn0LB2flj",
        "outputId": "9f50f0db-4b0e-4a63-f410-7aac82c770af"
      },
      "source": [
        "from statistics import mean\n",
        "import matplotlib.pyplot as plt\n",
        "\n",
        "def get_perf(res):\n",
        "  return (mean(res)-0.6)\n",
        "\n",
        "\n",
        "perf_mean = [get_perf(result_CF_item_msd['test_mae']), get_perf(result_CF_item_cosine['test_mae']), get_perf(result_CF_item_pearson['test_mae'])]\n",
        "\n",
        "print(perf_mean)\n",
        "\n",
        "algos = ['MSD', 'Cosine', 'Pearson']\n",
        "\n",
        "fig = plt.figure()\n",
        "ax = fig.add_axes([0,0,1,1])\n",
        "ax.bar(algos,perf_mean)\n",
        "plt.show()"
      ],
      "execution_count": 25,
      "outputs": [
        {
          "output_type": "stream",
          "text": [
            "[0.10212805017902704, 0.11025467370092623, 0.08777960927007467]\n"
          ],
          "name": "stdout"
        },
        {
          "output_type": "display_data",
          "data": {
            "image/png": "[encoded data removed]",
            "text/plain": [
              "<Figure size 432x288 with 1 Axes>"
            ]
          },
          "metadata": {
            "tags": [],
            "needs_background": "light"
          }
        }
      ]
    },
    {
      "cell_type": "markdown",
      "metadata": {
        "id": "-ra1HAMrLjWN"
      },
      "source": [
        "# **Question 3.f**"
      ]
    },
    {
      "cell_type": "code",
      "metadata": {
        "colab": {
          "base_uri": "https://localhost:8080/",
          "height": 1000
        },
        "id": "5KzB7PKDMaiM",
        "outputId": "6b783456-d5ec-4a2c-f88e-1799938804e4"
      },
      "source": [
        "from surprise.model_selection import train_test_split\n",
        "from surprise import accuracy\n",
        "\n",
        "\n",
        "trainset, testset = train_test_split(data, test_size=.25)\n",
        "\n",
        "results_k_user = []\n",
        "k = [x*5 for x in range(1, 41)]\n",
        "\n",
        "for input_k in k:\n",
        "  print(\"K : \", input_k)\n",
        "  algo = KNNWithMeans(k=input_k, sim_options=sim_options_user_msd, verbose=False)\n",
        "\n",
        "  algo.fit(trainset)\n",
        "  predictions = algo.test(testset)\n",
        "\n",
        "  results_k_user.append((accuracy.rmse(predictions)-0.9))\n",
        "\n",
        "fig = plt.figure()\n",
        "ax = fig.add_axes([0,0,1,1])\n",
        "ax.plot(k,results_k_user)\n",
        "plt.show()"
      ],
      "execution_count": 26,
      "outputs": [
        {
          "output_type": "stream",
          "text": [
            "K :  5\n",
            "RMSE: 0.9689\n",
            "K :  10\n",
            "RMSE: 0.9414\n",
            "K :  15\n",
            "RMSE: 0.9340\n",
            "K :  20\n",
            "RMSE: 0.9307\n",
            "K :  25\n",
            "RMSE: 0.9290\n",
            "K :  30\n",
            "RMSE: 0.9283\n",
            "K :  35\n",
            "RMSE: 0.9282\n",
            "K :  40\n",
            "RMSE: 0.9282\n",
            "K :  45\n",
            "RMSE: 0.9280\n",
            "K :  50\n",
            "RMSE: 0.9281\n",
            "K :  55\n",
            "RMSE: 0.9282\n",
            "K :  60\n",
            "RMSE: 0.9283\n",
            "K :  65\n",
            "RMSE: 0.9284\n",
            "K :  70\n",
            "RMSE: 0.9285\n",
            "K :  75\n",
            "RMSE: 0.9287\n",
            "K :  80\n",
            "RMSE: 0.9288\n",
            "K :  85\n",
            "RMSE: 0.9290\n",
            "K :  90\n",
            "RMSE: 0.9291\n",
            "K :  95\n",
            "RMSE: 0.9292\n",
            "K :  100\n",
            "RMSE: 0.9292\n",
            "K :  105\n",
            "RMSE: 0.9293\n",
            "K :  110\n",
            "RMSE: 0.9293\n",
            "K :  115\n",
            "RMSE: 0.9294\n",
            "K :  120\n",
            "RMSE: 0.9294\n",
            "K :  125\n",
            "RMSE: 0.9295\n",
            "K :  130\n",
            "RMSE: 0.9295\n",
            "K :  135\n",
            "RMSE: 0.9296\n",
            "K :  140\n",
            "RMSE: 0.9296\n",
            "K :  145\n",
            "RMSE: 0.9296\n",
            "K :  150\n",
            "RMSE: 0.9296\n"
          ],
          "name": "stdout"
        },
        {
          "output_type": "display_data",
          "data": {
            "image/png": "[encoded data removed]",
            "text/plain": [
              "<Figure size 432x288 with 1 Axes>"
            ]
          },
          "metadata": {
            "tags": [],
            "needs_background": "light"
          }
        }
      ]
    },
    {
      "cell_type": "code",
      "metadata": {
        "colab": {
          "base_uri": "https://localhost:8080/",
          "height": 1000
        },
        "id": "m7bv3AhkNwsN",
        "outputId": "55a11600-5eea-4c09-c231-e2be03fae7fd"
      },
      "source": [
        "from surprise.model_selection import train_test_split\n",
        "from surprise import accuracy\n",
        "\n",
        "\n",
        "trainset, testset = train_test_split(data, test_size=.25)\n",
        "\n",
        "results_k_item = []\n",
        "k = [x*5 for x in range(1, 41)]\n",
        "\n",
        "for input_k in k:\n",
        "  print(\"K : \", input_k)\n",
        "\n",
        "  algo = KNNWithMeans(k=input_k, sim_options=sim_options_item_msd, verbose=False)\n",
        "\n",
        "  algo.fit(trainset)\n",
        "  predictions = algo.test(testset)\n",
        "\n",
        "  results_k_item.append((accuracy.rmse(predictions)-0.9))\n",
        "\n",
        "fig = plt.figure()\n",
        "ax = fig.add_axes([0,0,1,1])\n",
        "ax.plot(k, results_k_item)\n",
        "plt.show()"
      ],
      "execution_count": 27,
      "outputs": [
        {
          "output_type": "stream",
          "text": [
            "K :  5\n",
            "RMSE: 0.9721\n",
            "K :  10\n",
            "RMSE: 0.9382\n",
            "K :  15\n",
            "RMSE: 0.9266\n",
            "K :  20\n",
            "RMSE: 0.9203\n",
            "K :  25\n",
            "RMSE: 0.9167\n",
            "K :  30\n",
            "RMSE: 0.9141\n",
            "K :  35\n",
            "RMSE: 0.9121\n",
            "K :  40\n",
            "RMSE: 0.9113\n",
            "K :  45\n",
            "RMSE: 0.9104\n",
            "K :  50\n",
            "RMSE: 0.9096\n",
            "K :  55\n",
            "RMSE: 0.9092\n",
            "K :  60\n",
            "RMSE: 0.9087\n",
            "K :  65\n",
            "RMSE: 0.9084\n",
            "K :  70\n",
            "RMSE: 0.9083\n",
            "K :  75\n",
            "RMSE: 0.9081\n",
            "K :  80\n",
            "RMSE: 0.9080\n",
            "K :  85\n",
            "RMSE: 0.9080\n",
            "K :  90\n",
            "RMSE: 0.9079\n",
            "K :  95\n",
            "RMSE: 0.9076\n",
            "K :  100\n",
            "RMSE: 0.9076\n",
            "K :  105\n",
            "RMSE: 0.9076\n",
            "K :  110\n",
            "RMSE: 0.9076\n",
            "K :  115\n",
            "RMSE: 0.9076\n",
            "K :  120\n",
            "RMSE: 0.9076\n",
            "K :  125\n",
            "RMSE: 0.9076\n",
            "K :  130\n",
            "RMSE: 0.9076\n",
            "K :  135\n",
            "RMSE: 0.9076\n",
            "K :  140\n",
            "RMSE: 0.9075\n",
            "K :  145\n",
            "RMSE: 0.9075\n",
            "K :  150\n",
            "RMSE: 0.9075\n"
          ],
          "name": "stdout"
        },
        {
          "output_type": "display_data",
          "data": {
            "image/png": "[encoded data removed]",
            "text/plain": [
              "<Figure size 432x288 with 1 Axes>"
            ]
          },
          "metadata": {
            "tags": [],
            "needs_background": "light"
          }
        }
      ]
    },
    {
      "cell_type": "code",
      "metadata": {
        "colab": {
          "base_uri": "https://localhost:8080/",
          "height": 1000
        },
        "id": "39_UMVOM9bwp",
        "outputId": "ca0a523a-611b-4b12-ca82-bf62b03a5442"
      },
      "source": [
        "from surprise.model_selection import train_test_split\n",
        "from surprise import accuracy\n",
        "\n",
        "\n",
        "trainset, testset = train_test_split(data, test_size=.25)\n",
        "\n",
        "results_k_user = []\n",
        "k = [x*5 for x in range(1, 41)]\n",
        "\n",
        "for input_k in k:\n",
        "  print(\"K : \", input_k)\n",
        "  algo = KNNWithMeans(k=input_k, sim_options=sim_options_user_msd, verbose=False)\n",
        "\n",
        "  algo.fit(trainset)\n",
        "  predictions = algo.test(testset)\n",
        "\n",
        "  results_k_user.append((accuracy.mae(predictions)-0.6))\n",
        "\n",
        "fig = plt.figure()\n",
        "ax = fig.add_axes([0,0,1,1])\n",
        "ax.plot(k,results_k_user)\n",
        "plt.show()"
      ],
      "execution_count": 28,
      "outputs": [
        {
          "output_type": "stream",
          "text": [
            "K :  5\n",
            "MAE:  0.7342\n",
            "K :  10\n",
            "MAE:  0.7122\n",
            "K :  15\n",
            "MAE:  0.7062\n",
            "K :  20\n",
            "MAE:  0.7026\n",
            "K :  25\n",
            "MAE:  0.7007\n",
            "K :  30\n",
            "MAE:  0.6994\n",
            "K :  35\n",
            "MAE:  0.6988\n",
            "K :  40\n",
            "MAE:  0.6985\n",
            "K :  45\n",
            "MAE:  0.6985\n",
            "K :  50\n",
            "MAE:  0.6984\n",
            "K :  55\n",
            "MAE:  0.6984\n",
            "K :  60\n",
            "MAE:  0.6987\n",
            "K :  65\n",
            "MAE:  0.6987\n",
            "K :  70\n",
            "MAE:  0.6987\n",
            "K :  75\n",
            "MAE:  0.6988\n",
            "K :  80\n",
            "MAE:  0.6988\n",
            "K :  85\n",
            "MAE:  0.6988\n",
            "K :  90\n",
            "MAE:  0.6989\n",
            "K :  95\n",
            "MAE:  0.6988\n",
            "K :  100\n",
            "MAE:  0.6989\n",
            "K :  105\n",
            "MAE:  0.6989\n",
            "K :  110\n",
            "MAE:  0.6990\n",
            "K :  115\n",
            "MAE:  0.6990\n",
            "K :  120\n",
            "MAE:  0.6990\n",
            "K :  125\n",
            "MAE:  0.6991\n",
            "K :  130\n",
            "MAE:  0.6991\n",
            "K :  135\n",
            "MAE:  0.6991\n",
            "K :  140\n",
            "MAE:  0.6992\n",
            "K :  145\n",
            "MAE:  0.6992\n",
            "K :  150\n",
            "MAE:  0.6993\n"
          ],
          "name": "stdout"
        },
        {
          "output_type": "display_data",
          "data": {
            "image/png": "[encoded data removed]",
            "text/plain": [
              "<Figure size 432x288 with 1 Axes>"
            ]
          },
          "metadata": {
            "tags": [],
            "needs_background": "light"
          }
        }
      ]
    },
    {
      "cell_type": "code",
      "metadata": {
        "colab": {
          "base_uri": "https://localhost:8080/",
          "height": 1000
        },
        "id": "EVEeBu5A9gx2",
        "outputId": "8abaccc8-f08b-4dc5-a822-ec63ce8b07b0"
      },
      "source": [
        "from surprise.model_selection import train_test_split\n",
        "from surprise import accuracy\n",
        "\n",
        "\n",
        "trainset, testset = train_test_split(data, test_size=.25)\n",
        "\n",
        "results_k_item = []\n",
        "k = [x*5 for x in range(1, 41)]\n",
        "\n",
        "for input_k in k:\n",
        "  print(\"K : \", input_k)\n",
        "\n",
        "  algo = KNNWithMeans(k=input_k, sim_options=sim_options_item_msd, verbose=False)\n",
        "\n",
        "  algo.fit(trainset)\n",
        "  predictions = algo.test(testset)\n",
        "\n",
        "  results_k_item.append((accuracy.mae(predictions)-0.6))\n",
        "\n",
        "fig = plt.figure()\n",
        "ax = fig.add_axes([0,0,1,1])\n",
        "ax.plot(k, results_k_item)\n",
        "plt.show()"
      ],
      "execution_count": 29,
      "outputs": [
        {
          "output_type": "stream",
          "text": [
            "K :  5\n",
            "MAE:  0.7458\n",
            "K :  10\n",
            "MAE:  0.7199\n",
            "K :  15\n",
            "MAE:  0.7105\n",
            "K :  20\n",
            "MAE:  0.7045\n",
            "K :  25\n",
            "MAE:  0.7013\n",
            "K :  30\n",
            "MAE:  0.6991\n",
            "K :  35\n",
            "MAE:  0.6973\n",
            "K :  40\n",
            "MAE:  0.6963\n",
            "K :  45\n",
            "MAE:  0.6956\n",
            "K :  50\n",
            "MAE:  0.6951\n",
            "K :  55\n",
            "MAE:  0.6946\n",
            "K :  60\n",
            "MAE:  0.6943\n",
            "K :  65\n",
            "MAE:  0.6941\n",
            "K :  70\n",
            "MAE:  0.6940\n",
            "K :  75\n",
            "MAE:  0.6935\n",
            "K :  80\n",
            "MAE:  0.6933\n",
            "K :  85\n",
            "MAE:  0.6932\n",
            "K :  90\n",
            "MAE:  0.6930\n",
            "K :  95\n",
            "MAE:  0.6927\n",
            "K :  100\n",
            "MAE:  0.6926\n",
            "K :  105\n",
            "MAE:  0.6925\n",
            "K :  110\n",
            "MAE:  0.6924\n",
            "K :  115\n",
            "MAE:  0.6923\n",
            "K :  120\n",
            "MAE:  0.6923\n",
            "K :  125\n",
            "MAE:  0.6922\n",
            "K :  130\n",
            "MAE:  0.6921\n",
            "K :  135\n",
            "MAE:  0.6920\n",
            "K :  140\n",
            "MAE:  0.6921\n",
            "K :  145\n",
            "MAE:  0.6921\n",
            "K :  150\n",
            "MAE:  0.6920\n"
          ],
          "name": "stdout"
        },
        {
          "output_type": "display_data",
          "data": {
            "image/png": "[encoded data removed]",
            "text/plain": [
              "<Figure size 432x288 with 1 Axes>"
            ]
          },
          "metadata": {
            "tags": [],
            "needs_background": "light"
          }
        }
      ]
    },
    {
      "cell_type": "markdown",
      "metadata": {
        "id": "3XiP090SLkKU"
      },
      "source": [
        "# **Question 3.g**"
      ]
    },
    {
      "cell_type": "code",
      "metadata": {
        "colab": {
          "base_uri": "https://localhost:8080/"
        },
        "id": "Nzi_nicFVeTF",
        "outputId": "4fb86bb6-748e-419e-a642-d18cf86f1691"
      },
      "source": [
        "from surprise.model_selection import GridSearchCV\n",
        "\n",
        "k = [x*5 for x in range(1, 31)]\n",
        "\n",
        "param_grid_user = {'k': k,\n",
        "              'sim_options': {'user_based': [True]},\n",
        "              'verbose' : [False]\n",
        "              }\n",
        "\n",
        "gs_user = GridSearchCV(KNNWithMeans, param_grid_user, measures=['rmse'], cv=3)\n",
        "\n",
        "gs_user.fit(data)\n",
        "\n",
        "print(gs_user.best_score['rmse'])\n",
        "print(gs_user.best_params['rmse'])"
      ],
      "execution_count": 30,
      "outputs": [
        {
          "output_type": "stream",
          "text": [
            "0.9282510930106699\n",
            "{'k': 40, 'sim_options': {'user_based': True}, 'verbose': False}\n"
          ],
          "name": "stdout"
        }
      ]
    },
    {
      "cell_type": "code",
      "metadata": {
        "id": "IsAAnHvgTeXi"
      },
      "source": [
        "from surprise.model_selection import GridSearchCV\n",
        "\n",
        "k = [x*5 for x in range(1, 31)]\n",
        "param_grid_item = {'k': k,\n",
        "              'sim_options': {'user_based': [False]},\n",
        "              'verbose' : [False]\n",
        "              }\n",
        "\n",
        "gs_item = GridSearchCV(KNNWithMeans, param_grid_item, measures=['rmse', 'mae'], cv=3)\n",
        "\n",
        "gs_item.fit(data)\n",
        "\n",
        "print(gs_item.best_score['rmse'])\n",
        "print(gs_item.best_params['rmse'])"
      ],
      "execution_count": null,
      "outputs": []
    }
  ]
}