{
  "nbformat": 4,
  "nbformat_minor": 0,
  "metadata": {
    "colab": {
      "name": "homework6.ipynb",
      "provenance": [],
      "authorship_tag": "ABX9TyMATpci1xStMevm2ZPFfTGA",
      "include_colab_link": true
    },
    "kernelspec": {
      "name": "python3",
      "display_name": "Python 3"
    }
  },
  "cells": [
    {
      "cell_type": "markdown",
      "metadata": {
        "id": "view-in-github",
        "colab_type": "text"
      },
      "source": [
        "<a href=\"https://colab.research.google.com/github/in3xes/CAP5610/blob/master/homework6.ipynb\" target=\"_parent\"><img src=\"https://colab.research.google.com/assets/colab-badge.svg\" alt=\"Open In Colab\"/></a>"
      ]
    },
    {
      "cell_type": "code",
      "metadata": {
        "id": "71NrDKN0ArrO",
        "outputId": "aee028bf-accf-444b-bb46-9d012df8470b",
        "colab": {
          "base_uri": "https://localhost:8080/"
        }
      },
      "source": [
        "!pip install surprise"
      ],
      "execution_count": 2,
      "outputs": [
        {
          "output_type": "stream",
          "text": [
            "Collecting surprise\n",
            "  Downloading https://files.pythonhosted.org/packages/61/de/e5cba8682201fcf9c3719a6fdda95693468ed061945493dea2dd37c5618b/surprise-0.1-py2.py3-none-any.whl\n",
            "Collecting scikit-surprise\n",
            "\u001b[?25l  Downloading https://files.pythonhosted.org/packages/97/37/5d334adaf5ddd65da99fc65f6507e0e4599d092ba048f4302fe8775619e8/scikit-surprise-1.1.1.tar.gz (11.8MB)\n",
            "\u001b[K     |████████████████████████████████| 11.8MB 337kB/s \n",
            "\u001b[?25hRequirement already satisfied: joblib>=0.11 in /usr/local/lib/python3.6/dist-packages (from scikit-surprise->surprise) (0.17.0)\n",
            "Requirement already satisfied: numpy>=1.11.2 in /usr/local/lib/python3.6/dist-packages (from scikit-surprise->surprise) (1.18.5)\n",
            "Requirement already satisfied: scipy>=1.0.0 in /usr/local/lib/python3.6/dist-packages (from scikit-surprise->surprise) (1.4.1)\n",
            "Requirement already satisfied: six>=1.10.0 in /usr/local/lib/python3.6/dist-packages (from scikit-surprise->surprise) (1.15.0)\n",
            "Building wheels for collected packages: scikit-surprise\n",
            "  Building wheel for scikit-surprise (setup.py) ... \u001b[?25l\u001b[?25hdone\n",
            "  Created wheel for scikit-surprise: filename=scikit_surprise-1.1.1-cp36-cp36m-linux_x86_64.whl size=1670927 sha256=b3d32d56addc23c90a604b5fae7d56a1f0e569170a3fd5b2715e5e1c062b89f0\n",
            "  Stored in directory: /root/.cache/pip/wheels/78/9c/3d/41b419c9d2aff5b6e2b4c0fc8d25c538202834058f9ed110d0\n",
            "Successfully built scikit-surprise\n",
            "Installing collected packages: scikit-surprise, surprise\n",
            "Successfully installed scikit-surprise-1.1.1 surprise-0.1\n"
          ],
          "name": "stdout"
        }
      ]
    },
    {
      "cell_type": "code",
      "metadata": {
        "id": "3D17E27NzJKI"
      },
      "source": [
        "from surprise import SVD\n",
        "from surprise import Dataset\n",
        "from surprise.model_selection import cross_validate\n",
        "from surprise.prediction_algorithms.knns import KNNBasic, KNNWithMeans\n",
        "\n",
        "data = Dataset.load_builtin('ml-100k')"
      ],
      "execution_count": 15,
      "outputs": []
    },
    {
      "cell_type": "code",
      "metadata": {
        "id": "JR6qnKJdDlV1",
        "outputId": "e3c29f9a-caba-4627-d9bb-e07c38fcd0d0",
        "colab": {
          "base_uri": "https://localhost:8080/"
        }
      },
      "source": [
        "algo = SVD(biased=False)\n",
        "\n",
        "cross_validate(algo, data, measures=['RMSE', 'MAE'], cv=5, verbose=True)"
      ],
      "execution_count": 16,
      "outputs": [
        {
          "output_type": "stream",
          "text": [
            "Evaluating RMSE, MAE of algorithm SVD on 5 split(s).\n",
            "\n",
            "                  Fold 1  Fold 2  Fold 3  Fold 4  Fold 5  Mean    Std     \n",
            "RMSE (testset)    0.9482  0.9456  0.9497  0.9527  0.9531  0.9498  0.0028  \n",
            "MAE (testset)     0.7461  0.7477  0.7487  0.7501  0.7529  0.7491  0.0023  \n",
            "Fit time          5.08    5.02    5.06    4.98    5.01    5.03    0.04    \n",
            "Test time         0.14    0.67    0.13    0.13    0.12    0.24    0.22    \n"
          ],
          "name": "stdout"
        },
        {
          "output_type": "execute_result",
          "data": {
            "text/plain": [
              "{'fit_time': (5.078023433685303,\n",
              "  5.0205979347229,\n",
              "  5.061509370803833,\n",
              "  4.977464199066162,\n",
              "  5.011309862136841),\n",
              " 'test_mae': array([0.74605262, 0.74768036, 0.74868128, 0.75010409, 0.75292456]),\n",
              " 'test_rmse': array([0.94820064, 0.94557781, 0.94967804, 0.95267536, 0.95305044]),\n",
              " 'test_time': (0.1372373104095459,\n",
              "  0.674985408782959,\n",
              "  0.1277003288269043,\n",
              "  0.1280045509338379,\n",
              "  0.12219667434692383)}"
            ]
          },
          "metadata": {
            "tags": []
          },
          "execution_count": 16
        }
      ]
    },
    {
      "cell_type": "code",
      "metadata": {
        "id": "IyzUhSOkEv6g",
        "outputId": "fb48944c-e4d8-458e-fa72-e6f1cf6164a5",
        "colab": {
          "base_uri": "https://localhost:8080/"
        }
      },
      "source": [
        "sim_options_user = {'name': 'cosine', 'user_based': True}\n",
        "\n",
        "algo_CF_user = KNNWithMeans(sim_options=sim_options_user)\n",
        "\n",
        "cross_validate(algo_CF_user, data, measures=['RMSE', 'MAE'], cv=5, verbose=True)"
      ],
      "execution_count": 17,
      "outputs": [
        {
          "output_type": "stream",
          "text": [
            "Computing the cosine similarity matrix...\n",
            "Done computing similarity matrix.\n",
            "Computing the cosine similarity matrix...\n",
            "Done computing similarity matrix.\n",
            "Computing the cosine similarity matrix...\n",
            "Done computing similarity matrix.\n",
            "Computing the cosine similarity matrix...\n",
            "Done computing similarity matrix.\n",
            "Computing the cosine similarity matrix...\n",
            "Done computing similarity matrix.\n",
            "Evaluating RMSE, MAE of algorithm KNNWithMeans on 5 split(s).\n",
            "\n",
            "                  Fold 1  Fold 2  Fold 3  Fold 4  Fold 5  Mean    Std     \n",
            "RMSE (testset)    0.9617  0.9550  0.9481  0.9626  0.9503  0.9555  0.0058  \n",
            "MAE (testset)     0.7575  0.7542  0.7481  0.7599  0.7525  0.7545  0.0041  \n",
            "Fit time          1.05    1.02    1.10    1.06    1.09    1.06    0.03    \n",
            "Test time         3.77    4.15    3.88    4.13    3.96    3.98    0.15    \n"
          ],
          "name": "stdout"
        },
        {
          "output_type": "execute_result",
          "data": {
            "text/plain": [
              "{'fit_time': (1.053109884262085,\n",
              "  1.0155003070831299,\n",
              "  1.1043999195098877,\n",
              "  1.064300775527954,\n",
              "  1.0858218669891357),\n",
              " 'test_mae': array([0.75748528, 0.75420683, 0.74813853, 0.75994304, 0.75251203]),\n",
              " 'test_rmse': array([0.96167568, 0.95498969, 0.94811324, 0.96259452, 0.95030658]),\n",
              " 'test_time': (3.765714168548584,\n",
              "  4.154343605041504,\n",
              "  3.8807456493377686,\n",
              "  4.127415418624878,\n",
              "  3.9570090770721436)}"
            ]
          },
          "metadata": {
            "tags": []
          },
          "execution_count": 17
        }
      ]
    },
    {
      "cell_type": "code",
      "metadata": {
        "id": "nxcD3KzDHGKZ",
        "outputId": "7c454bbc-2f85-4644-b0df-592a41749eb9",
        "colab": {
          "base_uri": "https://localhost:8080/"
        }
      },
      "source": [
        "sim_options_item = {'name': 'cosine', 'user_based': False}\n",
        "\n",
        "algo_CF_item = KNNWithMeans(sim_options=sim_options_user)\n",
        "\n",
        "cross_validate(algo_CF_item, data, measures=['RMSE', 'MAE'], cv=5, verbose=True)"
      ],
      "execution_count": 18,
      "outputs": [
        {
          "output_type": "stream",
          "text": [
            "Computing the cosine similarity matrix...\n",
            "Done computing similarity matrix.\n",
            "Computing the cosine similarity matrix...\n",
            "Done computing similarity matrix.\n",
            "Computing the cosine similarity matrix...\n",
            "Done computing similarity matrix.\n",
            "Computing the cosine similarity matrix...\n",
            "Done computing similarity matrix.\n",
            "Computing the cosine similarity matrix...\n",
            "Done computing similarity matrix.\n",
            "Evaluating RMSE, MAE of algorithm KNNWithMeans on 5 split(s).\n",
            "\n",
            "                  Fold 1  Fold 2  Fold 3  Fold 4  Fold 5  Mean    Std     \n",
            "RMSE (testset)    0.9489  0.9638  0.9537  0.9540  0.9538  0.9548  0.0049  \n",
            "MAE (testset)     0.7494  0.7622  0.7520  0.7536  0.7521  0.7539  0.0044  \n",
            "Fit time          1.06    1.09    1.09    1.09    1.07    1.08    0.01    \n",
            "Test time         4.26    3.91    4.17    3.82    3.91    4.01    0.17    \n"
          ],
          "name": "stdout"
        },
        {
          "output_type": "execute_result",
          "data": {
            "text/plain": [
              "{'fit_time': (1.059753179550171,\n",
              "  1.093296766281128,\n",
              "  1.094550371170044,\n",
              "  1.0877244472503662,\n",
              "  1.0662686824798584),\n",
              " 'test_mae': array([0.74940927, 0.76219201, 0.75201398, 0.75364582, 0.75214318]),\n",
              " 'test_rmse': array([0.94893041, 0.96376305, 0.95366603, 0.95396354, 0.95375237]),\n",
              " 'test_time': (4.257627487182617,\n",
              "  3.9055862426757812,\n",
              "  4.172706365585327,\n",
              "  3.817695140838623,\n",
              "  3.9144654273986816)}"
            ]
          },
          "metadata": {
            "tags": []
          },
          "execution_count": 18
        }
      ]
    },
    {
      "cell_type": "code",
      "metadata": {
        "id": "MEYu1dVdQDlY",
        "outputId": "c7fdc089-7f95-4ccf-e747-19c922d8de08",
        "colab": {
          "base_uri": "https://localhost:8080/"
        }
      },
      "source": [
        "sim_options_user_msd = {'name': 'MSD', 'user_based': True}\n",
        "\n",
        "algo_CF_user_msd = KNNWithMeans(sim_options=sim_options_user_msd)\n",
        "\n",
        "cross_validate(algo_CF_user_msd, data, measures=['RMSE', 'MAE'], cv=5, verbose=True)"
      ],
      "execution_count": 19,
      "outputs": [
        {
          "output_type": "stream",
          "text": [
            "Computing the msd similarity matrix...\n",
            "Done computing similarity matrix.\n",
            "Computing the msd similarity matrix...\n",
            "Done computing similarity matrix.\n",
            "Computing the msd similarity matrix...\n",
            "Done computing similarity matrix.\n",
            "Computing the msd similarity matrix...\n",
            "Done computing similarity matrix.\n",
            "Computing the msd similarity matrix...\n",
            "Done computing similarity matrix.\n",
            "Evaluating RMSE, MAE of algorithm KNNWithMeans on 5 split(s).\n",
            "\n",
            "                  Fold 1  Fold 2  Fold 3  Fold 4  Fold 5  Mean    Std     \n",
            "RMSE (testset)    0.9536  0.9472  0.9485  0.9488  0.9557  0.9508  0.0033  \n",
            "MAE (testset)     0.7505  0.7462  0.7464  0.7482  0.7528  0.7488  0.0025  \n",
            "Fit time          0.40    0.48    0.46    0.43    0.44    0.44    0.03    \n",
            "Test time         4.14    3.85    4.19    3.78    3.85    3.96    0.17    \n"
          ],
          "name": "stdout"
        },
        {
          "output_type": "execute_result",
          "data": {
            "text/plain": [
              "{'fit_time': (0.4020357131958008,\n",
              "  0.4758574962615967,\n",
              "  0.4636547565460205,\n",
              "  0.42899322509765625,\n",
              "  0.4432647228240967),\n",
              " 'test_mae': array([0.75053321, 0.74621862, 0.74640935, 0.74819841, 0.75283385]),\n",
              " 'test_rmse': array([0.95364446, 0.94724472, 0.94845941, 0.94883509, 0.95572851]),\n",
              " 'test_time': (4.144606113433838,\n",
              "  3.8503921031951904,\n",
              "  4.19056510925293,\n",
              "  3.782045841217041,\n",
              "  3.8536033630371094)}"
            ]
          },
          "metadata": {
            "tags": []
          },
          "execution_count": 19
        }
      ]
    },
    {
      "cell_type": "code",
      "metadata": {
        "id": "gGJnaUkmQhbo",
        "outputId": "7cb986fd-e841-4086-c138-e88d8a1cf36a",
        "colab": {
          "base_uri": "https://localhost:8080/"
        }
      },
      "source": [
        "sim_options_user_pearson = {'name': 'pearson_baseline', 'user_based': True}\n",
        "\n",
        "algo_CF_user_pearson = KNNWithMeans(sim_options=sim_options_user_pearson)\n",
        "\n",
        "cross_validate(algo_CF_user_pearson, data, measures=['RMSE', 'MAE'], cv=5, verbose=True)"
      ],
      "execution_count": 20,
      "outputs": [
        {
          "output_type": "stream",
          "text": [
            "Estimating biases using als...\n",
            "Computing the pearson_baseline similarity matrix...\n",
            "Done computing similarity matrix.\n",
            "Estimating biases using als...\n",
            "Computing the pearson_baseline similarity matrix...\n",
            "Done computing similarity matrix.\n",
            "Estimating biases using als...\n",
            "Computing the pearson_baseline similarity matrix...\n",
            "Done computing similarity matrix.\n",
            "Estimating biases using als...\n",
            "Computing the pearson_baseline similarity matrix...\n",
            "Done computing similarity matrix.\n",
            "Estimating biases using als...\n",
            "Computing the pearson_baseline similarity matrix...\n",
            "Done computing similarity matrix.\n",
            "Evaluating RMSE, MAE of algorithm KNNWithMeans on 5 split(s).\n",
            "\n",
            "                  Fold 1  Fold 2  Fold 3  Fold 4  Fold 5  Mean    Std     \n",
            "RMSE (testset)    0.9410  0.9354  0.9322  0.9364  0.9442  0.9379  0.0042  \n",
            "MAE (testset)     0.7308  0.7315  0.7257  0.7308  0.7353  0.7308  0.0031  \n",
            "Fit time          1.43    1.40    1.49    1.42    1.43    1.43    0.03    \n",
            "Test time         3.73    3.69    3.81    3.72    4.06    3.80    0.14    \n"
          ],
          "name": "stdout"
        },
        {
          "output_type": "execute_result",
          "data": {
            "text/plain": [
              "{'fit_time': (1.4270012378692627,\n",
              "  1.3962616920471191,\n",
              "  1.4941489696502686,\n",
              "  1.4204704761505127,\n",
              "  1.4336423873901367),\n",
              " 'test_mae': array([0.73080269, 0.73154238, 0.72568426, 0.73078129, 0.73527768]),\n",
              " 'test_rmse': array([0.9410257 , 0.93542967, 0.93224575, 0.93641167, 0.9441763 ]),\n",
              " 'test_time': (3.7329416275024414,\n",
              "  3.6893160343170166,\n",
              "  3.805025577545166,\n",
              "  3.716460704803467,\n",
              "  4.064096450805664)}"
            ]
          },
          "metadata": {
            "tags": []
          },
          "execution_count": 20
        }
      ]
    },
    {
      "cell_type": "code",
      "metadata": {
        "id": "4ZZTjhwNQb9w",
        "outputId": "5324c566-2761-4889-f7e9-bb694e00883b",
        "colab": {
          "base_uri": "https://localhost:8080/"
        }
      },
      "source": [
        "sim_options_item_msd = {'name': 'MSD', 'user_based': True}\n",
        "\n",
        "algo_CF_item_msd = KNNWithMeans(sim_options=sim_options_user_msd)\n",
        "\n",
        "cross_validate(algo_CF_item_msd, data, measures=['RMSE', 'MAE'], cv=5, verbose=True)"
      ],
      "execution_count": 21,
      "outputs": [
        {
          "output_type": "stream",
          "text": [
            "Computing the msd similarity matrix...\n",
            "Done computing similarity matrix.\n",
            "Computing the msd similarity matrix...\n",
            "Done computing similarity matrix.\n",
            "Computing the msd similarity matrix...\n",
            "Done computing similarity matrix.\n",
            "Computing the msd similarity matrix...\n",
            "Done computing similarity matrix.\n",
            "Computing the msd similarity matrix...\n",
            "Done computing similarity matrix.\n",
            "Evaluating RMSE, MAE of algorithm KNNWithMeans on 5 split(s).\n",
            "\n",
            "                  Fold 1  Fold 2  Fold 3  Fold 4  Fold 5  Mean    Std     \n",
            "RMSE (testset)    0.9490  0.9539  0.9525  0.9503  0.9510  0.9514  0.0017  \n",
            "MAE (testset)     0.7482  0.7523  0.7522  0.7442  0.7499  0.7494  0.0030  \n",
            "Fit time          0.41    0.48    0.64    0.48    0.46    0.49    0.08    \n",
            "Test time         3.81    6.04    4.37    4.26    3.80    4.46    0.82    \n"
          ],
          "name": "stdout"
        },
        {
          "output_type": "execute_result",
          "data": {
            "text/plain": [
              "{'fit_time': (0.4061727523803711,\n",
              "  0.47661733627319336,\n",
              "  0.6388165950775146,\n",
              "  0.4761383533477783,\n",
              "  0.45698070526123047),\n",
              " 'test_mae': array([0.74819134, 0.75226816, 0.75221119, 0.74419388, 0.74994097]),\n",
              " 'test_rmse': array([0.94904927, 0.95393026, 0.95250003, 0.9503485 , 0.95096861]),\n",
              " 'test_time': (3.812437057495117,\n",
              "  6.036855220794678,\n",
              "  4.368022680282593,\n",
              "  4.255383729934692,\n",
              "  3.8033511638641357)}"
            ]
          },
          "metadata": {
            "tags": []
          },
          "execution_count": 21
        }
      ]
    },
    {
      "cell_type": "code",
      "metadata": {
        "id": "bxiNvS6xQwKQ",
        "outputId": "c2f012c0-a048-4d24-9238-8e4eb3211f5b",
        "colab": {
          "base_uri": "https://localhost:8080/"
        }
      },
      "source": [
        "sim_options_item_pearson = {'name': 'pearson_baseline', 'user_based': True}\n",
        "\n",
        "algo_CF_item_pearson = KNNWithMeans(sim_options=sim_options_user_msd)\n",
        "\n",
        "cross_validate(algo_CF_item_pearson, data, measures=['RMSE', 'MAE'], cv=5, verbose=True)"
      ],
      "execution_count": 22,
      "outputs": [
        {
          "output_type": "stream",
          "text": [
            "Computing the msd similarity matrix...\n",
            "Done computing similarity matrix.\n",
            "Computing the msd similarity matrix...\n",
            "Done computing similarity matrix.\n",
            "Computing the msd similarity matrix...\n",
            "Done computing similarity matrix.\n",
            "Computing the msd similarity matrix...\n",
            "Done computing similarity matrix.\n",
            "Computing the msd similarity matrix...\n",
            "Done computing similarity matrix.\n",
            "Evaluating RMSE, MAE of algorithm KNNWithMeans on 5 split(s).\n",
            "\n",
            "                  Fold 1  Fold 2  Fold 3  Fold 4  Fold 5  Mean    Std     \n",
            "RMSE (testset)    0.9505  0.9547  0.9489  0.9521  0.9486  0.9510  0.0022  \n",
            "MAE (testset)     0.7488  0.7513  0.7482  0.7496  0.7497  0.7495  0.0010  \n",
            "Fit time          0.42    0.43    0.44    0.42    0.47    0.44    0.02    \n",
            "Test time         3.80    4.15    3.84    4.13    3.91    3.97    0.15    \n"
          ],
          "name": "stdout"
        },
        {
          "output_type": "execute_result",
          "data": {
            "text/plain": [
              "{'fit_time': (0.4225296974182129,\n",
              "  0.4309840202331543,\n",
              "  0.4398956298828125,\n",
              "  0.42394375801086426,\n",
              "  0.47225046157836914),\n",
              " 'test_mae': array([0.74884463, 0.75127468, 0.74817244, 0.74959269, 0.74968706]),\n",
              " 'test_rmse': array([0.95053751, 0.9547297 , 0.9489448 , 0.95206873, 0.94863032]),\n",
              " 'test_time': (3.801816463470459,\n",
              "  4.147545337677002,\n",
              "  3.836979866027832,\n",
              "  4.128323316574097,\n",
              "  3.9115586280822754)}"
            ]
          },
          "metadata": {
            "tags": []
          },
          "execution_count": 22
        }
      ]
    },
    {
      "cell_type": "code",
      "metadata": {
        "id": "IsAAnHvgTeXi",
        "outputId": "55354af3-8b0c-4ce6-f22e-f352a0f7e1e9",
        "colab": {
          "base_uri": "https://localhost:8080/"
        }
      },
      "source": [
        "from surprise.model_selection import GridSearchCV\n",
        "\n",
        "param_grid_item = {'k':[10, 20, 30, 40, 50, 60, 70, 80, 90, 100],\n",
        "              'sim_options': {'user_based': [False]},\n",
        "              'verbose' : [False]\n",
        "              }\n",
        "\n",
        "gs_item = GridSearchCV(KNNWithMeans, param_grid_item, measures=['rmse', 'mae'], cv=5)\n",
        "\n",
        "gs_item.fit(data)\n",
        "\n",
        "print(gs_item.best_score['rmse'])\n",
        "\n",
        "print(gs_item.best_params['rmse'])"
      ],
      "execution_count": 36,
      "outputs": [
        {
          "output_type": "stream",
          "text": [
            "0.9327231287515853\n",
            "{'k': 60, 'sim_options': {'user_based': False}, 'verbose': False}\n"
          ],
          "name": "stdout"
        }
      ]
    },
    {
      "cell_type": "code",
      "metadata": {
        "id": "Nzi_nicFVeTF",
        "outputId": "44a90e61-dfac-4e01-9c9c-aa2fa286c43a",
        "colab": {
          "base_uri": "https://localhost:8080/"
        }
      },
      "source": [
        "from surprise.model_selection import GridSearchCV\n",
        "\n",
        "param_grid_user = {'k':[10, 20, 30, 40, 50, 60, 70, 80, 90, 100],\n",
        "              'sim_options': {'user_based': [True]},\n",
        "              'verbose' : [False]\n",
        "              }\n",
        "\n",
        "gs_user = GridSearchCV(KNNWithMeans, param_grid_user, measures=['rmse', 'mae'], cv=5)\n",
        "\n",
        "gs_user.fit(data)\n",
        "\n",
        "print(gs_user.best_score['rmse'])\n",
        "\n",
        "# combination of parameters that gave the best RMSE score\n",
        "print(gs_user.best_params['rmse'])"
      ],
      "execution_count": 37,
      "outputs": [
        {
          "output_type": "stream",
          "text": [
            "0.9502434263272038\n",
            "{'k': 50, 'sim_options': {'user_based': True}, 'verbose': False}\n"
          ],
          "name": "stdout"
        }
      ]
    },
    {
      "cell_type": "code",
      "metadata": {
        "id": "wjDUQeBrnEJr"
      },
      "source": [
        ""
      ],
      "execution_count": null,
      "outputs": []
    }
  ]
}