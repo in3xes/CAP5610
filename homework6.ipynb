{
  "nbformat": 4,
  "nbformat_minor": 0,
  "metadata": {
    "colab": {
      "name": "homework6.ipynb",
      "provenance": [],
      "collapsed_sections": [],
      "authorship_tag": "ABX9TyNor+DL9TVrHTYPdXw2Ly6l",
      "include_colab_link": true
    },
    "kernelspec": {
      "name": "python3",
      "display_name": "Python 3"
    }
  },
  "cells": [
    {
      "cell_type": "markdown",
      "metadata": {
        "id": "view-in-github",
        "colab_type": "text"
      },
      "source": [
        "<a href=\"https://colab.research.google.com/github/in3xes/CAP5610/blob/master/homework6.ipynb\" target=\"_parent\"><img src=\"https://colab.research.google.com/assets/colab-badge.svg\" alt=\"Open In Colab\"/></a>"
      ]
    },
    {
      "cell_type": "code",
      "metadata": {
        "colab": {
          "base_uri": "https://localhost:8080/"
        },
        "id": "71NrDKN0ArrO",
        "outputId": "57685688-f111-4525-e940-ecf9caee06ca"
      },
      "source": [
        "!pip install surprise"
      ],
      "execution_count": 1,
      "outputs": [
        {
          "output_type": "stream",
          "text": [
            "Collecting surprise\n",
            "  Downloading https://files.pythonhosted.org/packages/61/de/e5cba8682201fcf9c3719a6fdda95693468ed061945493dea2dd37c5618b/surprise-0.1-py2.py3-none-any.whl\n",
            "Collecting scikit-surprise\n",
            "\u001b[?25l  Downloading https://files.pythonhosted.org/packages/97/37/5d334adaf5ddd65da99fc65f6507e0e4599d092ba048f4302fe8775619e8/scikit-surprise-1.1.1.tar.gz (11.8MB)\n",
            "\u001b[K     |████████████████████████████████| 11.8MB 355kB/s \n",
            "\u001b[?25hRequirement already satisfied: joblib>=0.11 in /usr/local/lib/python3.6/dist-packages (from scikit-surprise->surprise) (0.17.0)\n",
            "Requirement already satisfied: numpy>=1.11.2 in /usr/local/lib/python3.6/dist-packages (from scikit-surprise->surprise) (1.18.5)\n",
            "Requirement already satisfied: scipy>=1.0.0 in /usr/local/lib/python3.6/dist-packages (from scikit-surprise->surprise) (1.4.1)\n",
            "Requirement already satisfied: six>=1.10.0 in /usr/local/lib/python3.6/dist-packages (from scikit-surprise->surprise) (1.15.0)\n",
            "Building wheels for collected packages: scikit-surprise\n",
            "  Building wheel for scikit-surprise (setup.py) ... \u001b[?25l\u001b[?25hdone\n",
            "  Created wheel for scikit-surprise: filename=scikit_surprise-1.1.1-cp36-cp36m-linux_x86_64.whl size=1670919 sha256=cc3612644ac59be6b23da29042733c55e44a6c726ebd405b9549d81c05e97628\n",
            "  Stored in directory: /root/.cache/pip/wheels/78/9c/3d/41b419c9d2aff5b6e2b4c0fc8d25c538202834058f9ed110d0\n",
            "Successfully built scikit-surprise\n",
            "Installing collected packages: scikit-surprise, surprise\n",
            "Successfully installed scikit-surprise-1.1.1 surprise-0.1\n"
          ],
          "name": "stdout"
        }
      ]
    },
    {
      "cell_type": "code",
      "metadata": {
        "id": "3D17E27NzJKI",
        "colab": {
          "base_uri": "https://localhost:8080/"
        },
        "outputId": "303297fa-f221-48dc-c2a0-8bd9f3971e75"
      },
      "source": [
        "from surprise import SVD\n",
        "from surprise import Dataset\n",
        "from surprise.model_selection import cross_validate\n",
        "from surprise.prediction_algorithms.knns import KNNBasic, KNNWithMeans\n",
        "\n",
        "data = Dataset.load_builtin('ml-100k')"
      ],
      "execution_count": 4,
      "outputs": [
        {
          "output_type": "stream",
          "text": [
            "Dataset ml-100k could not be found. Do you want to download it? [Y/n] Y\n",
            "Trying to download dataset from http://files.grouplens.org/datasets/movielens/ml-100k.zip...\n",
            "Done! Dataset ml-100k has been saved to /root/.surprise_data/ml-100k\n"
          ],
          "name": "stdout"
        }
      ]
    },
    {
      "cell_type": "markdown",
      "metadata": {
        "id": "orT6n6JgFEga"
      },
      "source": [
        "# **Question 3.c**"
      ]
    },
    {
      "cell_type": "code",
      "metadata": {
        "colab": {
          "base_uri": "https://localhost:8080/"
        },
        "id": "JR6qnKJdDlV1",
        "outputId": "d3889e3c-ba33-4f42-9e17-c02c00107f44"
      },
      "source": [
        "algo = SVD(biased=False)\n",
        "\n",
        "result_pmf = cross_validate(algo, data, measures=['RMSE', 'MAE'], cv=5, verbose=True)"
      ],
      "execution_count": 5,
      "outputs": [
        {
          "output_type": "stream",
          "text": [
            "Evaluating RMSE, MAE of algorithm SVD on 5 split(s).\n",
            "\n",
            "                  Fold 1  Fold 2  Fold 3  Fold 4  Fold 5  Mean    Std     \n",
            "RMSE (testset)    0.9460  0.9456  0.9507  0.9525  0.9509  0.9492  0.0028  \n",
            "MAE (testset)     0.7460  0.7453  0.7477  0.7512  0.7486  0.7477  0.0021  \n",
            "Fit time          4.68    4.67    4.73    4.71    4.70    4.70    0.02    \n",
            "Test time         0.13    0.18    0.18    0.12    0.18    0.16    0.03    \n"
          ],
          "name": "stdout"
        }
      ]
    },
    {
      "cell_type": "code",
      "metadata": {
        "colab": {
          "base_uri": "https://localhost:8080/"
        },
        "id": "MEYu1dVdQDlY",
        "outputId": "e310c490-8007-445f-9473-3e1ebcfd2627"
      },
      "source": [
        "sim_options_user_msd = {'name': 'MSD', 'user_based': True}\n",
        "\n",
        "algo_CF_user_msd = KNNWithMeans(sim_options=sim_options_user_msd, verbose=False)\n",
        "\n",
        "result_CF_user_msd = cross_validate(algo_CF_user_msd, data, measures=['RMSE', 'MAE'], cv=5, verbose=True)"
      ],
      "execution_count": 6,
      "outputs": [
        {
          "output_type": "stream",
          "text": [
            "Evaluating RMSE, MAE of algorithm KNNWithMeans on 5 split(s).\n",
            "\n",
            "                  Fold 1  Fold 2  Fold 3  Fold 4  Fold 5  Mean    Std     \n",
            "RMSE (testset)    0.9499  0.9567  0.9450  0.9568  0.9482  0.9513  0.0047  \n",
            "MAE (testset)     0.7485  0.7530  0.7466  0.7542  0.7459  0.7496  0.0034  \n",
            "Fit time          0.31    0.33    0.33    0.34    0.33    0.33    0.01    \n",
            "Test time         3.53    3.56    3.59    3.50    3.61    3.56    0.04    \n"
          ],
          "name": "stdout"
        }
      ]
    },
    {
      "cell_type": "code",
      "metadata": {
        "colab": {
          "base_uri": "https://localhost:8080/"
        },
        "id": "4ZZTjhwNQb9w",
        "outputId": "19a139ce-d41c-4620-e2bc-3cc1a24f22d1"
      },
      "source": [
        "sim_options_item_msd = {'name': 'MSD', 'user_based': False}\n",
        "\n",
        "algo_CF_item_msd = KNNWithMeans(sim_options=sim_options_item_msd, verbose=False)\n",
        "\n",
        "result_CF_item_msd = cross_validate(algo_CF_item_msd, data, measures=['RMSE', 'MAE'], cv=5, verbose=True)"
      ],
      "execution_count": 7,
      "outputs": [
        {
          "output_type": "stream",
          "text": [
            "Evaluating RMSE, MAE of algorithm KNNWithMeans on 5 split(s).\n",
            "\n",
            "                  Fold 1  Fold 2  Fold 3  Fold 4  Fold 5  Mean    Std     \n",
            "RMSE (testset)    0.9358  0.9407  0.9293  0.9355  0.9344  0.9352  0.0036  \n",
            "MAE (testset)     0.7340  0.7389  0.7299  0.7330  0.7326  0.7337  0.0029  \n",
            "Fit time          0.51    0.52    0.50    0.52    0.52    0.52    0.01    \n",
            "Test time         4.13    4.05    4.19    3.99    4.09    4.09    0.07    \n"
          ],
          "name": "stdout"
        }
      ]
    },
    {
      "cell_type": "markdown",
      "metadata": {
        "id": "qdjEymbVLtGu"
      },
      "source": [
        "# **Question 3.d**"
      ]
    },
    {
      "cell_type": "code",
      "metadata": {
        "colab": {
          "base_uri": "https://localhost:8080/",
          "height": 354
        },
        "id": "YKOMi9sWFCkM",
        "outputId": "17c647b7-6ae1-42f4-ec7a-7659635ff830"
      },
      "source": [
        "from statistics import mean\n",
        "import matplotlib.pyplot as plt\n",
        "\n",
        "def get_perf(res):\n",
        "  return (mean(res)-0.9)\n",
        "\n",
        "\n",
        "perf_mean = [get_perf(result_CF_user_msd['test_rmse']), get_perf(result_CF_item_msd['test_rmse']), get_perf(result_pmf['test_rmse'])]\n",
        "\n",
        "print(perf_mean)\n",
        "\n",
        "algos = ['CF_User', 'CF_item', 'PMF']\n",
        "\n",
        "fig = plt.figure()\n",
        "ax = fig.add_axes([0,0,1,1])\n",
        "ax.bar(algos,perf_mean)\n",
        "plt.show()"
      ],
      "execution_count": 8,
      "outputs": [
        {
          "output_type": "stream",
          "text": [
            "[0.05131283554650157, 0.035160788604918225, 0.049152711849515085]\n"
          ],
          "name": "stdout"
        },
        {
          "output_type": "display_data",
          "data": {
            "image/png": "[encoded data removed]",
            "text/plain": [
              "<Figure size 432x288 with 1 Axes>"
            ]
          },
          "metadata": {
            "tags": [],
            "needs_background": "light"
          }
        }
      ]
    },
    {
      "cell_type": "code",
      "metadata": {
        "colab": {
          "base_uri": "https://localhost:8080/",
          "height": 354
        },
        "id": "jUWsst9FIRec",
        "outputId": "9446efc0-a303-4a36-bda6-b65b81eee58e"
      },
      "source": [
        "from statistics import mean\n",
        "import matplotlib.pyplot as plt\n",
        "\n",
        "def get_perf(res):\n",
        "  return (mean(res)-0.7)\n",
        "\n",
        "\n",
        "perf_mean = [get_perf(result_CF_user_msd['test_mae']), get_perf(result_CF_item_msd['test_mae']), get_perf(result_pmf['test_mae'])]\n",
        "\n",
        "print(perf_mean)\n",
        "\n",
        "algos = ['CF_User', 'CF_item', 'PMF']\n",
        "\n",
        "fig = plt.figure()\n",
        "ax = fig.add_axes([0,0,1,1])\n",
        "ax.bar(algos,perf_mean)\n",
        "plt.show()"
      ],
      "execution_count": 9,
      "outputs": [
        {
          "output_type": "stream",
          "text": [
            "[0.04964186283240091, 0.03368166269443795, 0.047743180768543]\n"
          ],
          "name": "stdout"
        },
        {
          "output_type": "display_data",
          "data": {
            "image/png": "[encoded data removed]",
            "text/plain": [
              "<Figure size 432x288 with 1 Axes>"
            ]
          },
          "metadata": {
            "tags": [],
            "needs_background": "light"
          }
        }
      ]
    },
    {
      "cell_type": "markdown",
      "metadata": {
        "id": "IJjIEo9HLSBd"
      },
      "source": [
        "# **Question 3.e**"
      ]
    },
    {
      "cell_type": "code",
      "metadata": {
        "colab": {
          "base_uri": "https://localhost:8080/"
        },
        "id": "IyzUhSOkEv6g",
        "outputId": "91378750-efd1-41ef-e7ce-73ebb36ec872"
      },
      "source": [
        "sim_options_user = {'name': 'cosine', 'user_based': True}\n",
        "\n",
        "algo_CF_user = KNNWithMeans(sim_options=sim_options_user, verbose=False)\n",
        "\n",
        "result_CF_user_cosine = cross_validate(algo_CF_user, data, measures=['RMSE', 'MAE'], cv=5, verbose=True)"
      ],
      "execution_count": 10,
      "outputs": [
        {
          "output_type": "stream",
          "text": [
            "Evaluating RMSE, MAE of algorithm KNNWithMeans on 5 split(s).\n",
            "\n",
            "                  Fold 1  Fold 2  Fold 3  Fold 4  Fold 5  Mean    Std     \n",
            "RMSE (testset)    0.9512  0.9531  0.9523  0.9607  0.9570  0.9549  0.0035  \n",
            "MAE (testset)     0.7506  0.7551  0.7505  0.7590  0.7563  0.7543  0.0033  \n",
            "Fit time          0.90    0.89    0.88    0.89    0.87    0.88    0.01    \n",
            "Test time         3.62    3.53    3.57    3.46    3.61    3.56    0.06    \n"
          ],
          "name": "stdout"
        }
      ]
    },
    {
      "cell_type": "code",
      "metadata": {
        "colab": {
          "base_uri": "https://localhost:8080/"
        },
        "id": "nxcD3KzDHGKZ",
        "outputId": "0aa781b1-7af7-4fc1-a4ac-3f966183dbc6"
      },
      "source": [
        "sim_options_item = {'name': 'cosine', 'user_based': False}\n",
        "\n",
        "algo_CF_item = KNNWithMeans(sim_options=sim_options_item, verbose=False)\n",
        "\n",
        "result_CF_item_cosine = cross_validate(algo_CF_item, data, measures=['RMSE', 'MAE'], cv=5, verbose=True)"
      ],
      "execution_count": 11,
      "outputs": [
        {
          "output_type": "stream",
          "text": [
            "Evaluating RMSE, MAE of algorithm KNNWithMeans on 5 split(s).\n",
            "\n",
            "                  Fold 1  Fold 2  Fold 3  Fold 4  Fold 5  Mean    Std     \n",
            "RMSE (testset)    0.9495  0.9460  0.9370  0.9342  0.9464  0.9426  0.0059  \n",
            "MAE (testset)     0.7469  0.7405  0.7398  0.7347  0.7423  0.7408  0.0039  \n",
            "Fit time          1.62    1.59    1.59    1.59    1.58    1.59    0.01    \n",
            "Test time         4.01    4.02    4.10    3.95    4.10    4.03    0.06    \n"
          ],
          "name": "stdout"
        }
      ]
    },
    {
      "cell_type": "code",
      "metadata": {
        "colab": {
          "base_uri": "https://localhost:8080/"
        },
        "id": "gGJnaUkmQhbo",
        "outputId": "db04ab56-c264-4da0-a245-1d98ceee2ab3"
      },
      "source": [
        "sim_options_user_pearson = {'name': 'pearson_baseline', 'user_based': True}\n",
        "\n",
        "algo_CF_user_pearson = KNNWithMeans(sim_options=sim_options_user_pearson, verbose=False)\n",
        "\n",
        "result_CF_user_pearson = cross_validate(algo_CF_user_pearson, data, measures=['RMSE', 'MAE'], cv=5, verbose=True)"
      ],
      "execution_count": 12,
      "outputs": [
        {
          "output_type": "stream",
          "text": [
            "Evaluating RMSE, MAE of algorithm KNNWithMeans on 5 split(s).\n",
            "\n",
            "                  Fold 1  Fold 2  Fold 3  Fold 4  Fold 5  Mean    Std     \n",
            "RMSE (testset)    0.9391  0.9354  0.9315  0.9413  0.9349  0.9364  0.0034  \n",
            "MAE (testset)     0.7316  0.7294  0.7282  0.7292  0.7305  0.7298  0.0012  \n",
            "Fit time          1.10    1.10    1.09    1.03    1.07    1.08    0.03    \n",
            "Test time         3.43    3.48    3.52    3.43    3.54    3.48    0.05    \n"
          ],
          "name": "stdout"
        }
      ]
    },
    {
      "cell_type": "code",
      "metadata": {
        "colab": {
          "base_uri": "https://localhost:8080/"
        },
        "id": "bxiNvS6xQwKQ",
        "outputId": "849785d9-95c8-465a-ec1d-b02c174fe5ec"
      },
      "source": [
        "sim_options_item_pearson = {'name': 'pearson_baseline', 'user_based': False}\n",
        "\n",
        "algo_CF_item_pearson = KNNWithMeans(sim_options=sim_options_item_pearson, verbose=False)\n",
        "\n",
        "result_CF_item_pearson = cross_validate(algo_CF_item_pearson, data, measures=['RMSE', 'MAE'], cv=5, verbose=True)"
      ],
      "execution_count": 13,
      "outputs": [
        {
          "output_type": "stream",
          "text": [
            "Evaluating RMSE, MAE of algorithm KNNWithMeans on 5 split(s).\n",
            "\n",
            "                  Fold 1  Fold 2  Fold 3  Fold 4  Fold 5  Mean    Std     \n",
            "RMSE (testset)    0.9280  0.9135  0.9171  0.9253  0.9222  0.9212  0.0053  \n",
            "MAE (testset)     0.7253  0.7152  0.7170  0.7219  0.7212  0.7201  0.0036  \n",
            "Fit time          1.62    1.52    1.49    1.49    1.51    1.53    0.05    \n",
            "Test time         3.89    3.94    3.86    3.91    3.97    3.91    0.04    \n"
          ],
          "name": "stdout"
        }
      ]
    },
    {
      "cell_type": "code",
      "metadata": {
        "colab": {
          "base_uri": "https://localhost:8080/",
          "height": 353
        },
        "id": "vQGvJp_jJdPT",
        "outputId": "f0359d91-004b-402d-a49e-fc8c575fc16d"
      },
      "source": [
        "from statistics import mean\n",
        "import matplotlib.pyplot as plt\n",
        "\n",
        "def get_perf(res):\n",
        "  return (mean(res)-0.9)\n",
        "\n",
        "\n",
        "perf_mean = [get_perf(result_CF_user_msd['test_rmse']), get_perf(result_CF_user_cosine['test_rmse']), get_perf(result_CF_user_pearson['test_rmse'])]\n",
        "\n",
        "print(perf_mean)\n",
        "\n",
        "algos = ['MSD', 'Cosine', 'Pearson']\n",
        "\n",
        "fig = plt.figure()\n",
        "ax = fig.add_axes([0,0,1,1])\n",
        "ax.bar(algos,perf_mean)\n",
        "plt.show()"
      ],
      "execution_count": 14,
      "outputs": [
        {
          "output_type": "stream",
          "text": [
            "[0.05131283554650157, 0.05488003200748515, 0.03644758500427214]\n"
          ],
          "name": "stdout"
        },
        {
          "output_type": "display_data",
          "data": {
            "image/png": "[encoded data removed]",
            "text/plain": [
              "<Figure size 432x288 with 1 Axes>"
            ]
          },
          "metadata": {
            "tags": [],
            "needs_background": "light"
          }
        }
      ]
    },
    {
      "cell_type": "code",
      "metadata": {
        "colab": {
          "base_uri": "https://localhost:8080/",
          "height": 353
        },
        "id": "w-QUu78EJ1CM",
        "outputId": "47edf875-d1fa-4725-cd4e-ced05dca5c7c"
      },
      "source": [
        "from statistics import mean\n",
        "import matplotlib.pyplot as plt\n",
        "\n",
        "def get_perf(res):\n",
        "  return (mean(res)-0.9)\n",
        "\n",
        "\n",
        "perf_mean = [get_perf(result_CF_item_msd['test_rmse']), get_perf(result_CF_item_cosine['test_rmse']), get_perf(result_CF_item_pearson['test_rmse'])]\n",
        "\n",
        "print(perf_mean)\n",
        "\n",
        "algos = ['MSD', 'Cosine', 'Pearson']\n",
        "\n",
        "fig = plt.figure()\n",
        "ax = fig.add_axes([0,0,1,1])\n",
        "ax.bar(algos,perf_mean)\n",
        "plt.show()"
      ],
      "execution_count": 15,
      "outputs": [
        {
          "output_type": "stream",
          "text": [
            "[0.035160788604918225, 0.042621713133736416, 0.021199642584260103]\n"
          ],
          "name": "stdout"
        },
        {
          "output_type": "display_data",
          "data": {
            "image/png": "[encoded data removed]",
            "text/plain": [
              "<Figure size 432x288 with 1 Axes>"
            ]
          },
          "metadata": {
            "tags": [],
            "needs_background": "light"
          }
        }
      ]
    },
    {
      "cell_type": "code",
      "metadata": {
        "colab": {
          "base_uri": "https://localhost:8080/",
          "height": 353
        },
        "id": "TwxylYHu2XB8",
        "outputId": "b3ca13b8-3a96-4e5b-d1bb-c79647ca199d"
      },
      "source": [
        "from statistics import mean\n",
        "import matplotlib.pyplot as plt\n",
        "\n",
        "def get_perf(res):\n",
        "  return (mean(res)-0.7)\n",
        "\n",
        "\n",
        "perf_mean = [get_perf(result_CF_user_msd['test_mae']), get_perf(result_CF_user_cosine['test_mae']), get_perf(result_CF_user_pearson['test_mae'])]\n",
        "\n",
        "print(perf_mean)\n",
        "\n",
        "algos = ['MSD', 'Cosine', 'Pearson']\n",
        "\n",
        "fig = plt.figure()\n",
        "ax = fig.add_axes([0,0,1,1])\n",
        "ax.bar(algos,perf_mean)\n",
        "plt.show()"
      ],
      "execution_count": 20,
      "outputs": [
        {
          "output_type": "stream",
          "text": [
            "[0.04964186283240091, 0.054277548107998896, 0.029770903852720854]\n"
          ],
          "name": "stdout"
        },
        {
          "output_type": "display_data",
          "data": {
            "image/png": "[encoded data removed]",
            "text/plain": [
              "<Figure size 432x288 with 1 Axes>"
            ]
          },
          "metadata": {
            "tags": [],
            "needs_background": "light"
          }
        }
      ]
    },
    {
      "cell_type": "code",
      "metadata": {
        "colab": {
          "base_uri": "https://localhost:8080/",
          "height": 353
        },
        "id": "A0Tzn0LB2flj",
        "outputId": "7cf070fc-b8fc-4c61-cb87-1e705f89ffe1"
      },
      "source": [
        "from statistics import mean\n",
        "import matplotlib.pyplot as plt\n",
        "\n",
        "def get_perf(res):\n",
        "  return (mean(res)-0.7)\n",
        "\n",
        "\n",
        "perf_mean = [get_perf(result_CF_item_msd['test_mae']), get_perf(result_CF_item_cosine['test_mae']), get_perf(result_CF_item_pearson['test_mae'])]\n",
        "\n",
        "print(perf_mean)\n",
        "\n",
        "algos = ['MSD', 'Cosine', 'Pearson']\n",
        "\n",
        "fig = plt.figure()\n",
        "ax = fig.add_axes([0,0,1,1])\n",
        "ax.bar(algos,perf_mean)\n",
        "plt.show()"
      ],
      "execution_count": 21,
      "outputs": [
        {
          "output_type": "stream",
          "text": [
            "[0.03368166269443795, 0.0408418472799682, 0.020123654854843465]\n"
          ],
          "name": "stdout"
        },
        {
          "output_type": "display_data",
          "data": {
            "image/png": "[encoded data removed]",
            "text/plain": [
              "<Figure size 432x288 with 1 Axes>"
            ]
          },
          "metadata": {
            "tags": [],
            "needs_background": "light"
          }
        }
      ]
    },
    {
      "cell_type": "markdown",
      "metadata": {
        "id": "-ra1HAMrLjWN"
      },
      "source": [
        "# **Question 3.f**"
      ]
    },
    {
      "cell_type": "code",
      "metadata": {
        "colab": {
          "base_uri": "https://localhost:8080/",
          "height": 1000
        },
        "id": "5KzB7PKDMaiM",
        "outputId": "3defaa89-d5c5-49e4-e5b8-b49d04f64d9d"
      },
      "source": [
        "from surprise.model_selection import train_test_split\n",
        "from surprise import accuracy\n",
        "\n",
        "\n",
        "trainset, testset = train_test_split(data, test_size=.25)\n",
        "\n",
        "results_k_user = []\n",
        "k = [x*5 for x in range(1, 31)]\n",
        "\n",
        "for input_k in k:\n",
        "  print(\"K : \", input_k)\n",
        "  algo = KNNWithMeans(k=input_k, sim_options=sim_options_user_msd, verbose=False)\n",
        "\n",
        "  algo.fit(trainset)\n",
        "  predictions = algo.test(testset)\n",
        "\n",
        "  results_k_user.append((accuracy.rmse(predictions)-0.9))\n",
        "\n",
        "fig = plt.figure()\n",
        "ax = fig.add_axes([0,0,1,1])\n",
        "ax.plot(k,results_k_user)\n",
        "plt.show()"
      ],
      "execution_count": 22,
      "outputs": [
        {
          "output_type": "stream",
          "text": [
            "K :  5\n",
            "RMSE: 1.0179\n",
            "K :  10\n",
            "RMSE: 0.9827\n",
            "K :  15\n",
            "RMSE: 0.9715\n",
            "K :  20\n",
            "RMSE: 0.9645\n",
            "K :  25\n",
            "RMSE: 0.9614\n",
            "K :  30\n",
            "RMSE: 0.9595\n",
            "K :  35\n",
            "RMSE: 0.9582\n",
            "K :  40\n",
            "RMSE: 0.9579\n",
            "K :  45\n",
            "RMSE: 0.9574\n",
            "K :  50\n",
            "RMSE: 0.9574\n",
            "K :  55\n",
            "RMSE: 0.9573\n",
            "K :  60\n",
            "RMSE: 0.9574\n",
            "K :  65\n",
            "RMSE: 0.9576\n",
            "K :  70\n",
            "RMSE: 0.9577\n",
            "K :  75\n",
            "RMSE: 0.9577\n",
            "K :  80\n",
            "RMSE: 0.9581\n",
            "K :  85\n",
            "RMSE: 0.9584\n",
            "K :  90\n",
            "RMSE: 0.9585\n",
            "K :  95\n",
            "RMSE: 0.9587\n",
            "K :  100\n",
            "RMSE: 0.9589\n",
            "K :  105\n",
            "RMSE: 0.9590\n",
            "K :  110\n",
            "RMSE: 0.9592\n",
            "K :  115\n",
            "RMSE: 0.9595\n",
            "K :  120\n",
            "RMSE: 0.9597\n",
            "K :  125\n",
            "RMSE: 0.9599\n",
            "K :  130\n",
            "RMSE: 0.9600\n",
            "K :  135\n",
            "RMSE: 0.9602\n",
            "K :  140\n",
            "RMSE: 0.9604\n",
            "K :  145\n",
            "RMSE: 0.9605\n",
            "K :  150\n",
            "RMSE: 0.9607\n"
          ],
          "name": "stdout"
        },
        {
          "output_type": "display_data",
          "data": {
            "image/png": "[encoded data removed]",
            "text/plain": [
              "<Figure size 432x288 with 1 Axes>"
            ]
          },
          "metadata": {
            "tags": [],
            "needs_background": "light"
          }
        }
      ]
    },
    {
      "cell_type": "code",
      "metadata": {
        "colab": {
          "base_uri": "https://localhost:8080/",
          "height": 1000
        },
        "id": "m7bv3AhkNwsN",
        "outputId": "4ee156d8-d719-4950-97f8-c0514cf8a015"
      },
      "source": [
        "from surprise.model_selection import train_test_split\n",
        "from surprise import accuracy\n",
        "\n",
        "\n",
        "trainset, testset = train_test_split(data, test_size=.25)\n",
        "\n",
        "results_k_item = []\n",
        "k = [x*5 for x in range(1, 31)]\n",
        "\n",
        "for input_k in k:\n",
        "  print(\"K : \", input_k)\n",
        "\n",
        "  algo = KNNWithMeans(k=input_k, sim_options=sim_options_item_msd, verbose=False)\n",
        "\n",
        "  algo.fit(trainset)\n",
        "  predictions = algo.test(testset)\n",
        "\n",
        "  results_k_item.append((accuracy.rmse(predictions)-0.9))\n",
        "\n",
        "fig = plt.figure()\n",
        "ax = fig.add_axes([0,0,1,1])\n",
        "ax.plot(k, results_k_item)\n",
        "plt.show()"
      ],
      "execution_count": 23,
      "outputs": [
        {
          "output_type": "stream",
          "text": [
            "K :  5\n",
            "RMSE: 1.0143\n",
            "K :  10\n",
            "RMSE: 0.9727\n",
            "K :  15\n",
            "RMSE: 0.9590\n",
            "K :  20\n",
            "RMSE: 0.9508\n",
            "K :  25\n",
            "RMSE: 0.9468\n",
            "K :  30\n",
            "RMSE: 0.9447\n",
            "K :  35\n",
            "RMSE: 0.9430\n",
            "K :  40\n",
            "RMSE: 0.9417\n",
            "K :  45\n",
            "RMSE: 0.9411\n",
            "K :  50\n",
            "RMSE: 0.9406\n",
            "K :  55\n",
            "RMSE: 0.9405\n",
            "K :  60\n",
            "RMSE: 0.9406\n",
            "K :  65\n",
            "RMSE: 0.9410\n",
            "K :  70\n",
            "RMSE: 0.9412\n",
            "K :  75\n",
            "RMSE: 0.9411\n",
            "K :  80\n",
            "RMSE: 0.9412\n",
            "K :  85\n",
            "RMSE: 0.9413\n",
            "K :  90\n",
            "RMSE: 0.9417\n",
            "K :  95\n",
            "RMSE: 0.9420\n",
            "K :  100\n",
            "RMSE: 0.9423\n",
            "K :  105\n",
            "RMSE: 0.9427\n",
            "K :  110\n",
            "RMSE: 0.9429\n",
            "K :  115\n",
            "RMSE: 0.9431\n",
            "K :  120\n",
            "RMSE: 0.9433\n",
            "K :  125\n",
            "RMSE: 0.9436\n",
            "K :  130\n",
            "RMSE: 0.9438\n",
            "K :  135\n",
            "RMSE: 0.9441\n",
            "K :  140\n",
            "RMSE: 0.9443\n",
            "K :  145\n",
            "RMSE: 0.9445\n",
            "K :  150\n",
            "RMSE: 0.9446\n"
          ],
          "name": "stdout"
        },
        {
          "output_type": "display_data",
          "data": {
            "image/png": "[encoded data removed]",
            "text/plain": [
              "<Figure size 432x288 with 1 Axes>"
            ]
          },
          "metadata": {
            "tags": [],
            "needs_background": "light"
          }
        }
      ]
    },
    {
      "cell_type": "code",
      "metadata": {
        "colab": {
          "base_uri": "https://localhost:8080/",
          "height": 1000
        },
        "id": "39_UMVOM9bwp",
        "outputId": "1bf8c82b-0e6f-497f-d745-8604cf16dc43"
      },
      "source": [
        "from surprise.model_selection import train_test_split\n",
        "from surprise import accuracy\n",
        "\n",
        "\n",
        "trainset, testset = train_test_split(data, test_size=.25)\n",
        "\n",
        "results_k_user = []\n",
        "k = [x*5 for x in range(1, 31)]\n",
        "\n",
        "for input_k in k:\n",
        "  print(\"K : \", input_k)\n",
        "  algo = KNNWithMeans(k=input_k, sim_options=sim_options_user_msd, verbose=False)\n",
        "\n",
        "  algo.fit(trainset)\n",
        "  predictions = algo.test(testset)\n",
        "\n",
        "  results_k_user.append((accuracy.mae(predictions)-0.7))\n",
        "\n",
        "fig = plt.figure()\n",
        "ax = fig.add_axes([0,0,1,1])\n",
        "ax.plot(k,results_k_user)\n",
        "plt.show()"
      ],
      "execution_count": 26,
      "outputs": [
        {
          "output_type": "stream",
          "text": [
            "K :  5\n",
            "MAE:  0.8001\n",
            "K :  10\n",
            "MAE:  0.7724\n",
            "K :  15\n",
            "MAE:  0.7619\n",
            "K :  20\n",
            "MAE:  0.7571\n",
            "K :  25\n",
            "MAE:  0.7550\n",
            "K :  30\n",
            "MAE:  0.7538\n",
            "K :  35\n",
            "MAE:  0.7532\n",
            "K :  40\n",
            "MAE:  0.7527\n",
            "K :  45\n",
            "MAE:  0.7524\n",
            "K :  50\n",
            "MAE:  0.7520\n",
            "K :  55\n",
            "MAE:  0.7520\n",
            "K :  60\n",
            "MAE:  0.7521\n",
            "K :  65\n",
            "MAE:  0.7519\n",
            "K :  70\n",
            "MAE:  0.7522\n",
            "K :  75\n",
            "MAE:  0.7522\n",
            "K :  80\n",
            "MAE:  0.7523\n",
            "K :  85\n",
            "MAE:  0.7524\n",
            "K :  90\n",
            "MAE:  0.7525\n",
            "K :  95\n",
            "MAE:  0.7526\n",
            "K :  100\n",
            "MAE:  0.7528\n",
            "K :  105\n",
            "MAE:  0.7529\n",
            "K :  110\n",
            "MAE:  0.7531\n",
            "K :  115\n",
            "MAE:  0.7533\n",
            "K :  120\n",
            "MAE:  0.7534\n",
            "K :  125\n",
            "MAE:  0.7535\n",
            "K :  130\n",
            "MAE:  0.7537\n",
            "K :  135\n",
            "MAE:  0.7538\n",
            "K :  140\n",
            "MAE:  0.7539\n",
            "K :  145\n",
            "MAE:  0.7540\n",
            "K :  150\n",
            "MAE:  0.7542\n"
          ],
          "name": "stdout"
        },
        {
          "output_type": "display_data",
          "data": {
            "image/png": "[encoded data removed]",
            "text/plain": [
              "<Figure size 432x288 with 1 Axes>"
            ]
          },
          "metadata": {
            "tags": [],
            "needs_background": "light"
          }
        }
      ]
    },
    {
      "cell_type": "code",
      "metadata": {
        "colab": {
          "base_uri": "https://localhost:8080/",
          "height": 1000
        },
        "id": "EVEeBu5A9gx2",
        "outputId": "8dfcde47-8465-42d3-d790-e60819aeb76e"
      },
      "source": [
        "from surprise.model_selection import train_test_split\n",
        "from surprise import accuracy\n",
        "\n",
        "\n",
        "trainset, testset = train_test_split(data, test_size=.25)\n",
        "\n",
        "results_k_item = []\n",
        "k = [x*5 for x in range(1, 31)]\n",
        "\n",
        "for input_k in k:\n",
        "  print(\"K : \", input_k)\n",
        "\n",
        "  algo = KNNWithMeans(k=input_k, sim_options=sim_options_item_msd, verbose=False)\n",
        "\n",
        "  algo.fit(trainset)\n",
        "  predictions = algo.test(testset)\n",
        "\n",
        "  results_k_item.append((accuracy.mae(predictions)-0.9))\n",
        "\n",
        "fig = plt.figure()\n",
        "ax = fig.add_axes([0,0,1,1])\n",
        "ax.plot(k, results_k_item)\n",
        "plt.show()"
      ],
      "execution_count": 27,
      "outputs": [
        {
          "output_type": "stream",
          "text": [
            "K :  5\n",
            "MAE:  0.7947\n",
            "K :  10\n",
            "MAE:  0.7618\n",
            "K :  15\n",
            "MAE:  0.7490\n",
            "K :  20\n",
            "MAE:  0.7437\n",
            "K :  25\n",
            "MAE:  0.7401\n",
            "K :  30\n",
            "MAE:  0.7385\n",
            "K :  35\n",
            "MAE:  0.7368\n",
            "K :  40\n",
            "MAE:  0.7363\n",
            "K :  45\n",
            "MAE:  0.7358\n",
            "K :  50\n",
            "MAE:  0.7360\n",
            "K :  55\n",
            "MAE:  0.7359\n",
            "K :  60\n",
            "MAE:  0.7360\n",
            "K :  65\n",
            "MAE:  0.7361\n",
            "K :  70\n",
            "MAE:  0.7362\n",
            "K :  75\n",
            "MAE:  0.7362\n",
            "K :  80\n",
            "MAE:  0.7366\n",
            "K :  85\n",
            "MAE:  0.7369\n",
            "K :  90\n",
            "MAE:  0.7371\n",
            "K :  95\n",
            "MAE:  0.7375\n",
            "K :  100\n",
            "MAE:  0.7378\n",
            "K :  105\n",
            "MAE:  0.7383\n",
            "K :  110\n",
            "MAE:  0.7386\n",
            "K :  115\n",
            "MAE:  0.7388\n",
            "K :  120\n",
            "MAE:  0.7390\n",
            "K :  125\n",
            "MAE:  0.7392\n",
            "K :  130\n",
            "MAE:  0.7395\n",
            "K :  135\n",
            "MAE:  0.7397\n",
            "K :  140\n",
            "MAE:  0.7399\n",
            "K :  145\n",
            "MAE:  0.7401\n",
            "K :  150\n",
            "MAE:  0.7402\n"
          ],
          "name": "stdout"
        },
        {
          "output_type": "display_data",
          "data": {
            "image/png": "[encoded data removed]",
            "text/plain": [
              "<Figure size 432x288 with 1 Axes>"
            ]
          },
          "metadata": {
            "tags": [],
            "needs_background": "light"
          }
        }
      ]
    },
    {
      "cell_type": "markdown",
      "metadata": {
        "id": "3XiP090SLkKU"
      },
      "source": [
        "# **Question 3.g**"
      ]
    },
    {
      "cell_type": "code",
      "metadata": {
        "colab": {
          "base_uri": "https://localhost:8080/"
        },
        "id": "Nzi_nicFVeTF",
        "outputId": "cef6d347-bede-4f7d-b06c-93aa5f3440d9"
      },
      "source": [
        "from surprise.model_selection import GridSearchCV\n",
        "\n",
        "k = [x*5 for x in range(1, 31)]\n",
        "\n",
        "param_grid_user = {'k': k,\n",
        "              'sim_options': {'user_based': [True]},\n",
        "              'verbose' : [False]\n",
        "              }\n",
        "\n",
        "gs_user = GridSearchCV(KNNWithMeans, param_grid_user, measures=['rmse'], cv=3)\n",
        "\n",
        "gs_user.fit(data)\n",
        "\n",
        "print(gs_user.best_score['rmse'])\n",
        "print(gs_user.best_params['rmse'])"
      ],
      "execution_count": 24,
      "outputs": [
        {
          "output_type": "stream",
          "text": [
            "0.9571183991720537\n",
            "{'k': 60, 'sim_options': {'user_based': True}, 'verbose': False}\n"
          ],
          "name": "stdout"
        }
      ]
    },
    {
      "cell_type": "code",
      "metadata": {
        "colab": {
          "base_uri": "https://localhost:8080/"
        },
        "id": "IsAAnHvgTeXi",
        "outputId": "7198f63f-daa5-4b98-fbf0-8f9e5ba6ba60"
      },
      "source": [
        "from surprise.model_selection import GridSearchCV\n",
        "\n",
        "k = [x*5 for x in range(1, 31)]\n",
        "param_grid_item = {'k': k,\n",
        "              'sim_options': {'user_based': [False]},\n",
        "              'verbose' : [False]\n",
        "              }\n",
        "\n",
        "gs_item = GridSearchCV(KNNWithMeans, param_grid_item, measures=['rmse', 'mae'], cv=3)\n",
        "\n",
        "gs_item.fit(data)\n",
        "\n",
        "print(gs_item.best_score['rmse'])\n",
        "print(gs_item.best_params['rmse'])"
      ],
      "execution_count": 25,
      "outputs": [
        {
          "output_type": "stream",
          "text": [
            "0.9407320911530483\n",
            "{'k': 60, 'sim_options': {'user_based': False}, 'verbose': False}\n"
          ],
          "name": "stdout"
        }
      ]
    }
  ]
}