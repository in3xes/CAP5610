{
  "nbformat": 4,
  "nbformat_minor": 0,
  "metadata": {
    "colab": {
      "name": "homework2.ipynb",
      "provenance": [],
      "collapsed_sections": [],
      "authorship_tag": "ABX9TyPs2BZTkXNVIYh85Cuyd1yy",
      "include_colab_link": true
    },
    "kernelspec": {
      "name": "python3",
      "display_name": "Python 3"
    }
  },
  "cells": [
    {
      "cell_type": "markdown",
      "metadata": {
        "id": "view-in-github",
        "colab_type": "text"
      },
      "source": [
        "<a href=\"https://colab.research.google.com/github/in3xes/CAP5610/blob/master/homework2.ipynb\" target=\"_parent\"><img src=\"https://colab.research.google.com/assets/colab-badge.svg\" alt=\"Open In Colab\"/></a>"
      ]
    },
    {
      "cell_type": "markdown",
      "metadata": {
        "id": "LlycbMPpILMR",
        "colab_type": "text"
      },
      "source": [
        "## **`Task 1`**"
      ]
    },
    {
      "cell_type": "code",
      "metadata": {
        "id": "vit8fWoaIYYK",
        "colab_type": "code",
        "colab": {}
      },
      "source": [
        "import pandas as pd\n",
        "import numpy as np"
      ],
      "execution_count": 9,
      "outputs": []
    },
    {
      "cell_type": "code",
      "metadata": {
        "id": "qejAR8GSLdrh",
        "colab_type": "code",
        "colab": {
          "base_uri": "https://localhost:8080/",
          "height": 197
        },
        "outputId": "e8d61c77-eb45-440f-e2d2-a82fbe27b7b0"
      },
      "source": [
        "test = pd.read_csv('/content/test.csv')\n",
        "train = pd.read_csv('/content/train.csv')\n",
        "\n",
        "combined = [train, test]\n",
        "\n",
        "train.head()"
      ],
      "execution_count": 73,
      "outputs": [
        {
          "output_type": "execute_result",
          "data": {
            "text/html": [
              "<div>\n",
              "<style scoped>\n",
              "    .dataframe tbody tr th:only-of-type {\n",
              "        vertical-align: middle;\n",
              "    }\n",
              "\n",
              "    .dataframe tbody tr th {\n",
              "        vertical-align: top;\n",
              "    }\n",
              "\n",
              "    .dataframe thead th {\n",
              "        text-align: right;\n",
              "    }\n",
              "</style>\n",
              "<table border=\"1\" class=\"dataframe\">\n",
              "  <thead>\n",
              "    <tr style=\"text-align: right;\">\n",
              "      <th></th>\n",
              "      <th>PassengerId</th>\n",
              "      <th>Survived</th>\n",
              "      <th>Pclass</th>\n",
              "      <th>Name</th>\n",
              "      <th>Sex</th>\n",
              "      <th>Age</th>\n",
              "      <th>SibSp</th>\n",
              "      <th>Parch</th>\n",
              "      <th>Ticket</th>\n",
              "      <th>Fare</th>\n",
              "      <th>Cabin</th>\n",
              "      <th>Embarked</th>\n",
              "    </tr>\n",
              "  </thead>\n",
              "  <tbody>\n",
              "    <tr>\n",
              "      <th>0</th>\n",
              "      <td>1</td>\n",
              "      <td>0</td>\n",
              "      <td>3</td>\n",
              "      <td>Braund, Mr. Owen Harris</td>\n",
              "      <td>male</td>\n",
              "      <td>22.0</td>\n",
              "      <td>1</td>\n",
              "      <td>0</td>\n",
              "      <td>A/5 21171</td>\n",
              "      <td>7.2500</td>\n",
              "      <td>NaN</td>\n",
              "      <td>S</td>\n",
              "    </tr>\n",
              "    <tr>\n",
              "      <th>1</th>\n",
              "      <td>2</td>\n",
              "      <td>1</td>\n",
              "      <td>1</td>\n",
              "      <td>Cumings, Mrs. John Bradley (Florence Briggs Th...</td>\n",
              "      <td>female</td>\n",
              "      <td>38.0</td>\n",
              "      <td>1</td>\n",
              "      <td>0</td>\n",
              "      <td>PC 17599</td>\n",
              "      <td>71.2833</td>\n",
              "      <td>C85</td>\n",
              "      <td>C</td>\n",
              "    </tr>\n",
              "    <tr>\n",
              "      <th>2</th>\n",
              "      <td>3</td>\n",
              "      <td>1</td>\n",
              "      <td>3</td>\n",
              "      <td>Heikkinen, Miss. Laina</td>\n",
              "      <td>female</td>\n",
              "      <td>26.0</td>\n",
              "      <td>0</td>\n",
              "      <td>0</td>\n",
              "      <td>STON/O2. 3101282</td>\n",
              "      <td>7.9250</td>\n",
              "      <td>NaN</td>\n",
              "      <td>S</td>\n",
              "    </tr>\n",
              "    <tr>\n",
              "      <th>3</th>\n",
              "      <td>4</td>\n",
              "      <td>1</td>\n",
              "      <td>1</td>\n",
              "      <td>Futrelle, Mrs. Jacques Heath (Lily May Peel)</td>\n",
              "      <td>female</td>\n",
              "      <td>35.0</td>\n",
              "      <td>1</td>\n",
              "      <td>0</td>\n",
              "      <td>113803</td>\n",
              "      <td>53.1000</td>\n",
              "      <td>C123</td>\n",
              "      <td>S</td>\n",
              "    </tr>\n",
              "    <tr>\n",
              "      <th>4</th>\n",
              "      <td>5</td>\n",
              "      <td>0</td>\n",
              "      <td>3</td>\n",
              "      <td>Allen, Mr. William Henry</td>\n",
              "      <td>male</td>\n",
              "      <td>35.0</td>\n",
              "      <td>0</td>\n",
              "      <td>0</td>\n",
              "      <td>373450</td>\n",
              "      <td>8.0500</td>\n",
              "      <td>NaN</td>\n",
              "      <td>S</td>\n",
              "    </tr>\n",
              "  </tbody>\n",
              "</table>\n",
              "</div>"
            ],
            "text/plain": [
              "   PassengerId  Survived  Pclass  ...     Fare Cabin  Embarked\n",
              "0            1         0       3  ...   7.2500   NaN         S\n",
              "1            2         1       1  ...  71.2833   C85         C\n",
              "2            3         1       3  ...   7.9250   NaN         S\n",
              "3            4         1       1  ...  53.1000  C123         S\n",
              "4            5         0       3  ...   8.0500   NaN         S\n",
              "\n",
              "[5 rows x 12 columns]"
            ]
          },
          "metadata": {
            "tags": []
          },
          "execution_count": 73
        }
      ]
    },
    {
      "cell_type": "markdown",
      "metadata": {
        "id": "81cr2HZ6NPDh",
        "colab_type": "text"
      },
      "source": [
        "**Q1) Preprocessing**"
      ]
    },
    {
      "cell_type": "code",
      "metadata": {
        "id": "BUKAVzZ4NTXU",
        "colab_type": "code",
        "colab": {
          "base_uri": "https://localhost:8080/",
          "height": 347
        },
        "outputId": "9a352782-e914-4815-95df-14f1c1363687"
      },
      "source": [
        "#From homework 1\n",
        "\n",
        "from numpy.random import uniform\n",
        "\n",
        "# Fill null in Fare to median\n",
        "for df in combined:\n",
        "  median_fare = df['Fare'].median()\n",
        "  df['Fare'] = df['Fare'].fillna(median_fare)\n",
        "\n",
        "for t in combined:\n",
        "  train_fare = t[\"Fare\"].tolist()\n",
        "\n",
        "  for x in range(0, len(train_fare)):\n",
        "    if t.at[t.index[x], 'Fare'] > -0.001 and t.at[t.index[x], 'Fare'] <= 7.91:\n",
        "      t.at[t.index[x], 'Fare'] =  0\n",
        "    elif t.at[t.index[x], 'Fare'] > 7.91 and t.at[t.index[x], 'Fare'] <= 14.454:\n",
        "      t.at[t.index[x], 'Fare'] =  1\n",
        "    elif t.at[t.index[x], 'Fare'] > 14.454 and t.at[t.index[x], 'Fare'] <= 31.0:\n",
        "      t.at[t.index[x], 'Fare'] =  2\n",
        "    elif t.at[t.index[x], 'Fare'] > 31.0 and t.at[t.index[x], 'Fare'] <= 512.329:\n",
        "      t.at[t.index[x], 'Fare'] =  3  \n",
        "\n",
        "# Fill null in embarked and make them numerical\n",
        "embarked_to_num_map = {'S': 0, 'C': 1, 'Q': 2}\n",
        "for df in combined:\n",
        "  df['Embarked'] = df['Embarked'].fillna('S')\n",
        "  df['Embarked'] = df['Embarked'].map(embarked_to_num_map)\n",
        "\n",
        "\n",
        "# Change sex to numerical\n",
        "sex_to_num_map = {'female': 1, 'male': 0}\n",
        "for df in combined:\n",
        "  df['Sex'] = df['Sex'].map(sex_to_num_map).astype(int)\n",
        "\n",
        "# Adgust null in Age based on median and std\n",
        "for df in combined:\n",
        "  std_age = df['Age'].std()\n",
        "  median_age = df['Age'].median() \n",
        "  df['Age'] = df['Age'].fillna(uniform(std_age, median_age))\n",
        "  df.loc[ df['Age'] <= 15, 'Age'] = 0\n",
        "  df.loc[(df['Age'] > 15) & (df['Age'] <= 30), 'Age'] = 1\n",
        "  df.loc[(df['Age'] > 30) & (df['Age'] <= 45), 'Age'] = 2\n",
        "  df.loc[(df['Age'] > 45) & (df['Age'] <= 60), 'Age'] = 3\n",
        "  df.loc[ df['Age'] > 60, 'Age'] = 4  \n",
        "\n",
        "\n",
        "train.head(10)\n",
        "\n"
      ],
      "execution_count": 74,
      "outputs": [
        {
          "output_type": "execute_result",
          "data": {
            "text/html": [
              "<div>\n",
              "<style scoped>\n",
              "    .dataframe tbody tr th:only-of-type {\n",
              "        vertical-align: middle;\n",
              "    }\n",
              "\n",
              "    .dataframe tbody tr th {\n",
              "        vertical-align: top;\n",
              "    }\n",
              "\n",
              "    .dataframe thead th {\n",
              "        text-align: right;\n",
              "    }\n",
              "</style>\n",
              "<table border=\"1\" class=\"dataframe\">\n",
              "  <thead>\n",
              "    <tr style=\"text-align: right;\">\n",
              "      <th></th>\n",
              "      <th>PassengerId</th>\n",
              "      <th>Survived</th>\n",
              "      <th>Pclass</th>\n",
              "      <th>Name</th>\n",
              "      <th>Sex</th>\n",
              "      <th>Age</th>\n",
              "      <th>SibSp</th>\n",
              "      <th>Parch</th>\n",
              "      <th>Ticket</th>\n",
              "      <th>Fare</th>\n",
              "      <th>Cabin</th>\n",
              "      <th>Embarked</th>\n",
              "    </tr>\n",
              "  </thead>\n",
              "  <tbody>\n",
              "    <tr>\n",
              "      <th>0</th>\n",
              "      <td>1</td>\n",
              "      <td>0</td>\n",
              "      <td>3</td>\n",
              "      <td>Braund, Mr. Owen Harris</td>\n",
              "      <td>0</td>\n",
              "      <td>1.0</td>\n",
              "      <td>1</td>\n",
              "      <td>0</td>\n",
              "      <td>A/5 21171</td>\n",
              "      <td>0.0</td>\n",
              "      <td>NaN</td>\n",
              "      <td>0</td>\n",
              "    </tr>\n",
              "    <tr>\n",
              "      <th>1</th>\n",
              "      <td>2</td>\n",
              "      <td>1</td>\n",
              "      <td>1</td>\n",
              "      <td>Cumings, Mrs. John Bradley (Florence Briggs Th...</td>\n",
              "      <td>1</td>\n",
              "      <td>2.0</td>\n",
              "      <td>1</td>\n",
              "      <td>0</td>\n",
              "      <td>PC 17599</td>\n",
              "      <td>3.0</td>\n",
              "      <td>C85</td>\n",
              "      <td>1</td>\n",
              "    </tr>\n",
              "    <tr>\n",
              "      <th>2</th>\n",
              "      <td>3</td>\n",
              "      <td>1</td>\n",
              "      <td>3</td>\n",
              "      <td>Heikkinen, Miss. Laina</td>\n",
              "      <td>1</td>\n",
              "      <td>1.0</td>\n",
              "      <td>0</td>\n",
              "      <td>0</td>\n",
              "      <td>STON/O2. 3101282</td>\n",
              "      <td>1.0</td>\n",
              "      <td>NaN</td>\n",
              "      <td>0</td>\n",
              "    </tr>\n",
              "    <tr>\n",
              "      <th>3</th>\n",
              "      <td>4</td>\n",
              "      <td>1</td>\n",
              "      <td>1</td>\n",
              "      <td>Futrelle, Mrs. Jacques Heath (Lily May Peel)</td>\n",
              "      <td>1</td>\n",
              "      <td>2.0</td>\n",
              "      <td>1</td>\n",
              "      <td>0</td>\n",
              "      <td>113803</td>\n",
              "      <td>3.0</td>\n",
              "      <td>C123</td>\n",
              "      <td>0</td>\n",
              "    </tr>\n",
              "    <tr>\n",
              "      <th>4</th>\n",
              "      <td>5</td>\n",
              "      <td>0</td>\n",
              "      <td>3</td>\n",
              "      <td>Allen, Mr. William Henry</td>\n",
              "      <td>0</td>\n",
              "      <td>2.0</td>\n",
              "      <td>0</td>\n",
              "      <td>0</td>\n",
              "      <td>373450</td>\n",
              "      <td>1.0</td>\n",
              "      <td>NaN</td>\n",
              "      <td>0</td>\n",
              "    </tr>\n",
              "    <tr>\n",
              "      <th>5</th>\n",
              "      <td>6</td>\n",
              "      <td>0</td>\n",
              "      <td>3</td>\n",
              "      <td>Moran, Mr. James</td>\n",
              "      <td>0</td>\n",
              "      <td>1.0</td>\n",
              "      <td>0</td>\n",
              "      <td>0</td>\n",
              "      <td>330877</td>\n",
              "      <td>1.0</td>\n",
              "      <td>NaN</td>\n",
              "      <td>2</td>\n",
              "    </tr>\n",
              "    <tr>\n",
              "      <th>6</th>\n",
              "      <td>7</td>\n",
              "      <td>0</td>\n",
              "      <td>1</td>\n",
              "      <td>McCarthy, Mr. Timothy J</td>\n",
              "      <td>0</td>\n",
              "      <td>3.0</td>\n",
              "      <td>0</td>\n",
              "      <td>0</td>\n",
              "      <td>17463</td>\n",
              "      <td>3.0</td>\n",
              "      <td>E46</td>\n",
              "      <td>0</td>\n",
              "    </tr>\n",
              "    <tr>\n",
              "      <th>7</th>\n",
              "      <td>8</td>\n",
              "      <td>0</td>\n",
              "      <td>3</td>\n",
              "      <td>Palsson, Master. Gosta Leonard</td>\n",
              "      <td>0</td>\n",
              "      <td>0.0</td>\n",
              "      <td>3</td>\n",
              "      <td>1</td>\n",
              "      <td>349909</td>\n",
              "      <td>2.0</td>\n",
              "      <td>NaN</td>\n",
              "      <td>0</td>\n",
              "    </tr>\n",
              "    <tr>\n",
              "      <th>8</th>\n",
              "      <td>9</td>\n",
              "      <td>1</td>\n",
              "      <td>3</td>\n",
              "      <td>Johnson, Mrs. Oscar W (Elisabeth Vilhelmina Berg)</td>\n",
              "      <td>1</td>\n",
              "      <td>1.0</td>\n",
              "      <td>0</td>\n",
              "      <td>2</td>\n",
              "      <td>347742</td>\n",
              "      <td>1.0</td>\n",
              "      <td>NaN</td>\n",
              "      <td>0</td>\n",
              "    </tr>\n",
              "    <tr>\n",
              "      <th>9</th>\n",
              "      <td>10</td>\n",
              "      <td>1</td>\n",
              "      <td>2</td>\n",
              "      <td>Nasser, Mrs. Nicholas (Adele Achem)</td>\n",
              "      <td>1</td>\n",
              "      <td>0.0</td>\n",
              "      <td>1</td>\n",
              "      <td>0</td>\n",
              "      <td>237736</td>\n",
              "      <td>2.0</td>\n",
              "      <td>NaN</td>\n",
              "      <td>1</td>\n",
              "    </tr>\n",
              "  </tbody>\n",
              "</table>\n",
              "</div>"
            ],
            "text/plain": [
              "   PassengerId  Survived  Pclass  ... Fare  Cabin  Embarked\n",
              "0            1         0       3  ...  0.0    NaN         0\n",
              "1            2         1       1  ...  3.0    C85         1\n",
              "2            3         1       3  ...  1.0    NaN         0\n",
              "3            4         1       1  ...  3.0   C123         0\n",
              "4            5         0       3  ...  1.0    NaN         0\n",
              "5            6         0       3  ...  1.0    NaN         2\n",
              "6            7         0       1  ...  3.0    E46         0\n",
              "7            8         0       3  ...  2.0    NaN         0\n",
              "8            9         1       3  ...  1.0    NaN         0\n",
              "9           10         1       2  ...  2.0    NaN         1\n",
              "\n",
              "[10 rows x 12 columns]"
            ]
          },
          "metadata": {
            "tags": []
          },
          "execution_count": 74
        }
      ]
    },
    {
      "cell_type": "markdown",
      "metadata": {
        "id": "r6L_Z1glXUF_",
        "colab_type": "text"
      },
      "source": [
        "**Q2) Feature selection**"
      ]
    },
    {
      "cell_type": "markdown",
      "metadata": {
        "id": "nwevmrCJXXGp",
        "colab_type": "text"
      },
      "source": [
        "Drop the feature that have very low correlation with survival. PassengerId, Name, Ticket, Cabin, SibSp columns will be dropped"
      ]
    },
    {
      "cell_type": "code",
      "metadata": {
        "id": "bhlqiOk0YW3T",
        "colab_type": "code",
        "colab": {
          "base_uri": "https://localhost:8080/",
          "height": 347
        },
        "outputId": "1b6b2bb1-eb14-4da2-975d-b3bf1c0cb135"
      },
      "source": [
        "drop_elements = ['PassengerId', 'Name', 'Ticket', 'Cabin', 'SibSp']\n",
        "train = train.drop(drop_elements, axis = 1)\n",
        "test  = test.drop(drop_elements, axis = 1)\n",
        "\n",
        "train.head(10)"
      ],
      "execution_count": 77,
      "outputs": [
        {
          "output_type": "execute_result",
          "data": {
            "text/html": [
              "<div>\n",
              "<style scoped>\n",
              "    .dataframe tbody tr th:only-of-type {\n",
              "        vertical-align: middle;\n",
              "    }\n",
              "\n",
              "    .dataframe tbody tr th {\n",
              "        vertical-align: top;\n",
              "    }\n",
              "\n",
              "    .dataframe thead th {\n",
              "        text-align: right;\n",
              "    }\n",
              "</style>\n",
              "<table border=\"1\" class=\"dataframe\">\n",
              "  <thead>\n",
              "    <tr style=\"text-align: right;\">\n",
              "      <th></th>\n",
              "      <th>Survived</th>\n",
              "      <th>Pclass</th>\n",
              "      <th>Sex</th>\n",
              "      <th>Age</th>\n",
              "      <th>Parch</th>\n",
              "      <th>Fare</th>\n",
              "      <th>Embarked</th>\n",
              "    </tr>\n",
              "  </thead>\n",
              "  <tbody>\n",
              "    <tr>\n",
              "      <th>0</th>\n",
              "      <td>0</td>\n",
              "      <td>3</td>\n",
              "      <td>0</td>\n",
              "      <td>1.0</td>\n",
              "      <td>0</td>\n",
              "      <td>0.0</td>\n",
              "      <td>0</td>\n",
              "    </tr>\n",
              "    <tr>\n",
              "      <th>1</th>\n",
              "      <td>1</td>\n",
              "      <td>1</td>\n",
              "      <td>1</td>\n",
              "      <td>2.0</td>\n",
              "      <td>0</td>\n",
              "      <td>3.0</td>\n",
              "      <td>1</td>\n",
              "    </tr>\n",
              "    <tr>\n",
              "      <th>2</th>\n",
              "      <td>1</td>\n",
              "      <td>3</td>\n",
              "      <td>1</td>\n",
              "      <td>1.0</td>\n",
              "      <td>0</td>\n",
              "      <td>1.0</td>\n",
              "      <td>0</td>\n",
              "    </tr>\n",
              "    <tr>\n",
              "      <th>3</th>\n",
              "      <td>1</td>\n",
              "      <td>1</td>\n",
              "      <td>1</td>\n",
              "      <td>2.0</td>\n",
              "      <td>0</td>\n",
              "      <td>3.0</td>\n",
              "      <td>0</td>\n",
              "    </tr>\n",
              "    <tr>\n",
              "      <th>4</th>\n",
              "      <td>0</td>\n",
              "      <td>3</td>\n",
              "      <td>0</td>\n",
              "      <td>2.0</td>\n",
              "      <td>0</td>\n",
              "      <td>1.0</td>\n",
              "      <td>0</td>\n",
              "    </tr>\n",
              "    <tr>\n",
              "      <th>5</th>\n",
              "      <td>0</td>\n",
              "      <td>3</td>\n",
              "      <td>0</td>\n",
              "      <td>1.0</td>\n",
              "      <td>0</td>\n",
              "      <td>1.0</td>\n",
              "      <td>2</td>\n",
              "    </tr>\n",
              "    <tr>\n",
              "      <th>6</th>\n",
              "      <td>0</td>\n",
              "      <td>1</td>\n",
              "      <td>0</td>\n",
              "      <td>3.0</td>\n",
              "      <td>0</td>\n",
              "      <td>3.0</td>\n",
              "      <td>0</td>\n",
              "    </tr>\n",
              "    <tr>\n",
              "      <th>7</th>\n",
              "      <td>0</td>\n",
              "      <td>3</td>\n",
              "      <td>0</td>\n",
              "      <td>0.0</td>\n",
              "      <td>1</td>\n",
              "      <td>2.0</td>\n",
              "      <td>0</td>\n",
              "    </tr>\n",
              "    <tr>\n",
              "      <th>8</th>\n",
              "      <td>1</td>\n",
              "      <td>3</td>\n",
              "      <td>1</td>\n",
              "      <td>1.0</td>\n",
              "      <td>2</td>\n",
              "      <td>1.0</td>\n",
              "      <td>0</td>\n",
              "    </tr>\n",
              "    <tr>\n",
              "      <th>9</th>\n",
              "      <td>1</td>\n",
              "      <td>2</td>\n",
              "      <td>1</td>\n",
              "      <td>0.0</td>\n",
              "      <td>0</td>\n",
              "      <td>2.0</td>\n",
              "      <td>1</td>\n",
              "    </tr>\n",
              "  </tbody>\n",
              "</table>\n",
              "</div>"
            ],
            "text/plain": [
              "   Survived  Pclass  Sex  Age  Parch  Fare  Embarked\n",
              "0         0       3    0  1.0      0   0.0         0\n",
              "1         1       1    1  2.0      0   3.0         1\n",
              "2         1       3    1  1.0      0   1.0         0\n",
              "3         1       1    1  2.0      0   3.0         0\n",
              "4         0       3    0  2.0      0   1.0         0\n",
              "5         0       3    0  1.0      0   1.0         2\n",
              "6         0       1    0  3.0      0   3.0         0\n",
              "7         0       3    0  0.0      1   2.0         0\n",
              "8         1       3    1  1.0      2   1.0         0\n",
              "9         1       2    1  0.0      0   2.0         1"
            ]
          },
          "metadata": {
            "tags": []
          },
          "execution_count": 77
        }
      ]
    },
    {
      "cell_type": "markdown",
      "metadata": {
        "id": "-sR3Dp9mZSxV",
        "colab_type": "text"
      },
      "source": [
        "**Q3)Decision tree using Gini index**"
      ]
    },
    {
      "cell_type": "code",
      "metadata": {
        "id": "wx5rPbegZe9v",
        "colab_type": "code",
        "colab": {
          "base_uri": "https://localhost:8080/",
          "height": 935
        },
        "outputId": "3e85f296-1834-41b1-cdfd-8a2884c8ba0d"
      },
      "source": [
        "from sklearn import tree\n",
        "import graphviz\n",
        "from sklearn.tree import DecisionTreeClassifier, export_graphviz\n",
        "\n",
        "features = ['Pclass', 'Sex', 'Age','Parch', 'Fare', 'Embarked']\n",
        "classes = ['Dead', 'Survived']\n",
        "\n",
        "y_train = train['Survived']\n",
        "x_train = train.drop(['Survived'], axis=1).values\n",
        "\n",
        "decision_tree = tree.DecisionTreeClassifier(max_depth = 5)\n",
        "decision_tree.fit(x_train, y_train)\n",
        "\n",
        "\n",
        "\n",
        "data = export_graphviz(decision_tree, out_file=None,feature_names=features,class_names=classes,   \n",
        "                         filled=True, rounded=True,  \n",
        "                         special_characters=True)\n",
        "graph = graphviz.Source(data)\n",
        "graph\n",
        "\n"
      ],
      "execution_count": 81,
      "outputs": [
        {
          "output_type": "execute_result",
          "data": {
            "text/plain": [
              "<graphviz.files.Source at 0x7f54c71cd668>"
            ],
            "image/svg+xml": "<?xml version=\"1.0\" encoding=\"UTF-8\" standalone=\"no\"?>\n<!DOCTYPE svg PUBLIC \"-//W3C//DTD SVG 1.1//EN\"\n \"http://www.w3.org/Graphics/SVG/1.1/DTD/svg11.dtd\">\n<!-- Generated by graphviz version 2.40.1 (20161225.0304)\n -->\n<!-- Title: Tree Pages: 1 -->\n<svg width=\"2888pt\" height=\"671pt\"\n viewBox=\"0.00 0.00 2888.00 671.00\" xmlns=\"http://www.w3.org/2000/svg\" xmlns:xlink=\"http://www.w3.org/1999/xlink\">\n<g id=\"graph0\" class=\"graph\" transform=\"scale(1 1) rotate(0) translate(4 667)\">\n<title>Tree</title>\n<polygon fill=\"#ffffff\" stroke=\"transparent\" points=\"-4,4 -4,-667 2884,-667 2884,4 -4,4\"/>\n<!-- 0 -->\n<g id=\"node1\" class=\"node\">\n<title>0</title>\n<path fill=\"#f5cfb4\" stroke=\"#000000\" d=\"M1284.5,-663C1284.5,-663 1176.5,-663 1176.5,-663 1170.5,-663 1164.5,-657 1164.5,-651 1164.5,-651 1164.5,-592 1164.5,-592 1164.5,-586 1170.5,-580 1176.5,-580 1176.5,-580 1284.5,-580 1284.5,-580 1290.5,-580 1296.5,-586 1296.5,-592 1296.5,-592 1296.5,-651 1296.5,-651 1296.5,-657 1290.5,-663 1284.5,-663\"/>\n<text text-anchor=\"start\" x=\"1200\" y=\"-647.8\" font-family=\"Helvetica,sans-Serif\" font-size=\"14.00\" fill=\"#000000\">Sex ≤ 0.5</text>\n<text text-anchor=\"start\" x=\"1192.5\" y=\"-632.8\" font-family=\"Helvetica,sans-Serif\" font-size=\"14.00\" fill=\"#000000\">gini = 0.473</text>\n<text text-anchor=\"start\" x=\"1182.5\" y=\"-617.8\" font-family=\"Helvetica,sans-Serif\" font-size=\"14.00\" fill=\"#000000\">samples = 891</text>\n<text text-anchor=\"start\" x=\"1172.5\" y=\"-602.8\" font-family=\"Helvetica,sans-Serif\" font-size=\"14.00\" fill=\"#000000\">value = [549, 342]</text>\n<text text-anchor=\"start\" x=\"1188\" y=\"-587.8\" font-family=\"Helvetica,sans-Serif\" font-size=\"14.00\" fill=\"#000000\">class = Dead</text>\n</g>\n<!-- 1 -->\n<g id=\"node2\" class=\"node\">\n<title>1</title>\n<path fill=\"#eb9e67\" stroke=\"#000000\" d=\"M809.5,-544C809.5,-544 701.5,-544 701.5,-544 695.5,-544 689.5,-538 689.5,-532 689.5,-532 689.5,-473 689.5,-473 689.5,-467 695.5,-461 701.5,-461 701.5,-461 809.5,-461 809.5,-461 815.5,-461 821.5,-467 821.5,-473 821.5,-473 821.5,-532 821.5,-532 821.5,-538 815.5,-544 809.5,-544\"/>\n<text text-anchor=\"start\" x=\"716\" y=\"-528.8\" font-family=\"Helvetica,sans-Serif\" font-size=\"14.00\" fill=\"#000000\">Pclass ≤ 1.5</text>\n<text text-anchor=\"start\" x=\"717.5\" y=\"-513.8\" font-family=\"Helvetica,sans-Serif\" font-size=\"14.00\" fill=\"#000000\">gini = 0.306</text>\n<text text-anchor=\"start\" x=\"707.5\" y=\"-498.8\" font-family=\"Helvetica,sans-Serif\" font-size=\"14.00\" fill=\"#000000\">samples = 577</text>\n<text text-anchor=\"start\" x=\"697.5\" y=\"-483.8\" font-family=\"Helvetica,sans-Serif\" font-size=\"14.00\" fill=\"#000000\">value = [468, 109]</text>\n<text text-anchor=\"start\" x=\"713\" y=\"-468.8\" font-family=\"Helvetica,sans-Serif\" font-size=\"14.00\" fill=\"#000000\">class = Dead</text>\n</g>\n<!-- 0&#45;&gt;1 -->\n<g id=\"edge1\" class=\"edge\">\n<title>0&#45;&gt;1</title>\n<path fill=\"none\" stroke=\"#000000\" d=\"M1164.4533,-604.9536C1077.1396,-583.0792 923.6262,-544.62 831.5624,-521.5556\"/>\n<polygon fill=\"#000000\" stroke=\"#000000\" points=\"832.3005,-518.1325 821.7497,-519.0973 830.5994,-524.9226 832.3005,-518.1325\"/>\n<text text-anchor=\"middle\" x=\"834.6015\" y=\"-536.841\" font-family=\"Helvetica,sans-Serif\" font-size=\"14.00\" fill=\"#000000\">True</text>\n</g>\n<!-- 24 -->\n<g id=\"node25\" class=\"node\">\n<title>24</title>\n<path fill=\"#7ebfee\" stroke=\"#000000\" d=\"M1757.5,-544C1757.5,-544 1657.5,-544 1657.5,-544 1651.5,-544 1645.5,-538 1645.5,-532 1645.5,-532 1645.5,-473 1645.5,-473 1645.5,-467 1651.5,-461 1657.5,-461 1657.5,-461 1757.5,-461 1757.5,-461 1763.5,-461 1769.5,-467 1769.5,-473 1769.5,-473 1769.5,-532 1769.5,-532 1769.5,-538 1763.5,-544 1757.5,-544\"/>\n<text text-anchor=\"start\" x=\"1668\" y=\"-528.8\" font-family=\"Helvetica,sans-Serif\" font-size=\"14.00\" fill=\"#000000\">Pclass ≤ 2.5</text>\n<text text-anchor=\"start\" x=\"1669.5\" y=\"-513.8\" font-family=\"Helvetica,sans-Serif\" font-size=\"14.00\" fill=\"#000000\">gini = 0.383</text>\n<text text-anchor=\"start\" x=\"1659.5\" y=\"-498.8\" font-family=\"Helvetica,sans-Serif\" font-size=\"14.00\" fill=\"#000000\">samples = 314</text>\n<text text-anchor=\"start\" x=\"1653.5\" y=\"-483.8\" font-family=\"Helvetica,sans-Serif\" font-size=\"14.00\" fill=\"#000000\">value = [81, 233]</text>\n<text text-anchor=\"start\" x=\"1654\" y=\"-468.8\" font-family=\"Helvetica,sans-Serif\" font-size=\"14.00\" fill=\"#000000\">class = Survived</text>\n</g>\n<!-- 0&#45;&gt;24 -->\n<g id=\"edge24\" class=\"edge\">\n<title>0&#45;&gt;24</title>\n<path fill=\"none\" stroke=\"#000000\" d=\"M1296.8248,-604.9536C1385.8646,-582.7403 1543.4586,-543.4244 1635.3694,-520.4948\"/>\n<polygon fill=\"#000000\" stroke=\"#000000\" points=\"1636.2928,-523.8718 1645.1482,-518.0553 1634.5984,-517.08 1636.2928,-523.8718\"/>\n<text text-anchor=\"middle\" x=\"1632.2753\" y=\"-535.7862\" font-family=\"Helvetica,sans-Serif\" font-size=\"14.00\" fill=\"#000000\">False</text>\n</g>\n<!-- 2 -->\n<g id=\"node3\" class=\"node\">\n<title>2</title>\n<path fill=\"#f4cbad\" stroke=\"#000000\" d=\"M410.5,-425C410.5,-425 318.5,-425 318.5,-425 312.5,-425 306.5,-419 306.5,-413 306.5,-413 306.5,-354 306.5,-354 306.5,-348 312.5,-342 318.5,-342 318.5,-342 410.5,-342 410.5,-342 416.5,-342 422.5,-348 422.5,-354 422.5,-354 422.5,-413 422.5,-413 422.5,-419 416.5,-425 410.5,-425\"/>\n<text text-anchor=\"start\" x=\"333.5\" y=\"-409.8\" font-family=\"Helvetica,sans-Serif\" font-size=\"14.00\" fill=\"#000000\">Age ≤ 0.5</text>\n<text text-anchor=\"start\" x=\"326.5\" y=\"-394.8\" font-family=\"Helvetica,sans-Serif\" font-size=\"14.00\" fill=\"#000000\">gini = 0.466</text>\n<text text-anchor=\"start\" x=\"316.5\" y=\"-379.8\" font-family=\"Helvetica,sans-Serif\" font-size=\"14.00\" fill=\"#000000\">samples = 122</text>\n<text text-anchor=\"start\" x=\"314.5\" y=\"-364.8\" font-family=\"Helvetica,sans-Serif\" font-size=\"14.00\" fill=\"#000000\">value = [77, 45]</text>\n<text text-anchor=\"start\" x=\"322\" y=\"-349.8\" font-family=\"Helvetica,sans-Serif\" font-size=\"14.00\" fill=\"#000000\">class = Dead</text>\n</g>\n<!-- 1&#45;&gt;2 -->\n<g id=\"edge2\" class=\"edge\">\n<title>1&#45;&gt;2</title>\n<path fill=\"none\" stroke=\"#000000\" d=\"M689.1722,-482.3133C617.6928,-460.5587 504.5138,-426.1129 432.4217,-404.1718\"/>\n<polygon fill=\"#000000\" stroke=\"#000000\" points=\"433.1163,-400.7248 422.5305,-401.1614 431.0781,-407.4215 433.1163,-400.7248\"/>\n</g>\n<!-- 11 -->\n<g id=\"node12\" class=\"node\">\n<title>11</title>\n<path fill=\"#e99659\" stroke=\"#000000\" d=\"M805.5,-425C805.5,-425 705.5,-425 705.5,-425 699.5,-425 693.5,-419 693.5,-413 693.5,-413 693.5,-354 693.5,-354 693.5,-348 699.5,-342 705.5,-342 705.5,-342 805.5,-342 805.5,-342 811.5,-342 817.5,-348 817.5,-354 817.5,-354 817.5,-413 817.5,-413 817.5,-419 811.5,-425 805.5,-425\"/>\n<text text-anchor=\"start\" x=\"724.5\" y=\"-409.8\" font-family=\"Helvetica,sans-Serif\" font-size=\"14.00\" fill=\"#000000\">Age ≤ 0.5</text>\n<text text-anchor=\"start\" x=\"717.5\" y=\"-394.8\" font-family=\"Helvetica,sans-Serif\" font-size=\"14.00\" fill=\"#000000\">gini = 0.242</text>\n<text text-anchor=\"start\" x=\"707.5\" y=\"-379.8\" font-family=\"Helvetica,sans-Serif\" font-size=\"14.00\" fill=\"#000000\">samples = 455</text>\n<text text-anchor=\"start\" x=\"701.5\" y=\"-364.8\" font-family=\"Helvetica,sans-Serif\" font-size=\"14.00\" fill=\"#000000\">value = [391, 64]</text>\n<text text-anchor=\"start\" x=\"713\" y=\"-349.8\" font-family=\"Helvetica,sans-Serif\" font-size=\"14.00\" fill=\"#000000\">class = Dead</text>\n</g>\n<!-- 1&#45;&gt;11 -->\n<g id=\"edge11\" class=\"edge\">\n<title>1&#45;&gt;11</title>\n<path fill=\"none\" stroke=\"#000000\" d=\"M755.5,-460.8796C755.5,-452.6838 755.5,-443.9891 755.5,-435.5013\"/>\n<polygon fill=\"#000000\" stroke=\"#000000\" points=\"759.0001,-435.298 755.5,-425.2981 752.0001,-435.2981 759.0001,-435.298\"/>\n</g>\n<!-- 3 -->\n<g id=\"node4\" class=\"node\">\n<title>3</title>\n<path fill=\"#399de5\" stroke=\"#000000\" d=\"M276,-298.5C276,-298.5 177,-298.5 177,-298.5 171,-298.5 165,-292.5 165,-286.5 165,-286.5 165,-242.5 165,-242.5 165,-236.5 171,-230.5 177,-230.5 177,-230.5 276,-230.5 276,-230.5 282,-230.5 288,-236.5 288,-242.5 288,-242.5 288,-286.5 288,-286.5 288,-292.5 282,-298.5 276,-298.5\"/>\n<text text-anchor=\"start\" x=\"197\" y=\"-283.3\" font-family=\"Helvetica,sans-Serif\" font-size=\"14.00\" fill=\"#000000\">gini = 0.0</text>\n<text text-anchor=\"start\" x=\"187\" y=\"-268.3\" font-family=\"Helvetica,sans-Serif\" font-size=\"14.00\" fill=\"#000000\">samples = 3</text>\n<text text-anchor=\"start\" x=\"185\" y=\"-253.3\" font-family=\"Helvetica,sans-Serif\" font-size=\"14.00\" fill=\"#000000\">value = [0, 3]</text>\n<text text-anchor=\"start\" x=\"173\" y=\"-238.3\" font-family=\"Helvetica,sans-Serif\" font-size=\"14.00\" fill=\"#000000\">class = Survived</text>\n</g>\n<!-- 2&#45;&gt;3 -->\n<g id=\"edge3\" class=\"edge\">\n<title>2&#45;&gt;3</title>\n<path fill=\"none\" stroke=\"#000000\" d=\"M316.2343,-341.8796C302.5899,-330.1138 287.7531,-317.3197 274.1454,-305.5855\"/>\n<polygon fill=\"#000000\" stroke=\"#000000\" points=\"276.1527,-302.6948 266.2938,-298.8149 271.5813,-307.9961 276.1527,-302.6948\"/>\n</g>\n<!-- 4 -->\n<g id=\"node5\" class=\"node\">\n<title>4</title>\n<path fill=\"#f3c6a5\" stroke=\"#000000\" d=\"M410.5,-306C410.5,-306 318.5,-306 318.5,-306 312.5,-306 306.5,-300 306.5,-294 306.5,-294 306.5,-235 306.5,-235 306.5,-229 312.5,-223 318.5,-223 318.5,-223 410.5,-223 410.5,-223 416.5,-223 422.5,-229 422.5,-235 422.5,-235 422.5,-294 422.5,-294 422.5,-300 416.5,-306 410.5,-306\"/>\n<text text-anchor=\"start\" x=\"333.5\" y=\"-290.8\" font-family=\"Helvetica,sans-Serif\" font-size=\"14.00\" fill=\"#000000\">Age ≤ 3.5</text>\n<text text-anchor=\"start\" x=\"326.5\" y=\"-275.8\" font-family=\"Helvetica,sans-Serif\" font-size=\"14.00\" fill=\"#000000\">gini = 0.457</text>\n<text text-anchor=\"start\" x=\"316.5\" y=\"-260.8\" font-family=\"Helvetica,sans-Serif\" font-size=\"14.00\" fill=\"#000000\">samples = 119</text>\n<text text-anchor=\"start\" x=\"314.5\" y=\"-245.8\" font-family=\"Helvetica,sans-Serif\" font-size=\"14.00\" fill=\"#000000\">value = [77, 42]</text>\n<text text-anchor=\"start\" x=\"322\" y=\"-230.8\" font-family=\"Helvetica,sans-Serif\" font-size=\"14.00\" fill=\"#000000\">class = Dead</text>\n</g>\n<!-- 2&#45;&gt;4 -->\n<g id=\"edge4\" class=\"edge\">\n<title>2&#45;&gt;4</title>\n<path fill=\"none\" stroke=\"#000000\" d=\"M364.5,-341.8796C364.5,-333.6838 364.5,-324.9891 364.5,-316.5013\"/>\n<polygon fill=\"#000000\" stroke=\"#000000\" points=\"368.0001,-316.298 364.5,-306.2981 361.0001,-316.2981 368.0001,-316.298\"/>\n</g>\n<!-- 5 -->\n<g id=\"node6\" class=\"node\">\n<title>5</title>\n<path fill=\"#f5cfb4\" stroke=\"#000000\" d=\"M223.5,-187C223.5,-187 131.5,-187 131.5,-187 125.5,-187 119.5,-181 119.5,-175 119.5,-175 119.5,-116 119.5,-116 119.5,-110 125.5,-104 131.5,-104 131.5,-104 223.5,-104 223.5,-104 229.5,-104 235.5,-110 235.5,-116 235.5,-116 235.5,-175 235.5,-175 235.5,-181 229.5,-187 223.5,-187\"/>\n<text text-anchor=\"start\" x=\"144.5\" y=\"-171.8\" font-family=\"Helvetica,sans-Serif\" font-size=\"14.00\" fill=\"#000000\">Fare ≤ 1.0</text>\n<text text-anchor=\"start\" x=\"139.5\" y=\"-156.8\" font-family=\"Helvetica,sans-Serif\" font-size=\"14.00\" fill=\"#000000\">gini = 0.473</text>\n<text text-anchor=\"start\" x=\"129.5\" y=\"-141.8\" font-family=\"Helvetica,sans-Serif\" font-size=\"14.00\" fill=\"#000000\">samples = 107</text>\n<text text-anchor=\"start\" x=\"127.5\" y=\"-126.8\" font-family=\"Helvetica,sans-Serif\" font-size=\"14.00\" fill=\"#000000\">value = [66, 41]</text>\n<text text-anchor=\"start\" x=\"135\" y=\"-111.8\" font-family=\"Helvetica,sans-Serif\" font-size=\"14.00\" fill=\"#000000\">class = Dead</text>\n</g>\n<!-- 4&#45;&gt;5 -->\n<g id=\"edge5\" class=\"edge\">\n<title>4&#45;&gt;5</title>\n<path fill=\"none\" stroke=\"#000000\" d=\"M306.3571,-227.5C286.6563,-214.9631 264.4994,-200.8633 244.1869,-187.9371\"/>\n<polygon fill=\"#000000\" stroke=\"#000000\" points=\"245.9227,-184.8931 235.607,-182.4772 242.1645,-190.7988 245.9227,-184.8931\"/>\n</g>\n<!-- 8 -->\n<g id=\"node9\" class=\"node\">\n<title>8</title>\n<path fill=\"#e78c4b\" stroke=\"#000000\" d=\"M406,-187C406,-187 323,-187 323,-187 317,-187 311,-181 311,-175 311,-175 311,-116 311,-116 311,-110 317,-104 323,-104 323,-104 406,-104 406,-104 412,-104 418,-110 418,-116 418,-116 418,-175 418,-175 418,-181 412,-187 406,-187\"/>\n<text text-anchor=\"start\" x=\"331.5\" y=\"-171.8\" font-family=\"Helvetica,sans-Serif\" font-size=\"14.00\" fill=\"#000000\">Fare ≤ 2.5</text>\n<text text-anchor=\"start\" x=\"326.5\" y=\"-156.8\" font-family=\"Helvetica,sans-Serif\" font-size=\"14.00\" fill=\"#000000\">gini = 0.153</text>\n<text text-anchor=\"start\" x=\"320.5\" y=\"-141.8\" font-family=\"Helvetica,sans-Serif\" font-size=\"14.00\" fill=\"#000000\">samples = 12</text>\n<text text-anchor=\"start\" x=\"319\" y=\"-126.8\" font-family=\"Helvetica,sans-Serif\" font-size=\"14.00\" fill=\"#000000\">value = [11, 1]</text>\n<text text-anchor=\"start\" x=\"322\" y=\"-111.8\" font-family=\"Helvetica,sans-Serif\" font-size=\"14.00\" fill=\"#000000\">class = Dead</text>\n</g>\n<!-- 4&#45;&gt;8 -->\n<g id=\"edge8\" class=\"edge\">\n<title>4&#45;&gt;8</title>\n<path fill=\"none\" stroke=\"#000000\" d=\"M364.5,-222.8796C364.5,-214.6838 364.5,-205.9891 364.5,-197.5013\"/>\n<polygon fill=\"#000000\" stroke=\"#000000\" points=\"368.0001,-197.298 364.5,-187.2981 361.0001,-197.2981 368.0001,-197.298\"/>\n</g>\n<!-- 6 -->\n<g id=\"node7\" class=\"node\">\n<title>6</title>\n<path fill=\"#e58139\" stroke=\"#000000\" d=\"M89,-68C89,-68 12,-68 12,-68 6,-68 0,-62 0,-56 0,-56 0,-12 0,-12 0,-6 6,0 12,0 12,0 89,0 89,0 95,0 101,-6 101,-12 101,-12 101,-56 101,-56 101,-62 95,-68 89,-68\"/>\n<text text-anchor=\"start\" x=\"21\" y=\"-52.8\" font-family=\"Helvetica,sans-Serif\" font-size=\"14.00\" fill=\"#000000\">gini = 0.0</text>\n<text text-anchor=\"start\" x=\"11\" y=\"-37.8\" font-family=\"Helvetica,sans-Serif\" font-size=\"14.00\" fill=\"#000000\">samples = 6</text>\n<text text-anchor=\"start\" x=\"9\" y=\"-22.8\" font-family=\"Helvetica,sans-Serif\" font-size=\"14.00\" fill=\"#000000\">value = [6, 0]</text>\n<text text-anchor=\"start\" x=\"8\" y=\"-7.8\" font-family=\"Helvetica,sans-Serif\" font-size=\"14.00\" fill=\"#000000\">class = Dead</text>\n</g>\n<!-- 5&#45;&gt;6 -->\n<g id=\"edge6\" class=\"edge\">\n<title>5&#45;&gt;6</title>\n<path fill=\"none\" stroke=\"#000000\" d=\"M130.2099,-103.9815C119.4275,-94.5151 107.977,-84.462 97.2187,-75.0168\"/>\n<polygon fill=\"#000000\" stroke=\"#000000\" points=\"99.3507,-72.2311 89.5268,-68.2637 94.7324,-77.4915 99.3507,-72.2311\"/>\n</g>\n<!-- 7 -->\n<g id=\"node8\" class=\"node\">\n<title>7</title>\n<path fill=\"#f7d7c0\" stroke=\"#000000\" d=\"M223.5,-68C223.5,-68 131.5,-68 131.5,-68 125.5,-68 119.5,-62 119.5,-56 119.5,-56 119.5,-12 119.5,-12 119.5,-6 125.5,0 131.5,0 131.5,0 223.5,0 223.5,0 229.5,0 235.5,-6 235.5,-12 235.5,-12 235.5,-56 235.5,-56 235.5,-62 229.5,-68 223.5,-68\"/>\n<text text-anchor=\"start\" x=\"139.5\" y=\"-52.8\" font-family=\"Helvetica,sans-Serif\" font-size=\"14.00\" fill=\"#000000\">gini = 0.482</text>\n<text text-anchor=\"start\" x=\"129.5\" y=\"-37.8\" font-family=\"Helvetica,sans-Serif\" font-size=\"14.00\" fill=\"#000000\">samples = 101</text>\n<text text-anchor=\"start\" x=\"127.5\" y=\"-22.8\" font-family=\"Helvetica,sans-Serif\" font-size=\"14.00\" fill=\"#000000\">value = [60, 41]</text>\n<text text-anchor=\"start\" x=\"135\" y=\"-7.8\" font-family=\"Helvetica,sans-Serif\" font-size=\"14.00\" fill=\"#000000\">class = Dead</text>\n</g>\n<!-- 5&#45;&gt;7 -->\n<g id=\"edge7\" class=\"edge\">\n<title>5&#45;&gt;7</title>\n<path fill=\"none\" stroke=\"#000000\" d=\"M177.5,-103.9815C177.5,-95.618 177.5,-86.7965 177.5,-78.3409\"/>\n<polygon fill=\"#000000\" stroke=\"#000000\" points=\"181.0001,-78.2636 177.5,-68.2637 174.0001,-78.2637 181.0001,-78.2636\"/>\n</g>\n<!-- 9 -->\n<g id=\"node10\" class=\"node\">\n<title>9</title>\n<path fill=\"#eca06a\" stroke=\"#000000\" d=\"M343,-68C343,-68 266,-68 266,-68 260,-68 254,-62 254,-56 254,-56 254,-12 254,-12 254,-6 260,0 266,0 266,0 343,0 343,0 349,0 355,-6 355,-12 355,-12 355,-56 355,-56 355,-62 349,-68 343,-68\"/>\n<text text-anchor=\"start\" x=\"271\" y=\"-52.8\" font-family=\"Helvetica,sans-Serif\" font-size=\"14.00\" fill=\"#000000\">gini = 0.32</text>\n<text text-anchor=\"start\" x=\"265\" y=\"-37.8\" font-family=\"Helvetica,sans-Serif\" font-size=\"14.00\" fill=\"#000000\">samples = 5</text>\n<text text-anchor=\"start\" x=\"263\" y=\"-22.8\" font-family=\"Helvetica,sans-Serif\" font-size=\"14.00\" fill=\"#000000\">value = [4, 1]</text>\n<text text-anchor=\"start\" x=\"262\" y=\"-7.8\" font-family=\"Helvetica,sans-Serif\" font-size=\"14.00\" fill=\"#000000\">class = Dead</text>\n</g>\n<!-- 8&#45;&gt;9 -->\n<g id=\"edge9\" class=\"edge\">\n<title>8&#45;&gt;9</title>\n<path fill=\"none\" stroke=\"#000000\" d=\"M342.1582,-103.9815C337.4598,-95.2504 332.4929,-86.0202 327.7617,-77.2281\"/>\n<polygon fill=\"#000000\" stroke=\"#000000\" points=\"330.7586,-75.4111 322.9379,-68.2637 324.5944,-78.7282 330.7586,-75.4111\"/>\n</g>\n<!-- 10 -->\n<g id=\"node11\" class=\"node\">\n<title>10</title>\n<path fill=\"#e58139\" stroke=\"#000000\" d=\"M462,-68C462,-68 385,-68 385,-68 379,-68 373,-62 373,-56 373,-56 373,-12 373,-12 373,-6 379,0 385,0 385,0 462,0 462,0 468,0 474,-6 474,-12 474,-12 474,-56 474,-56 474,-62 468,-68 462,-68\"/>\n<text text-anchor=\"start\" x=\"394\" y=\"-52.8\" font-family=\"Helvetica,sans-Serif\" font-size=\"14.00\" fill=\"#000000\">gini = 0.0</text>\n<text text-anchor=\"start\" x=\"384\" y=\"-37.8\" font-family=\"Helvetica,sans-Serif\" font-size=\"14.00\" fill=\"#000000\">samples = 7</text>\n<text text-anchor=\"start\" x=\"382\" y=\"-22.8\" font-family=\"Helvetica,sans-Serif\" font-size=\"14.00\" fill=\"#000000\">value = [7, 0]</text>\n<text text-anchor=\"start\" x=\"381\" y=\"-7.8\" font-family=\"Helvetica,sans-Serif\" font-size=\"14.00\" fill=\"#000000\">class = Dead</text>\n</g>\n<!-- 8&#45;&gt;10 -->\n<g id=\"edge10\" class=\"edge\">\n<title>8&#45;&gt;10</title>\n<path fill=\"none\" stroke=\"#000000\" d=\"M386.4694,-103.9815C391.0895,-95.2504 395.9736,-86.0202 400.626,-77.2281\"/>\n<polygon fill=\"#000000\" stroke=\"#000000\" points=\"403.7859,-78.7395 405.3694,-68.2637 397.5987,-75.4655 403.7859,-78.7395\"/>\n</g>\n<!-- 12 -->\n<g id=\"node13\" class=\"node\">\n<title>12</title>\n<path fill=\"#fef8f5\" stroke=\"#000000\" d=\"M732.5,-306C732.5,-306 640.5,-306 640.5,-306 634.5,-306 628.5,-300 628.5,-294 628.5,-294 628.5,-235 628.5,-235 628.5,-229 634.5,-223 640.5,-223 640.5,-223 732.5,-223 732.5,-223 738.5,-223 744.5,-229 744.5,-235 744.5,-235 744.5,-294 744.5,-294 744.5,-300 738.5,-306 732.5,-306\"/>\n<text text-anchor=\"start\" x=\"647\" y=\"-290.8\" font-family=\"Helvetica,sans-Serif\" font-size=\"14.00\" fill=\"#000000\">Pclass ≤ 2.5</text>\n<text text-anchor=\"start\" x=\"657\" y=\"-275.8\" font-family=\"Helvetica,sans-Serif\" font-size=\"14.00\" fill=\"#000000\">gini = 0.5</text>\n<text text-anchor=\"start\" x=\"642.5\" y=\"-260.8\" font-family=\"Helvetica,sans-Serif\" font-size=\"14.00\" fill=\"#000000\">samples = 37</text>\n<text text-anchor=\"start\" x=\"636.5\" y=\"-245.8\" font-family=\"Helvetica,sans-Serif\" font-size=\"14.00\" fill=\"#000000\">value = [19, 18]</text>\n<text text-anchor=\"start\" x=\"644\" y=\"-230.8\" font-family=\"Helvetica,sans-Serif\" font-size=\"14.00\" fill=\"#000000\">class = Dead</text>\n</g>\n<!-- 11&#45;&gt;12 -->\n<g id=\"edge12\" class=\"edge\">\n<title>11&#45;&gt;12</title>\n<path fill=\"none\" stroke=\"#000000\" d=\"M731.3671,-341.8796C726.3539,-333.2335 721.0187,-324.0322 715.8419,-315.1042\"/>\n<polygon fill=\"#000000\" stroke=\"#000000\" points=\"718.7798,-313.1934 710.7359,-306.2981 712.7242,-316.7047 718.7798,-313.1934\"/>\n</g>\n<!-- 17 -->\n<g id=\"node18\" class=\"node\">\n<title>17</title>\n<path fill=\"#e89151\" stroke=\"#000000\" d=\"M930.5,-306C930.5,-306 830.5,-306 830.5,-306 824.5,-306 818.5,-300 818.5,-294 818.5,-294 818.5,-235 818.5,-235 818.5,-229 824.5,-223 830.5,-223 830.5,-223 930.5,-223 930.5,-223 936.5,-223 942.5,-229 942.5,-235 942.5,-235 942.5,-294 942.5,-294 942.5,-300 936.5,-306 930.5,-306\"/>\n<text text-anchor=\"start\" x=\"847.5\" y=\"-290.8\" font-family=\"Helvetica,sans-Serif\" font-size=\"14.00\" fill=\"#000000\">Fare ≤ 0.5</text>\n<text text-anchor=\"start\" x=\"842.5\" y=\"-275.8\" font-family=\"Helvetica,sans-Serif\" font-size=\"14.00\" fill=\"#000000\">gini = 0.196</text>\n<text text-anchor=\"start\" x=\"832.5\" y=\"-260.8\" font-family=\"Helvetica,sans-Serif\" font-size=\"14.00\" fill=\"#000000\">samples = 418</text>\n<text text-anchor=\"start\" x=\"826.5\" y=\"-245.8\" font-family=\"Helvetica,sans-Serif\" font-size=\"14.00\" fill=\"#000000\">value = [372, 46]</text>\n<text text-anchor=\"start\" x=\"838\" y=\"-230.8\" font-family=\"Helvetica,sans-Serif\" font-size=\"14.00\" fill=\"#000000\">class = Dead</text>\n</g>\n<!-- 11&#45;&gt;17 -->\n<g id=\"edge17\" class=\"edge\">\n<title>11&#45;&gt;17</title>\n<path fill=\"none\" stroke=\"#000000\" d=\"M799.2189,-341.8796C808.8686,-332.6931 819.1766,-322.8798 829.0991,-313.4336\"/>\n<polygon fill=\"#000000\" stroke=\"#000000\" points=\"831.765,-315.7282 836.5945,-306.2981 826.9384,-310.6582 831.765,-315.7282\"/>\n</g>\n<!-- 13 -->\n<g id=\"node14\" class=\"node\">\n<title>13</title>\n<path fill=\"#399de5\" stroke=\"#000000\" d=\"M603,-179.5C603,-179.5 504,-179.5 504,-179.5 498,-179.5 492,-173.5 492,-167.5 492,-167.5 492,-123.5 492,-123.5 492,-117.5 498,-111.5 504,-111.5 504,-111.5 603,-111.5 603,-111.5 609,-111.5 615,-117.5 615,-123.5 615,-123.5 615,-167.5 615,-167.5 615,-173.5 609,-179.5 603,-179.5\"/>\n<text text-anchor=\"start\" x=\"524\" y=\"-164.3\" font-family=\"Helvetica,sans-Serif\" font-size=\"14.00\" fill=\"#000000\">gini = 0.0</text>\n<text text-anchor=\"start\" x=\"514\" y=\"-149.3\" font-family=\"Helvetica,sans-Serif\" font-size=\"14.00\" fill=\"#000000\">samples = 9</text>\n<text text-anchor=\"start\" x=\"512\" y=\"-134.3\" font-family=\"Helvetica,sans-Serif\" font-size=\"14.00\" fill=\"#000000\">value = [0, 9]</text>\n<text text-anchor=\"start\" x=\"500\" y=\"-119.3\" font-family=\"Helvetica,sans-Serif\" font-size=\"14.00\" fill=\"#000000\">class = Survived</text>\n</g>\n<!-- 12&#45;&gt;13 -->\n<g id=\"edge13\" class=\"edge\">\n<title>12&#45;&gt;13</title>\n<path fill=\"none\" stroke=\"#000000\" d=\"M639.9831,-222.8796C626.833,-211.1138 612.5337,-198.3197 599.4191,-186.5855\"/>\n<polygon fill=\"#000000\" stroke=\"#000000\" points=\"601.6382,-183.8746 591.852,-179.8149 596.9706,-189.0913 601.6382,-183.8746\"/>\n</g>\n<!-- 14 -->\n<g id=\"node15\" class=\"node\">\n<title>14</title>\n<path fill=\"#f1bd97\" stroke=\"#000000\" d=\"M728,-187C728,-187 645,-187 645,-187 639,-187 633,-181 633,-175 633,-175 633,-116 633,-116 633,-110 639,-104 645,-104 645,-104 728,-104 728,-104 734,-104 740,-110 740,-116 740,-116 740,-175 740,-175 740,-181 734,-187 728,-187\"/>\n<text text-anchor=\"start\" x=\"653.5\" y=\"-171.8\" font-family=\"Helvetica,sans-Serif\" font-size=\"14.00\" fill=\"#000000\">Fare ≤ 1.5</text>\n<text text-anchor=\"start\" x=\"648.5\" y=\"-156.8\" font-family=\"Helvetica,sans-Serif\" font-size=\"14.00\" fill=\"#000000\">gini = 0.436</text>\n<text text-anchor=\"start\" x=\"642.5\" y=\"-141.8\" font-family=\"Helvetica,sans-Serif\" font-size=\"14.00\" fill=\"#000000\">samples = 28</text>\n<text text-anchor=\"start\" x=\"641\" y=\"-126.8\" font-family=\"Helvetica,sans-Serif\" font-size=\"14.00\" fill=\"#000000\">value = [19, 9]</text>\n<text text-anchor=\"start\" x=\"644\" y=\"-111.8\" font-family=\"Helvetica,sans-Serif\" font-size=\"14.00\" fill=\"#000000\">class = Dead</text>\n</g>\n<!-- 12&#45;&gt;14 -->\n<g id=\"edge14\" class=\"edge\">\n<title>12&#45;&gt;14</title>\n<path fill=\"none\" stroke=\"#000000\" d=\"M686.5,-222.8796C686.5,-214.6838 686.5,-205.9891 686.5,-197.5013\"/>\n<polygon fill=\"#000000\" stroke=\"#000000\" points=\"690.0001,-197.298 686.5,-187.2981 683.0001,-197.2981 690.0001,-197.298\"/>\n</g>\n<!-- 15 -->\n<g id=\"node16\" class=\"node\">\n<title>15</title>\n<path fill=\"#6ab6ec\" stroke=\"#000000\" d=\"M603,-68C603,-68 504,-68 504,-68 498,-68 492,-62 492,-56 492,-56 492,-12 492,-12 492,-6 498,0 504,0 504,0 603,0 603,0 609,0 615,-6 615,-12 615,-12 615,-56 615,-56 615,-62 609,-68 603,-68\"/>\n<text text-anchor=\"start\" x=\"520\" y=\"-52.8\" font-family=\"Helvetica,sans-Serif\" font-size=\"14.00\" fill=\"#000000\">gini = 0.32</text>\n<text text-anchor=\"start\" x=\"514\" y=\"-37.8\" font-family=\"Helvetica,sans-Serif\" font-size=\"14.00\" fill=\"#000000\">samples = 5</text>\n<text text-anchor=\"start\" x=\"512\" y=\"-22.8\" font-family=\"Helvetica,sans-Serif\" font-size=\"14.00\" fill=\"#000000\">value = [1, 4]</text>\n<text text-anchor=\"start\" x=\"500\" y=\"-7.8\" font-family=\"Helvetica,sans-Serif\" font-size=\"14.00\" fill=\"#000000\">class = Survived</text>\n</g>\n<!-- 14&#45;&gt;15 -->\n<g id=\"edge15\" class=\"edge\">\n<title>14&#45;&gt;15</title>\n<path fill=\"none\" stroke=\"#000000\" d=\"M636.9757,-103.9815C625.5743,-94.4232 613.4595,-84.2668 602.0979,-74.7419\"/>\n<polygon fill=\"#000000\" stroke=\"#000000\" points=\"604.2825,-72.006 594.3706,-68.2637 599.7853,-77.3704 604.2825,-72.006\"/>\n</g>\n<!-- 16 -->\n<g id=\"node17\" class=\"node\">\n<title>16</title>\n<path fill=\"#eca470\" stroke=\"#000000\" d=\"M728,-68C728,-68 645,-68 645,-68 639,-68 633,-62 633,-56 633,-56 633,-12 633,-12 633,-6 639,0 645,0 645,0 728,0 728,0 734,0 740,-6 740,-12 740,-12 740,-56 740,-56 740,-62 734,-68 728,-68\"/>\n<text text-anchor=\"start\" x=\"653\" y=\"-52.8\" font-family=\"Helvetica,sans-Serif\" font-size=\"14.00\" fill=\"#000000\">gini = 0.34</text>\n<text text-anchor=\"start\" x=\"642.5\" y=\"-37.8\" font-family=\"Helvetica,sans-Serif\" font-size=\"14.00\" fill=\"#000000\">samples = 23</text>\n<text text-anchor=\"start\" x=\"641\" y=\"-22.8\" font-family=\"Helvetica,sans-Serif\" font-size=\"14.00\" fill=\"#000000\">value = [18, 5]</text>\n<text text-anchor=\"start\" x=\"644\" y=\"-7.8\" font-family=\"Helvetica,sans-Serif\" font-size=\"14.00\" fill=\"#000000\">class = Dead</text>\n</g>\n<!-- 14&#45;&gt;16 -->\n<g id=\"edge16\" class=\"edge\">\n<title>14&#45;&gt;16</title>\n<path fill=\"none\" stroke=\"#000000\" d=\"M686.5,-103.9815C686.5,-95.618 686.5,-86.7965 686.5,-78.3409\"/>\n<polygon fill=\"#000000\" stroke=\"#000000\" points=\"690.0001,-78.2636 686.5,-68.2637 683.0001,-78.2637 690.0001,-78.2636\"/>\n</g>\n<!-- 18 -->\n<g id=\"node19\" class=\"node\">\n<title>18</title>\n<path fill=\"#e78c4a\" stroke=\"#000000\" d=\"M930.5,-187C930.5,-187 830.5,-187 830.5,-187 824.5,-187 818.5,-181 818.5,-175 818.5,-175 818.5,-116 818.5,-116 818.5,-110 824.5,-104 830.5,-104 830.5,-104 930.5,-104 930.5,-104 936.5,-104 942.5,-110 942.5,-116 942.5,-116 942.5,-175 942.5,-175 942.5,-181 936.5,-187 930.5,-187\"/>\n<text text-anchor=\"start\" x=\"849.5\" y=\"-171.8\" font-family=\"Helvetica,sans-Serif\" font-size=\"14.00\" fill=\"#000000\">Age ≤ 1.5</text>\n<text text-anchor=\"start\" x=\"842.5\" y=\"-156.8\" font-family=\"Helvetica,sans-Serif\" font-size=\"14.00\" fill=\"#000000\">gini = 0.149</text>\n<text text-anchor=\"start\" x=\"832.5\" y=\"-141.8\" font-family=\"Helvetica,sans-Serif\" font-size=\"14.00\" fill=\"#000000\">samples = 173</text>\n<text text-anchor=\"start\" x=\"826.5\" y=\"-126.8\" font-family=\"Helvetica,sans-Serif\" font-size=\"14.00\" fill=\"#000000\">value = [159, 14]</text>\n<text text-anchor=\"start\" x=\"838\" y=\"-111.8\" font-family=\"Helvetica,sans-Serif\" font-size=\"14.00\" fill=\"#000000\">class = Dead</text>\n</g>\n<!-- 17&#45;&gt;18 -->\n<g id=\"edge18\" class=\"edge\">\n<title>17&#45;&gt;18</title>\n<path fill=\"none\" stroke=\"#000000\" d=\"M880.5,-222.8796C880.5,-214.6838 880.5,-205.9891 880.5,-197.5013\"/>\n<polygon fill=\"#000000\" stroke=\"#000000\" points=\"884.0001,-197.298 880.5,-187.2981 877.0001,-197.2981 884.0001,-197.298\"/>\n</g>\n<!-- 21 -->\n<g id=\"node22\" class=\"node\">\n<title>21</title>\n<path fill=\"#e99457\" stroke=\"#000000\" d=\"M1129.5,-187C1129.5,-187 1029.5,-187 1029.5,-187 1023.5,-187 1017.5,-181 1017.5,-175 1017.5,-175 1017.5,-116 1017.5,-116 1017.5,-110 1023.5,-104 1029.5,-104 1029.5,-104 1129.5,-104 1129.5,-104 1135.5,-104 1141.5,-110 1141.5,-116 1141.5,-116 1141.5,-175 1141.5,-175 1141.5,-181 1135.5,-187 1129.5,-187\"/>\n<text text-anchor=\"start\" x=\"1040\" y=\"-171.8\" font-family=\"Helvetica,sans-Serif\" font-size=\"14.00\" fill=\"#000000\">Pclass ≤ 2.5</text>\n<text text-anchor=\"start\" x=\"1041.5\" y=\"-156.8\" font-family=\"Helvetica,sans-Serif\" font-size=\"14.00\" fill=\"#000000\">gini = 0.227</text>\n<text text-anchor=\"start\" x=\"1031.5\" y=\"-141.8\" font-family=\"Helvetica,sans-Serif\" font-size=\"14.00\" fill=\"#000000\">samples = 245</text>\n<text text-anchor=\"start\" x=\"1025.5\" y=\"-126.8\" font-family=\"Helvetica,sans-Serif\" font-size=\"14.00\" fill=\"#000000\">value = [213, 32]</text>\n<text text-anchor=\"start\" x=\"1037\" y=\"-111.8\" font-family=\"Helvetica,sans-Serif\" font-size=\"14.00\" fill=\"#000000\">class = Dead</text>\n</g>\n<!-- 17&#45;&gt;21 -->\n<g id=\"edge21\" class=\"edge\">\n<title>17&#45;&gt;21</title>\n<path fill=\"none\" stroke=\"#000000\" d=\"M942.6463,-227.3371C963.5946,-214.8103 987.127,-200.7381 1008.693,-187.8419\"/>\n<polygon fill=\"#000000\" stroke=\"#000000\" points=\"1010.6967,-190.7218 1017.483,-182.5856 1007.1041,-184.714 1010.6967,-190.7218\"/>\n</g>\n<!-- 19 -->\n<g id=\"node20\" class=\"node\">\n<title>19</title>\n<path fill=\"#e88e4e\" stroke=\"#000000\" d=\"M870.5,-68C870.5,-68 770.5,-68 770.5,-68 764.5,-68 758.5,-62 758.5,-56 758.5,-56 758.5,-12 758.5,-12 758.5,-6 764.5,0 770.5,0 770.5,0 870.5,0 870.5,0 876.5,0 882.5,-6 882.5,-12 882.5,-12 882.5,-56 882.5,-56 882.5,-62 876.5,-68 870.5,-68\"/>\n<text text-anchor=\"start\" x=\"782.5\" y=\"-52.8\" font-family=\"Helvetica,sans-Serif\" font-size=\"14.00\" fill=\"#000000\">gini = 0.173</text>\n<text text-anchor=\"start\" x=\"772.5\" y=\"-37.8\" font-family=\"Helvetica,sans-Serif\" font-size=\"14.00\" fill=\"#000000\">samples = 136</text>\n<text text-anchor=\"start\" x=\"766.5\" y=\"-22.8\" font-family=\"Helvetica,sans-Serif\" font-size=\"14.00\" fill=\"#000000\">value = [123, 13]</text>\n<text text-anchor=\"start\" x=\"778\" y=\"-7.8\" font-family=\"Helvetica,sans-Serif\" font-size=\"14.00\" fill=\"#000000\">class = Dead</text>\n</g>\n<!-- 18&#45;&gt;19 -->\n<g id=\"edge19\" class=\"edge\">\n<title>18&#45;&gt;19</title>\n<path fill=\"none\" stroke=\"#000000\" d=\"M858.1582,-103.9815C853.4598,-95.2504 848.4929,-86.0202 843.7617,-77.2281\"/>\n<polygon fill=\"#000000\" stroke=\"#000000\" points=\"846.7586,-75.4111 838.9379,-68.2637 840.5944,-78.7282 846.7586,-75.4111\"/>\n</g>\n<!-- 20 -->\n<g id=\"node21\" class=\"node\">\n<title>20</title>\n<path fill=\"#e6843e\" stroke=\"#000000\" d=\"M996,-68C996,-68 913,-68 913,-68 907,-68 901,-62 901,-56 901,-56 901,-12 901,-12 901,-6 907,0 913,0 913,0 996,0 996,0 1002,0 1008,-6 1008,-12 1008,-12 1008,-56 1008,-56 1008,-62 1002,-68 996,-68\"/>\n<text text-anchor=\"start\" x=\"916.5\" y=\"-52.8\" font-family=\"Helvetica,sans-Serif\" font-size=\"14.00\" fill=\"#000000\">gini = 0.053</text>\n<text text-anchor=\"start\" x=\"910.5\" y=\"-37.8\" font-family=\"Helvetica,sans-Serif\" font-size=\"14.00\" fill=\"#000000\">samples = 37</text>\n<text text-anchor=\"start\" x=\"909\" y=\"-22.8\" font-family=\"Helvetica,sans-Serif\" font-size=\"14.00\" fill=\"#000000\">value = [36, 1]</text>\n<text text-anchor=\"start\" x=\"912\" y=\"-7.8\" font-family=\"Helvetica,sans-Serif\" font-size=\"14.00\" fill=\"#000000\">class = Dead</text>\n</g>\n<!-- 18&#45;&gt;20 -->\n<g id=\"edge20\" class=\"edge\">\n<title>18&#45;&gt;20</title>\n<path fill=\"none\" stroke=\"#000000\" d=\"M908.0549,-103.9815C913.9715,-95.0666 920.2335,-85.6313 926.1787,-76.6734\"/>\n<polygon fill=\"#000000\" stroke=\"#000000\" points=\"929.1464,-78.5311 931.76,-68.2637 923.314,-74.6602 929.1464,-78.5311\"/>\n</g>\n<!-- 22 -->\n<g id=\"node23\" class=\"node\">\n<title>22</title>\n<path fill=\"#e78d4c\" stroke=\"#000000\" d=\"M1121,-68C1121,-68 1038,-68 1038,-68 1032,-68 1026,-62 1026,-56 1026,-56 1026,-12 1026,-12 1026,-6 1032,0 1038,0 1038,0 1121,0 1121,0 1127,0 1133,-6 1133,-12 1133,-12 1133,-56 1133,-56 1133,-62 1127,-68 1121,-68\"/>\n<text text-anchor=\"start\" x=\"1041.5\" y=\"-52.8\" font-family=\"Helvetica,sans-Serif\" font-size=\"14.00\" fill=\"#000000\">gini = 0.157</text>\n<text text-anchor=\"start\" x=\"1035.5\" y=\"-37.8\" font-family=\"Helvetica,sans-Serif\" font-size=\"14.00\" fill=\"#000000\">samples = 93</text>\n<text text-anchor=\"start\" x=\"1034\" y=\"-22.8\" font-family=\"Helvetica,sans-Serif\" font-size=\"14.00\" fill=\"#000000\">value = [85, 8]</text>\n<text text-anchor=\"start\" x=\"1037\" y=\"-7.8\" font-family=\"Helvetica,sans-Serif\" font-size=\"14.00\" fill=\"#000000\">class = Dead</text>\n</g>\n<!-- 21&#45;&gt;22 -->\n<g id=\"edge22\" class=\"edge\">\n<title>21&#45;&gt;22</title>\n<path fill=\"none\" stroke=\"#000000\" d=\"M1079.5,-103.9815C1079.5,-95.618 1079.5,-86.7965 1079.5,-78.3409\"/>\n<polygon fill=\"#000000\" stroke=\"#000000\" points=\"1083.0001,-78.2636 1079.5,-68.2637 1076.0001,-78.2637 1083.0001,-78.2636\"/>\n</g>\n<!-- 23 -->\n<g id=\"node24\" class=\"node\">\n<title>23</title>\n<path fill=\"#ea995e\" stroke=\"#000000\" d=\"M1263.5,-68C1263.5,-68 1163.5,-68 1163.5,-68 1157.5,-68 1151.5,-62 1151.5,-56 1151.5,-56 1151.5,-12 1151.5,-12 1151.5,-6 1157.5,0 1163.5,0 1163.5,0 1263.5,0 1263.5,0 1269.5,0 1275.5,-6 1275.5,-12 1275.5,-12 1275.5,-56 1275.5,-56 1275.5,-62 1269.5,-68 1263.5,-68\"/>\n<text text-anchor=\"start\" x=\"1175.5\" y=\"-52.8\" font-family=\"Helvetica,sans-Serif\" font-size=\"14.00\" fill=\"#000000\">gini = 0.266</text>\n<text text-anchor=\"start\" x=\"1165.5\" y=\"-37.8\" font-family=\"Helvetica,sans-Serif\" font-size=\"14.00\" fill=\"#000000\">samples = 152</text>\n<text text-anchor=\"start\" x=\"1159.5\" y=\"-22.8\" font-family=\"Helvetica,sans-Serif\" font-size=\"14.00\" fill=\"#000000\">value = [128, 24]</text>\n<text text-anchor=\"start\" x=\"1171\" y=\"-7.8\" font-family=\"Helvetica,sans-Serif\" font-size=\"14.00\" fill=\"#000000\">class = Dead</text>\n</g>\n<!-- 21&#45;&gt;23 -->\n<g id=\"edge23\" class=\"edge\">\n<title>21&#45;&gt;23</title>\n<path fill=\"none\" stroke=\"#000000\" d=\"M1129.3967,-103.9815C1140.8838,-94.4232 1153.0897,-84.2668 1164.5367,-74.7419\"/>\n<polygon fill=\"#000000\" stroke=\"#000000\" points=\"1166.8739,-77.3503 1172.3221,-68.2637 1162.3965,-71.9695 1166.8739,-77.3503\"/>\n</g>\n<!-- 25 -->\n<g id=\"node26\" class=\"node\">\n<title>25</title>\n<path fill=\"#44a2e6\" stroke=\"#000000\" d=\"M1757,-425C1757,-425 1658,-425 1658,-425 1652,-425 1646,-419 1646,-413 1646,-413 1646,-354 1646,-354 1646,-348 1652,-342 1658,-342 1658,-342 1757,-342 1757,-342 1763,-342 1769,-348 1769,-354 1769,-354 1769,-413 1769,-413 1769,-419 1763,-425 1757,-425\"/>\n<text text-anchor=\"start\" x=\"1674.5\" y=\"-409.8\" font-family=\"Helvetica,sans-Serif\" font-size=\"14.00\" fill=\"#000000\">Fare ≤ 2.5</text>\n<text text-anchor=\"start\" x=\"1678\" y=\"-394.8\" font-family=\"Helvetica,sans-Serif\" font-size=\"14.00\" fill=\"#000000\">gini = 0.1</text>\n<text text-anchor=\"start\" x=\"1659.5\" y=\"-379.8\" font-family=\"Helvetica,sans-Serif\" font-size=\"14.00\" fill=\"#000000\">samples = 170</text>\n<text text-anchor=\"start\" x=\"1657.5\" y=\"-364.8\" font-family=\"Helvetica,sans-Serif\" font-size=\"14.00\" fill=\"#000000\">value = [9, 161]</text>\n<text text-anchor=\"start\" x=\"1654\" y=\"-349.8\" font-family=\"Helvetica,sans-Serif\" font-size=\"14.00\" fill=\"#000000\">class = Survived</text>\n</g>\n<!-- 24&#45;&gt;25 -->\n<g id=\"edge25\" class=\"edge\">\n<title>24&#45;&gt;25</title>\n<path fill=\"none\" stroke=\"#000000\" d=\"M1707.5,-460.8796C1707.5,-452.6838 1707.5,-443.9891 1707.5,-435.5013\"/>\n<polygon fill=\"#000000\" stroke=\"#000000\" points=\"1711.0001,-435.298 1707.5,-425.2981 1704.0001,-435.2981 1711.0001,-435.298\"/>\n</g>\n<!-- 38 -->\n<g id=\"node39\" class=\"node\">\n<title>38</title>\n<path fill=\"#ffffff\" stroke=\"#000000\" d=\"M2412,-425C2412,-425 2317,-425 2317,-425 2311,-425 2305,-419 2305,-413 2305,-413 2305,-354 2305,-354 2305,-348 2311,-342 2317,-342 2317,-342 2412,-342 2412,-342 2418,-342 2424,-348 2424,-354 2424,-354 2424,-413 2424,-413 2424,-419 2418,-425 2412,-425\"/>\n<text text-anchor=\"start\" x=\"2313\" y=\"-409.8\" font-family=\"Helvetica,sans-Serif\" font-size=\"14.00\" fill=\"#000000\">Embarked ≤ 0.5</text>\n<text text-anchor=\"start\" x=\"2335\" y=\"-394.8\" font-family=\"Helvetica,sans-Serif\" font-size=\"14.00\" fill=\"#000000\">gini = 0.5</text>\n<text text-anchor=\"start\" x=\"2316.5\" y=\"-379.8\" font-family=\"Helvetica,sans-Serif\" font-size=\"14.00\" fill=\"#000000\">samples = 144</text>\n<text text-anchor=\"start\" x=\"2314.5\" y=\"-364.8\" font-family=\"Helvetica,sans-Serif\" font-size=\"14.00\" fill=\"#000000\">value = [72, 72]</text>\n<text text-anchor=\"start\" x=\"2322\" y=\"-349.8\" font-family=\"Helvetica,sans-Serif\" font-size=\"14.00\" fill=\"#000000\">class = Dead</text>\n</g>\n<!-- 24&#45;&gt;38 -->\n<g id=\"edge38\" class=\"edge\">\n<title>24&#45;&gt;38</title>\n<path fill=\"none\" stroke=\"#000000\" d=\"M1769.6048,-491.2512C1892.4676,-468.9975 2165.7887,-419.4918 2294.6773,-396.1467\"/>\n<polygon fill=\"#000000\" stroke=\"#000000\" points=\"2295.609,-399.535 2304.8251,-394.3087 2294.3614,-392.6471 2295.609,-399.535\"/>\n</g>\n<!-- 26 -->\n<g id=\"node27\" class=\"node\">\n<title>26</title>\n<path fill=\"#4da7e8\" stroke=\"#000000\" d=\"M1687,-306C1687,-306 1588,-306 1588,-306 1582,-306 1576,-300 1576,-294 1576,-294 1576,-235 1576,-235 1576,-229 1582,-223 1588,-223 1588,-223 1687,-223 1687,-223 1693,-223 1699,-229 1699,-235 1699,-235 1699,-294 1699,-294 1699,-300 1693,-306 1687,-306\"/>\n<text text-anchor=\"start\" x=\"1606.5\" y=\"-290.8\" font-family=\"Helvetica,sans-Serif\" font-size=\"14.00\" fill=\"#000000\">Age ≤ 2.5</text>\n<text text-anchor=\"start\" x=\"1599.5\" y=\"-275.8\" font-family=\"Helvetica,sans-Serif\" font-size=\"14.00\" fill=\"#000000\">gini = 0.169</text>\n<text text-anchor=\"start\" x=\"1593.5\" y=\"-260.8\" font-family=\"Helvetica,sans-Serif\" font-size=\"14.00\" fill=\"#000000\">samples = 75</text>\n<text text-anchor=\"start\" x=\"1592\" y=\"-245.8\" font-family=\"Helvetica,sans-Serif\" font-size=\"14.00\" fill=\"#000000\">value = [7, 68]</text>\n<text text-anchor=\"start\" x=\"1584\" y=\"-230.8\" font-family=\"Helvetica,sans-Serif\" font-size=\"14.00\" fill=\"#000000\">class = Survived</text>\n</g>\n<!-- 25&#45;&gt;26 -->\n<g id=\"edge26\" class=\"edge\">\n<title>25&#45;&gt;26</title>\n<path fill=\"none\" stroke=\"#000000\" d=\"M1683.0174,-341.8796C1677.9315,-333.2335 1672.5189,-324.0322 1667.2672,-315.1042\"/>\n<polygon fill=\"#000000\" stroke=\"#000000\" points=\"1670.1741,-313.1428 1662.0871,-306.2981 1664.1406,-316.692 1670.1741,-313.1428\"/>\n</g>\n<!-- 33 -->\n<g id=\"node34\" class=\"node\">\n<title>33</title>\n<path fill=\"#3d9fe6\" stroke=\"#000000\" d=\"M1828,-306C1828,-306 1729,-306 1729,-306 1723,-306 1717,-300 1717,-294 1717,-294 1717,-235 1717,-235 1717,-229 1723,-223 1729,-223 1729,-223 1828,-223 1828,-223 1834,-223 1840,-229 1840,-235 1840,-235 1840,-294 1840,-294 1840,-300 1834,-306 1828,-306\"/>\n<text text-anchor=\"start\" x=\"1741.5\" y=\"-290.8\" font-family=\"Helvetica,sans-Serif\" font-size=\"14.00\" fill=\"#000000\">Parch ≤ 1.5</text>\n<text text-anchor=\"start\" x=\"1740.5\" y=\"-275.8\" font-family=\"Helvetica,sans-Serif\" font-size=\"14.00\" fill=\"#000000\">gini = 0.041</text>\n<text text-anchor=\"start\" x=\"1734.5\" y=\"-260.8\" font-family=\"Helvetica,sans-Serif\" font-size=\"14.00\" fill=\"#000000\">samples = 95</text>\n<text text-anchor=\"start\" x=\"1733\" y=\"-245.8\" font-family=\"Helvetica,sans-Serif\" font-size=\"14.00\" fill=\"#000000\">value = [2, 93]</text>\n<text text-anchor=\"start\" x=\"1725\" y=\"-230.8\" font-family=\"Helvetica,sans-Serif\" font-size=\"14.00\" fill=\"#000000\">class = Survived</text>\n</g>\n<!-- 25&#45;&gt;33 -->\n<g id=\"edge33\" class=\"edge\">\n<title>25&#45;&gt;33</title>\n<path fill=\"none\" stroke=\"#000000\" d=\"M1732.3324,-341.8796C1737.4909,-333.2335 1742.9808,-324.0322 1748.3076,-315.1042\"/>\n<polygon fill=\"#000000\" stroke=\"#000000\" points=\"1751.4436,-316.679 1753.5617,-306.2981 1745.4322,-313.0924 1751.4436,-316.679\"/>\n</g>\n<!-- 27 -->\n<g id=\"node28\" class=\"node\">\n<title>27</title>\n<path fill=\"#49a5e7\" stroke=\"#000000\" d=\"M1546,-187C1546,-187 1447,-187 1447,-187 1441,-187 1435,-181 1435,-175 1435,-175 1435,-116 1435,-116 1435,-110 1441,-104 1447,-104 1447,-104 1546,-104 1546,-104 1552,-104 1558,-110 1558,-116 1558,-116 1558,-175 1558,-175 1558,-181 1552,-187 1546,-187\"/>\n<text text-anchor=\"start\" x=\"1445\" y=\"-171.8\" font-family=\"Helvetica,sans-Serif\" font-size=\"14.00\" fill=\"#000000\">Embarked ≤ 0.5</text>\n<text text-anchor=\"start\" x=\"1458.5\" y=\"-156.8\" font-family=\"Helvetica,sans-Serif\" font-size=\"14.00\" fill=\"#000000\">gini = 0.142</text>\n<text text-anchor=\"start\" x=\"1452.5\" y=\"-141.8\" font-family=\"Helvetica,sans-Serif\" font-size=\"14.00\" fill=\"#000000\">samples = 65</text>\n<text text-anchor=\"start\" x=\"1451\" y=\"-126.8\" font-family=\"Helvetica,sans-Serif\" font-size=\"14.00\" fill=\"#000000\">value = [5, 60]</text>\n<text text-anchor=\"start\" x=\"1443\" y=\"-111.8\" font-family=\"Helvetica,sans-Serif\" font-size=\"14.00\" fill=\"#000000\">class = Survived</text>\n</g>\n<!-- 26&#45;&gt;27 -->\n<g id=\"edge27\" class=\"edge\">\n<title>26&#45;&gt;27</title>\n<path fill=\"none\" stroke=\"#000000\" d=\"M1588.185,-222.8796C1577.0868,-213.513 1565.2165,-203.4948 1553.8223,-193.8784\"/>\n<polygon fill=\"#000000\" stroke=\"#000000\" points=\"1555.925,-191.0731 1546.0254,-187.2981 1551.4101,-196.4225 1555.925,-191.0731\"/>\n</g>\n<!-- 30 -->\n<g id=\"node31\" class=\"node\">\n<title>30</title>\n<path fill=\"#6ab6ec\" stroke=\"#000000\" d=\"M1687,-187C1687,-187 1588,-187 1588,-187 1582,-187 1576,-181 1576,-175 1576,-175 1576,-116 1576,-116 1576,-110 1582,-104 1588,-104 1588,-104 1687,-104 1687,-104 1693,-104 1699,-110 1699,-116 1699,-116 1699,-175 1699,-175 1699,-181 1693,-187 1687,-187\"/>\n<text text-anchor=\"start\" x=\"1586\" y=\"-171.8\" font-family=\"Helvetica,sans-Serif\" font-size=\"14.00\" fill=\"#000000\">Embarked ≤ 0.5</text>\n<text text-anchor=\"start\" x=\"1604\" y=\"-156.8\" font-family=\"Helvetica,sans-Serif\" font-size=\"14.00\" fill=\"#000000\">gini = 0.32</text>\n<text text-anchor=\"start\" x=\"1593.5\" y=\"-141.8\" font-family=\"Helvetica,sans-Serif\" font-size=\"14.00\" fill=\"#000000\">samples = 10</text>\n<text text-anchor=\"start\" x=\"1596\" y=\"-126.8\" font-family=\"Helvetica,sans-Serif\" font-size=\"14.00\" fill=\"#000000\">value = [2, 8]</text>\n<text text-anchor=\"start\" x=\"1584\" y=\"-111.8\" font-family=\"Helvetica,sans-Serif\" font-size=\"14.00\" fill=\"#000000\">class = Survived</text>\n</g>\n<!-- 26&#45;&gt;30 -->\n<g id=\"edge30\" class=\"edge\">\n<title>26&#45;&gt;30</title>\n<path fill=\"none\" stroke=\"#000000\" d=\"M1637.5,-222.8796C1637.5,-214.6838 1637.5,-205.9891 1637.5,-197.5013\"/>\n<polygon fill=\"#000000\" stroke=\"#000000\" points=\"1641.0001,-197.298 1637.5,-187.2981 1634.0001,-197.2981 1641.0001,-197.298\"/>\n</g>\n<!-- 28 -->\n<g id=\"node29\" class=\"node\">\n<title>28</title>\n<path fill=\"#4ca7e8\" stroke=\"#000000\" d=\"M1405,-68C1405,-68 1306,-68 1306,-68 1300,-68 1294,-62 1294,-56 1294,-56 1294,-12 1294,-12 1294,-6 1300,0 1306,0 1306,0 1405,0 1405,0 1411,0 1417,-6 1417,-12 1417,-12 1417,-56 1417,-56 1417,-62 1411,-68 1405,-68\"/>\n<text text-anchor=\"start\" x=\"1317.5\" y=\"-52.8\" font-family=\"Helvetica,sans-Serif\" font-size=\"14.00\" fill=\"#000000\">gini = 0.163</text>\n<text text-anchor=\"start\" x=\"1311.5\" y=\"-37.8\" font-family=\"Helvetica,sans-Serif\" font-size=\"14.00\" fill=\"#000000\">samples = 56</text>\n<text text-anchor=\"start\" x=\"1310\" y=\"-22.8\" font-family=\"Helvetica,sans-Serif\" font-size=\"14.00\" fill=\"#000000\">value = [5, 51]</text>\n<text text-anchor=\"start\" x=\"1302\" y=\"-7.8\" font-family=\"Helvetica,sans-Serif\" font-size=\"14.00\" fill=\"#000000\">class = Survived</text>\n</g>\n<!-- 27&#45;&gt;28 -->\n<g id=\"edge28\" class=\"edge\">\n<title>27&#45;&gt;28</title>\n<path fill=\"none\" stroke=\"#000000\" d=\"M1443.9968,-103.9815C1431.7934,-94.3313 1418.819,-84.0714 1406.6739,-74.4673\"/>\n<polygon fill=\"#000000\" stroke=\"#000000\" points=\"1408.8438,-71.7211 1398.829,-68.2637 1404.5018,-77.2118 1408.8438,-71.7211\"/>\n</g>\n<!-- 29 -->\n<g id=\"node30\" class=\"node\">\n<title>29</title>\n<path fill=\"#399de5\" stroke=\"#000000\" d=\"M1546,-68C1546,-68 1447,-68 1447,-68 1441,-68 1435,-62 1435,-56 1435,-56 1435,-12 1435,-12 1435,-6 1441,0 1447,0 1447,0 1546,0 1546,0 1552,0 1558,-6 1558,-12 1558,-12 1558,-56 1558,-56 1558,-62 1552,-68 1546,-68\"/>\n<text text-anchor=\"start\" x=\"1467\" y=\"-52.8\" font-family=\"Helvetica,sans-Serif\" font-size=\"14.00\" fill=\"#000000\">gini = 0.0</text>\n<text text-anchor=\"start\" x=\"1457\" y=\"-37.8\" font-family=\"Helvetica,sans-Serif\" font-size=\"14.00\" fill=\"#000000\">samples = 9</text>\n<text text-anchor=\"start\" x=\"1455\" y=\"-22.8\" font-family=\"Helvetica,sans-Serif\" font-size=\"14.00\" fill=\"#000000\">value = [0, 9]</text>\n<text text-anchor=\"start\" x=\"1443\" y=\"-7.8\" font-family=\"Helvetica,sans-Serif\" font-size=\"14.00\" fill=\"#000000\">class = Survived</text>\n</g>\n<!-- 27&#45;&gt;29 -->\n<g id=\"edge29\" class=\"edge\">\n<title>27&#45;&gt;29</title>\n<path fill=\"none\" stroke=\"#000000\" d=\"M1496.5,-103.9815C1496.5,-95.618 1496.5,-86.7965 1496.5,-78.3409\"/>\n<polygon fill=\"#000000\" stroke=\"#000000\" points=\"1500.0001,-78.2636 1496.5,-68.2637 1493.0001,-78.2637 1500.0001,-78.2636\"/>\n</g>\n<!-- 31 -->\n<g id=\"node32\" class=\"node\">\n<title>31</title>\n<path fill=\"#52a9e8\" stroke=\"#000000\" d=\"M1687,-68C1687,-68 1588,-68 1588,-68 1582,-68 1576,-62 1576,-56 1576,-56 1576,-12 1576,-12 1576,-6 1582,0 1588,0 1588,0 1687,0 1687,0 1693,0 1699,-6 1699,-12 1699,-12 1699,-56 1699,-56 1699,-62 1693,-68 1687,-68\"/>\n<text text-anchor=\"start\" x=\"1599.5\" y=\"-52.8\" font-family=\"Helvetica,sans-Serif\" font-size=\"14.00\" fill=\"#000000\">gini = 0.198</text>\n<text text-anchor=\"start\" x=\"1598\" y=\"-37.8\" font-family=\"Helvetica,sans-Serif\" font-size=\"14.00\" fill=\"#000000\">samples = 9</text>\n<text text-anchor=\"start\" x=\"1596\" y=\"-22.8\" font-family=\"Helvetica,sans-Serif\" font-size=\"14.00\" fill=\"#000000\">value = [1, 8]</text>\n<text text-anchor=\"start\" x=\"1584\" y=\"-7.8\" font-family=\"Helvetica,sans-Serif\" font-size=\"14.00\" fill=\"#000000\">class = Survived</text>\n</g>\n<!-- 30&#45;&gt;31 -->\n<g id=\"edge31\" class=\"edge\">\n<title>30&#45;&gt;31</title>\n<path fill=\"none\" stroke=\"#000000\" d=\"M1637.5,-103.9815C1637.5,-95.618 1637.5,-86.7965 1637.5,-78.3409\"/>\n<polygon fill=\"#000000\" stroke=\"#000000\" points=\"1641.0001,-78.2636 1637.5,-68.2637 1634.0001,-78.2637 1641.0001,-78.2636\"/>\n</g>\n<!-- 32 -->\n<g id=\"node33\" class=\"node\">\n<title>32</title>\n<path fill=\"#e58139\" stroke=\"#000000\" d=\"M1806,-68C1806,-68 1729,-68 1729,-68 1723,-68 1717,-62 1717,-56 1717,-56 1717,-12 1717,-12 1717,-6 1723,0 1729,0 1729,0 1806,0 1806,0 1812,0 1818,-6 1818,-12 1818,-12 1818,-56 1818,-56 1818,-62 1812,-68 1806,-68\"/>\n<text text-anchor=\"start\" x=\"1738\" y=\"-52.8\" font-family=\"Helvetica,sans-Serif\" font-size=\"14.00\" fill=\"#000000\">gini = 0.0</text>\n<text text-anchor=\"start\" x=\"1728\" y=\"-37.8\" font-family=\"Helvetica,sans-Serif\" font-size=\"14.00\" fill=\"#000000\">samples = 1</text>\n<text text-anchor=\"start\" x=\"1726\" y=\"-22.8\" font-family=\"Helvetica,sans-Serif\" font-size=\"14.00\" fill=\"#000000\">value = [1, 0]</text>\n<text text-anchor=\"start\" x=\"1725\" y=\"-7.8\" font-family=\"Helvetica,sans-Serif\" font-size=\"14.00\" fill=\"#000000\">class = Dead</text>\n</g>\n<!-- 30&#45;&gt;32 -->\n<g id=\"edge32\" class=\"edge\">\n<title>30&#45;&gt;32</title>\n<path fill=\"none\" stroke=\"#000000\" d=\"M1685.9072,-103.9815C1696.9442,-94.5151 1708.6653,-84.462 1719.6777,-75.0168\"/>\n<polygon fill=\"#000000\" stroke=\"#000000\" points=\"1722.2394,-77.4307 1727.5513,-68.2637 1717.6822,-72.1173 1722.2394,-77.4307\"/>\n</g>\n<!-- 34 -->\n<g id=\"node35\" class=\"node\">\n<title>34</title>\n<path fill=\"#399de5\" stroke=\"#000000\" d=\"M1828,-179.5C1828,-179.5 1729,-179.5 1729,-179.5 1723,-179.5 1717,-173.5 1717,-167.5 1717,-167.5 1717,-123.5 1717,-123.5 1717,-117.5 1723,-111.5 1729,-111.5 1729,-111.5 1828,-111.5 1828,-111.5 1834,-111.5 1840,-117.5 1840,-123.5 1840,-123.5 1840,-167.5 1840,-167.5 1840,-173.5 1834,-179.5 1828,-179.5\"/>\n<text text-anchor=\"start\" x=\"1749\" y=\"-164.3\" font-family=\"Helvetica,sans-Serif\" font-size=\"14.00\" fill=\"#000000\">gini = 0.0</text>\n<text text-anchor=\"start\" x=\"1734.5\" y=\"-149.3\" font-family=\"Helvetica,sans-Serif\" font-size=\"14.00\" fill=\"#000000\">samples = 79</text>\n<text text-anchor=\"start\" x=\"1733\" y=\"-134.3\" font-family=\"Helvetica,sans-Serif\" font-size=\"14.00\" fill=\"#000000\">value = [0, 79]</text>\n<text text-anchor=\"start\" x=\"1725\" y=\"-119.3\" font-family=\"Helvetica,sans-Serif\" font-size=\"14.00\" fill=\"#000000\">class = Survived</text>\n</g>\n<!-- 33&#45;&gt;34 -->\n<g id=\"edge34\" class=\"edge\">\n<title>33&#45;&gt;34</title>\n<path fill=\"none\" stroke=\"#000000\" d=\"M1778.5,-222.8796C1778.5,-212.2134 1778.5,-200.7021 1778.5,-189.9015\"/>\n<polygon fill=\"#000000\" stroke=\"#000000\" points=\"1782.0001,-189.8149 1778.5,-179.8149 1775.0001,-189.815 1782.0001,-189.8149\"/>\n</g>\n<!-- 35 -->\n<g id=\"node36\" class=\"node\">\n<title>35</title>\n<path fill=\"#55abe9\" stroke=\"#000000\" d=\"M1969,-187C1969,-187 1870,-187 1870,-187 1864,-187 1858,-181 1858,-175 1858,-175 1858,-116 1858,-116 1858,-110 1864,-104 1870,-104 1870,-104 1969,-104 1969,-104 1975,-104 1981,-110 1981,-116 1981,-116 1981,-175 1981,-175 1981,-181 1975,-187 1969,-187\"/>\n<text text-anchor=\"start\" x=\"1888.5\" y=\"-171.8\" font-family=\"Helvetica,sans-Serif\" font-size=\"14.00\" fill=\"#000000\">Age ≤ 0.5</text>\n<text text-anchor=\"start\" x=\"1881.5\" y=\"-156.8\" font-family=\"Helvetica,sans-Serif\" font-size=\"14.00\" fill=\"#000000\">gini = 0.219</text>\n<text text-anchor=\"start\" x=\"1875.5\" y=\"-141.8\" font-family=\"Helvetica,sans-Serif\" font-size=\"14.00\" fill=\"#000000\">samples = 16</text>\n<text text-anchor=\"start\" x=\"1874\" y=\"-126.8\" font-family=\"Helvetica,sans-Serif\" font-size=\"14.00\" fill=\"#000000\">value = [2, 14]</text>\n<text text-anchor=\"start\" x=\"1866\" y=\"-111.8\" font-family=\"Helvetica,sans-Serif\" font-size=\"14.00\" fill=\"#000000\">class = Survived</text>\n</g>\n<!-- 33&#45;&gt;35 -->\n<g id=\"edge35\" class=\"edge\">\n<title>33&#45;&gt;35</title>\n<path fill=\"none\" stroke=\"#000000\" d=\"M1827.815,-222.8796C1838.9132,-213.513 1850.7835,-203.4948 1862.1777,-193.8784\"/>\n<polygon fill=\"#000000\" stroke=\"#000000\" points=\"1864.5899,-196.4225 1869.9746,-187.2981 1860.075,-191.0731 1864.5899,-196.4225\"/>\n</g>\n<!-- 36 -->\n<g id=\"node37\" class=\"node\">\n<title>36</title>\n<path fill=\"#9ccef2\" stroke=\"#000000\" d=\"M1947,-68C1947,-68 1848,-68 1848,-68 1842,-68 1836,-62 1836,-56 1836,-56 1836,-12 1836,-12 1836,-6 1842,0 1848,0 1848,0 1947,0 1947,0 1953,0 1959,-6 1959,-12 1959,-12 1959,-56 1959,-56 1959,-62 1953,-68 1947,-68\"/>\n<text text-anchor=\"start\" x=\"1859.5\" y=\"-52.8\" font-family=\"Helvetica,sans-Serif\" font-size=\"14.00\" fill=\"#000000\">gini = 0.444</text>\n<text text-anchor=\"start\" x=\"1858\" y=\"-37.8\" font-family=\"Helvetica,sans-Serif\" font-size=\"14.00\" fill=\"#000000\">samples = 3</text>\n<text text-anchor=\"start\" x=\"1856\" y=\"-22.8\" font-family=\"Helvetica,sans-Serif\" font-size=\"14.00\" fill=\"#000000\">value = [1, 2]</text>\n<text text-anchor=\"start\" x=\"1844\" y=\"-7.8\" font-family=\"Helvetica,sans-Serif\" font-size=\"14.00\" fill=\"#000000\">class = Survived</text>\n</g>\n<!-- 35&#45;&gt;36 -->\n<g id=\"edge36\" class=\"edge\">\n<title>35&#45;&gt;36</title>\n<path fill=\"none\" stroke=\"#000000\" d=\"M1911.308,-103.9815C1909.6578,-95.618 1907.9173,-86.7965 1906.2489,-78.3409\"/>\n<polygon fill=\"#000000\" stroke=\"#000000\" points=\"1909.6302,-77.397 1904.2605,-68.2637 1902.7626,-78.7521 1909.6302,-77.397\"/>\n</g>\n<!-- 37 -->\n<g id=\"node38\" class=\"node\">\n<title>37</title>\n<path fill=\"#49a5e7\" stroke=\"#000000\" d=\"M2088,-68C2088,-68 1989,-68 1989,-68 1983,-68 1977,-62 1977,-56 1977,-56 1977,-12 1977,-12 1977,-6 1983,0 1989,0 1989,0 2088,0 2088,0 2094,0 2100,-6 2100,-12 2100,-12 2100,-56 2100,-56 2100,-62 2094,-68 2088,-68\"/>\n<text text-anchor=\"start\" x=\"2000.5\" y=\"-52.8\" font-family=\"Helvetica,sans-Serif\" font-size=\"14.00\" fill=\"#000000\">gini = 0.142</text>\n<text text-anchor=\"start\" x=\"1994.5\" y=\"-37.8\" font-family=\"Helvetica,sans-Serif\" font-size=\"14.00\" fill=\"#000000\">samples = 13</text>\n<text text-anchor=\"start\" x=\"1993\" y=\"-22.8\" font-family=\"Helvetica,sans-Serif\" font-size=\"14.00\" fill=\"#000000\">value = [1, 12]</text>\n<text text-anchor=\"start\" x=\"1985\" y=\"-7.8\" font-family=\"Helvetica,sans-Serif\" font-size=\"14.00\" fill=\"#000000\">class = Survived</text>\n</g>\n<!-- 35&#45;&gt;37 -->\n<g id=\"edge37\" class=\"edge\">\n<title>35&#45;&gt;37</title>\n<path fill=\"none\" stroke=\"#000000\" d=\"M1963.8112,-103.9815C1973.8163,-94.607 1984.4354,-84.6572 1994.4304,-75.2921\"/>\n<polygon fill=\"#000000\" stroke=\"#000000\" points=\"1997.0274,-77.6551 2001.9316,-68.2637 1992.2412,-72.547 1997.0274,-77.6551\"/>\n</g>\n<!-- 39 -->\n<g id=\"node40\" class=\"node\">\n<title>39</title>\n<path fill=\"#f5cdb0\" stroke=\"#000000\" d=\"M2410.5,-306C2410.5,-306 2318.5,-306 2318.5,-306 2312.5,-306 2306.5,-300 2306.5,-294 2306.5,-294 2306.5,-235 2306.5,-235 2306.5,-229 2312.5,-223 2318.5,-223 2318.5,-223 2410.5,-223 2410.5,-223 2416.5,-223 2422.5,-229 2422.5,-235 2422.5,-235 2422.5,-294 2422.5,-294 2422.5,-300 2416.5,-306 2410.5,-306\"/>\n<text text-anchor=\"start\" x=\"2331.5\" y=\"-290.8\" font-family=\"Helvetica,sans-Serif\" font-size=\"14.00\" fill=\"#000000\">Fare ≤ 2.5</text>\n<text text-anchor=\"start\" x=\"2326.5\" y=\"-275.8\" font-family=\"Helvetica,sans-Serif\" font-size=\"14.00\" fill=\"#000000\">gini = 0.469</text>\n<text text-anchor=\"start\" x=\"2320.5\" y=\"-260.8\" font-family=\"Helvetica,sans-Serif\" font-size=\"14.00\" fill=\"#000000\">samples = 88</text>\n<text text-anchor=\"start\" x=\"2314.5\" y=\"-245.8\" font-family=\"Helvetica,sans-Serif\" font-size=\"14.00\" fill=\"#000000\">value = [55, 33]</text>\n<text text-anchor=\"start\" x=\"2322\" y=\"-230.8\" font-family=\"Helvetica,sans-Serif\" font-size=\"14.00\" fill=\"#000000\">class = Dead</text>\n</g>\n<!-- 38&#45;&gt;39 -->\n<g id=\"edge39\" class=\"edge\">\n<title>38&#45;&gt;39</title>\n<path fill=\"none\" stroke=\"#000000\" d=\"M2364.5,-341.8796C2364.5,-333.6838 2364.5,-324.9891 2364.5,-316.5013\"/>\n<polygon fill=\"#000000\" stroke=\"#000000\" points=\"2368.0001,-316.298 2364.5,-306.2981 2361.0001,-316.2981 2368.0001,-316.298\"/>\n</g>\n<!-- 46 -->\n<g id=\"node47\" class=\"node\">\n<title>46</title>\n<path fill=\"#8fc8f0\" stroke=\"#000000\" d=\"M2727,-306C2727,-306 2628,-306 2628,-306 2622,-306 2616,-300 2616,-294 2616,-294 2616,-235 2616,-235 2616,-229 2622,-223 2628,-223 2628,-223 2727,-223 2727,-223 2733,-223 2739,-229 2739,-235 2739,-235 2739,-294 2739,-294 2739,-300 2733,-306 2727,-306\"/>\n<text text-anchor=\"start\" x=\"2646.5\" y=\"-290.8\" font-family=\"Helvetica,sans-Serif\" font-size=\"14.00\" fill=\"#000000\">Age ≤ 1.5</text>\n<text text-anchor=\"start\" x=\"2639.5\" y=\"-275.8\" font-family=\"Helvetica,sans-Serif\" font-size=\"14.00\" fill=\"#000000\">gini = 0.423</text>\n<text text-anchor=\"start\" x=\"2633.5\" y=\"-260.8\" font-family=\"Helvetica,sans-Serif\" font-size=\"14.00\" fill=\"#000000\">samples = 56</text>\n<text text-anchor=\"start\" x=\"2627.5\" y=\"-245.8\" font-family=\"Helvetica,sans-Serif\" font-size=\"14.00\" fill=\"#000000\">value = [17, 39]</text>\n<text text-anchor=\"start\" x=\"2624\" y=\"-230.8\" font-family=\"Helvetica,sans-Serif\" font-size=\"14.00\" fill=\"#000000\">class = Survived</text>\n</g>\n<!-- 38&#45;&gt;46 -->\n<g id=\"edge46\" class=\"edge\">\n<title>38&#45;&gt;46</title>\n<path fill=\"none\" stroke=\"#000000\" d=\"M2424.1096,-360.8369C2475.9803,-341.1161 2551.2628,-312.4943 2606.2902,-291.5734\"/>\n<polygon fill=\"#000000\" stroke=\"#000000\" points=\"2607.8701,-294.7172 2615.9735,-287.8919 2605.3824,-288.1741 2607.8701,-294.7172\"/>\n</g>\n<!-- 40 -->\n<g id=\"node41\" class=\"node\">\n<title>40</title>\n<path fill=\"#f9e0cf\" stroke=\"#000000\" d=\"M2345.5,-187C2345.5,-187 2253.5,-187 2253.5,-187 2247.5,-187 2241.5,-181 2241.5,-175 2241.5,-175 2241.5,-116 2241.5,-116 2241.5,-110 2247.5,-104 2253.5,-104 2253.5,-104 2345.5,-104 2345.5,-104 2351.5,-104 2357.5,-110 2357.5,-116 2357.5,-116 2357.5,-175 2357.5,-175 2357.5,-181 2351.5,-187 2345.5,-187\"/>\n<text text-anchor=\"start\" x=\"2262.5\" y=\"-171.8\" font-family=\"Helvetica,sans-Serif\" font-size=\"14.00\" fill=\"#000000\">Parch ≤ 3.0</text>\n<text text-anchor=\"start\" x=\"2266\" y=\"-156.8\" font-family=\"Helvetica,sans-Serif\" font-size=\"14.00\" fill=\"#000000\">gini = 0.49</text>\n<text text-anchor=\"start\" x=\"2255.5\" y=\"-141.8\" font-family=\"Helvetica,sans-Serif\" font-size=\"14.00\" fill=\"#000000\">samples = 72</text>\n<text text-anchor=\"start\" x=\"2249.5\" y=\"-126.8\" font-family=\"Helvetica,sans-Serif\" font-size=\"14.00\" fill=\"#000000\">value = [41, 31]</text>\n<text text-anchor=\"start\" x=\"2257\" y=\"-111.8\" font-family=\"Helvetica,sans-Serif\" font-size=\"14.00\" fill=\"#000000\">class = Dead</text>\n</g>\n<!-- 39&#45;&gt;40 -->\n<g id=\"edge40\" class=\"edge\">\n<title>39&#45;&gt;40</title>\n<path fill=\"none\" stroke=\"#000000\" d=\"M2341.7662,-222.8796C2337.0435,-214.2335 2332.0176,-205.0322 2327.141,-196.1042\"/>\n<polygon fill=\"#000000\" stroke=\"#000000\" points=\"2330.1963,-194.3964 2322.3309,-187.2981 2324.053,-197.752 2330.1963,-194.3964\"/>\n</g>\n<!-- 43 -->\n<g id=\"node44\" class=\"node\">\n<title>43</title>\n<path fill=\"#e99355\" stroke=\"#000000\" d=\"M2471,-187C2471,-187 2388,-187 2388,-187 2382,-187 2376,-181 2376,-175 2376,-175 2376,-116 2376,-116 2376,-110 2382,-104 2388,-104 2388,-104 2471,-104 2471,-104 2477,-104 2483,-110 2483,-116 2483,-116 2483,-175 2483,-175 2483,-181 2477,-187 2471,-187\"/>\n<text text-anchor=\"start\" x=\"2392.5\" y=\"-171.8\" font-family=\"Helvetica,sans-Serif\" font-size=\"14.00\" fill=\"#000000\">Parch ≤ 4.0</text>\n<text text-anchor=\"start\" x=\"2391.5\" y=\"-156.8\" font-family=\"Helvetica,sans-Serif\" font-size=\"14.00\" fill=\"#000000\">gini = 0.219</text>\n<text text-anchor=\"start\" x=\"2385.5\" y=\"-141.8\" font-family=\"Helvetica,sans-Serif\" font-size=\"14.00\" fill=\"#000000\">samples = 16</text>\n<text text-anchor=\"start\" x=\"2384\" y=\"-126.8\" font-family=\"Helvetica,sans-Serif\" font-size=\"14.00\" fill=\"#000000\">value = [14, 2]</text>\n<text text-anchor=\"start\" x=\"2387\" y=\"-111.8\" font-family=\"Helvetica,sans-Serif\" font-size=\"14.00\" fill=\"#000000\">class = Dead</text>\n</g>\n<!-- 39&#45;&gt;43 -->\n<g id=\"edge43\" class=\"edge\">\n<title>39&#45;&gt;43</title>\n<path fill=\"none\" stroke=\"#000000\" d=\"M2387.2338,-222.8796C2391.9565,-214.2335 2396.9824,-205.0322 2401.859,-196.1042\"/>\n<polygon fill=\"#000000\" stroke=\"#000000\" points=\"2404.947,-197.752 2406.6691,-187.2981 2398.8037,-194.3964 2404.947,-197.752\"/>\n</g>\n<!-- 41 -->\n<g id=\"node42\" class=\"node\">\n<title>41</title>\n<path fill=\"#fae5d6\" stroke=\"#000000\" d=\"M2222.5,-68C2222.5,-68 2130.5,-68 2130.5,-68 2124.5,-68 2118.5,-62 2118.5,-56 2118.5,-56 2118.5,-12 2118.5,-12 2118.5,-6 2124.5,0 2130.5,0 2130.5,0 2222.5,0 2222.5,0 2228.5,0 2234.5,-6 2234.5,-12 2234.5,-12 2234.5,-56 2234.5,-56 2234.5,-62 2228.5,-68 2222.5,-68\"/>\n<text text-anchor=\"start\" x=\"2138.5\" y=\"-52.8\" font-family=\"Helvetica,sans-Serif\" font-size=\"14.00\" fill=\"#000000\">gini = 0.493</text>\n<text text-anchor=\"start\" x=\"2132.5\" y=\"-37.8\" font-family=\"Helvetica,sans-Serif\" font-size=\"14.00\" fill=\"#000000\">samples = 70</text>\n<text text-anchor=\"start\" x=\"2126.5\" y=\"-22.8\" font-family=\"Helvetica,sans-Serif\" font-size=\"14.00\" fill=\"#000000\">value = [39, 31]</text>\n<text text-anchor=\"start\" x=\"2134\" y=\"-7.8\" font-family=\"Helvetica,sans-Serif\" font-size=\"14.00\" fill=\"#000000\">class = Dead</text>\n</g>\n<!-- 40&#45;&gt;41 -->\n<g id=\"edge41\" class=\"edge\">\n<title>40&#45;&gt;41</title>\n<path fill=\"none\" stroke=\"#000000\" d=\"M2253.6993,-103.9815C2243.2566,-94.5151 2232.1667,-84.462 2221.7472,-75.0168\"/>\n<polygon fill=\"#000000\" stroke=\"#000000\" points=\"2224.0572,-72.3868 2214.2976,-68.2637 2219.3559,-77.5731 2224.0572,-72.3868\"/>\n</g>\n<!-- 42 -->\n<g id=\"node43\" class=\"node\">\n<title>42</title>\n<path fill=\"#e58139\" stroke=\"#000000\" d=\"M2342,-68C2342,-68 2265,-68 2265,-68 2259,-68 2253,-62 2253,-56 2253,-56 2253,-12 2253,-12 2253,-6 2259,0 2265,0 2265,0 2342,0 2342,0 2348,0 2354,-6 2354,-12 2354,-12 2354,-56 2354,-56 2354,-62 2348,-68 2342,-68\"/>\n<text text-anchor=\"start\" x=\"2274\" y=\"-52.8\" font-family=\"Helvetica,sans-Serif\" font-size=\"14.00\" fill=\"#000000\">gini = 0.0</text>\n<text text-anchor=\"start\" x=\"2264\" y=\"-37.8\" font-family=\"Helvetica,sans-Serif\" font-size=\"14.00\" fill=\"#000000\">samples = 2</text>\n<text text-anchor=\"start\" x=\"2262\" y=\"-22.8\" font-family=\"Helvetica,sans-Serif\" font-size=\"14.00\" fill=\"#000000\">value = [2, 0]</text>\n<text text-anchor=\"start\" x=\"2261\" y=\"-7.8\" font-family=\"Helvetica,sans-Serif\" font-size=\"14.00\" fill=\"#000000\">class = Dead</text>\n</g>\n<!-- 40&#45;&gt;42 -->\n<g id=\"edge42\" class=\"edge\">\n<title>40&#45;&gt;42</title>\n<path fill=\"none\" stroke=\"#000000\" d=\"M2300.9895,-103.9815C2301.2895,-95.618 2301.606,-86.7965 2301.9093,-78.3409\"/>\n<polygon fill=\"#000000\" stroke=\"#000000\" points=\"2305.41,-78.3828 2302.2708,-68.2637 2298.4145,-78.1317 2305.41,-78.3828\"/>\n</g>\n<!-- 44 -->\n<g id=\"node45\" class=\"node\">\n<title>44</title>\n<path fill=\"#e78c4b\" stroke=\"#000000\" d=\"M2467,-68C2467,-68 2384,-68 2384,-68 2378,-68 2372,-62 2372,-56 2372,-56 2372,-12 2372,-12 2372,-6 2378,0 2384,0 2384,0 2467,0 2467,0 2473,0 2479,-6 2479,-12 2479,-12 2479,-56 2479,-56 2479,-62 2473,-68 2467,-68\"/>\n<text text-anchor=\"start\" x=\"2387.5\" y=\"-52.8\" font-family=\"Helvetica,sans-Serif\" font-size=\"14.00\" fill=\"#000000\">gini = 0.153</text>\n<text text-anchor=\"start\" x=\"2381.5\" y=\"-37.8\" font-family=\"Helvetica,sans-Serif\" font-size=\"14.00\" fill=\"#000000\">samples = 12</text>\n<text text-anchor=\"start\" x=\"2380\" y=\"-22.8\" font-family=\"Helvetica,sans-Serif\" font-size=\"14.00\" fill=\"#000000\">value = [11, 1]</text>\n<text text-anchor=\"start\" x=\"2383\" y=\"-7.8\" font-family=\"Helvetica,sans-Serif\" font-size=\"14.00\" fill=\"#000000\">class = Dead</text>\n</g>\n<!-- 43&#45;&gt;44 -->\n<g id=\"edge44\" class=\"edge\">\n<title>43&#45;&gt;44</title>\n<path fill=\"none\" stroke=\"#000000\" d=\"M2428.0105,-103.9815C2427.7105,-95.618 2427.394,-86.7965 2427.0907,-78.3409\"/>\n<polygon fill=\"#000000\" stroke=\"#000000\" points=\"2430.5855,-78.1317 2426.7292,-68.2637 2423.59,-78.3828 2430.5855,-78.1317\"/>\n</g>\n<!-- 45 -->\n<g id=\"node46\" class=\"node\">\n<title>45</title>\n<path fill=\"#eeab7b\" stroke=\"#000000\" d=\"M2586,-68C2586,-68 2509,-68 2509,-68 2503,-68 2497,-62 2497,-56 2497,-56 2497,-12 2497,-12 2497,-6 2503,0 2509,0 2509,0 2586,0 2586,0 2592,0 2598,-6 2598,-12 2598,-12 2598,-56 2598,-56 2598,-62 2592,-68 2586,-68\"/>\n<text text-anchor=\"start\" x=\"2509.5\" y=\"-52.8\" font-family=\"Helvetica,sans-Serif\" font-size=\"14.00\" fill=\"#000000\">gini = 0.375</text>\n<text text-anchor=\"start\" x=\"2508\" y=\"-37.8\" font-family=\"Helvetica,sans-Serif\" font-size=\"14.00\" fill=\"#000000\">samples = 4</text>\n<text text-anchor=\"start\" x=\"2506\" y=\"-22.8\" font-family=\"Helvetica,sans-Serif\" font-size=\"14.00\" fill=\"#000000\">value = [3, 1]</text>\n<text text-anchor=\"start\" x=\"2505\" y=\"-7.8\" font-family=\"Helvetica,sans-Serif\" font-size=\"14.00\" fill=\"#000000\">class = Dead</text>\n</g>\n<!-- 43&#45;&gt;45 -->\n<g id=\"edge45\" class=\"edge\">\n<title>43&#45;&gt;45</title>\n<path fill=\"none\" stroke=\"#000000\" d=\"M2473.4388,-103.9815C2483.3598,-94.607 2493.8897,-84.6572 2503.8008,-75.2921\"/>\n<polygon fill=\"#000000\" stroke=\"#000000\" points=\"2506.3743,-77.6757 2511.2389,-68.2637 2501.5666,-72.5878 2506.3743,-77.6757\"/>\n</g>\n<!-- 47 -->\n<g id=\"node48\" class=\"node\">\n<title>47</title>\n<path fill=\"#7bbeee\" stroke=\"#000000\" d=\"M2727,-187C2727,-187 2628,-187 2628,-187 2622,-187 2616,-181 2616,-175 2616,-175 2616,-116 2616,-116 2616,-110 2622,-104 2628,-104 2628,-104 2727,-104 2727,-104 2733,-104 2739,-110 2739,-116 2739,-116 2739,-175 2739,-175 2739,-181 2733,-187 2727,-187\"/>\n<text text-anchor=\"start\" x=\"2644.5\" y=\"-171.8\" font-family=\"Helvetica,sans-Serif\" font-size=\"14.00\" fill=\"#000000\">Fare ≤ 1.5</text>\n<text text-anchor=\"start\" x=\"2639.5\" y=\"-156.8\" font-family=\"Helvetica,sans-Serif\" font-size=\"14.00\" fill=\"#000000\">gini = 0.375</text>\n<text text-anchor=\"start\" x=\"2633.5\" y=\"-141.8\" font-family=\"Helvetica,sans-Serif\" font-size=\"14.00\" fill=\"#000000\">samples = 52</text>\n<text text-anchor=\"start\" x=\"2627.5\" y=\"-126.8\" font-family=\"Helvetica,sans-Serif\" font-size=\"14.00\" fill=\"#000000\">value = [13, 39]</text>\n<text text-anchor=\"start\" x=\"2624\" y=\"-111.8\" font-family=\"Helvetica,sans-Serif\" font-size=\"14.00\" fill=\"#000000\">class = Survived</text>\n</g>\n<!-- 46&#45;&gt;47 -->\n<g id=\"edge47\" class=\"edge\">\n<title>46&#45;&gt;47</title>\n<path fill=\"none\" stroke=\"#000000\" d=\"M2677.5,-222.8796C2677.5,-214.6838 2677.5,-205.9891 2677.5,-197.5013\"/>\n<polygon fill=\"#000000\" stroke=\"#000000\" points=\"2681.0001,-197.298 2677.5,-187.2981 2674.0001,-197.2981 2681.0001,-197.298\"/>\n</g>\n<!-- 50 -->\n<g id=\"node51\" class=\"node\">\n<title>50</title>\n<path fill=\"#e58139\" stroke=\"#000000\" d=\"M2846,-179.5C2846,-179.5 2769,-179.5 2769,-179.5 2763,-179.5 2757,-173.5 2757,-167.5 2757,-167.5 2757,-123.5 2757,-123.5 2757,-117.5 2763,-111.5 2769,-111.5 2769,-111.5 2846,-111.5 2846,-111.5 2852,-111.5 2858,-117.5 2858,-123.5 2858,-123.5 2858,-167.5 2858,-167.5 2858,-173.5 2852,-179.5 2846,-179.5\"/>\n<text text-anchor=\"start\" x=\"2778\" y=\"-164.3\" font-family=\"Helvetica,sans-Serif\" font-size=\"14.00\" fill=\"#000000\">gini = 0.0</text>\n<text text-anchor=\"start\" x=\"2768\" y=\"-149.3\" font-family=\"Helvetica,sans-Serif\" font-size=\"14.00\" fill=\"#000000\">samples = 4</text>\n<text text-anchor=\"start\" x=\"2766\" y=\"-134.3\" font-family=\"Helvetica,sans-Serif\" font-size=\"14.00\" fill=\"#000000\">value = [4, 0]</text>\n<text text-anchor=\"start\" x=\"2765\" y=\"-119.3\" font-family=\"Helvetica,sans-Serif\" font-size=\"14.00\" fill=\"#000000\">class = Dead</text>\n</g>\n<!-- 46&#45;&gt;50 -->\n<g id=\"edge50\" class=\"edge\">\n<title>46&#45;&gt;50</title>\n<path fill=\"none\" stroke=\"#000000\" d=\"M2722.9677,-222.8796C2735.8211,-211.1138 2749.7979,-198.3197 2762.6166,-186.5855\"/>\n<polygon fill=\"#000000\" stroke=\"#000000\" points=\"2765.0001,-189.1488 2770.0131,-179.8149 2760.2736,-183.9854 2765.0001,-189.1488\"/>\n</g>\n<!-- 48 -->\n<g id=\"node49\" class=\"node\">\n<title>48</title>\n<path fill=\"#69b5eb\" stroke=\"#000000\" d=\"M2727,-68C2727,-68 2628,-68 2628,-68 2622,-68 2616,-62 2616,-56 2616,-56 2616,-12 2616,-12 2616,-6 2622,0 2628,0 2628,0 2727,0 2727,0 2733,0 2739,-6 2739,-12 2739,-12 2739,-56 2739,-56 2739,-62 2733,-68 2727,-68\"/>\n<text text-anchor=\"start\" x=\"2639.5\" y=\"-52.8\" font-family=\"Helvetica,sans-Serif\" font-size=\"14.00\" fill=\"#000000\">gini = 0.312</text>\n<text text-anchor=\"start\" x=\"2633.5\" y=\"-37.8\" font-family=\"Helvetica,sans-Serif\" font-size=\"14.00\" fill=\"#000000\">samples = 31</text>\n<text text-anchor=\"start\" x=\"2632\" y=\"-22.8\" font-family=\"Helvetica,sans-Serif\" font-size=\"14.00\" fill=\"#000000\">value = [6, 25]</text>\n<text text-anchor=\"start\" x=\"2624\" y=\"-7.8\" font-family=\"Helvetica,sans-Serif\" font-size=\"14.00\" fill=\"#000000\">class = Survived</text>\n</g>\n<!-- 47&#45;&gt;48 -->\n<g id=\"edge48\" class=\"edge\">\n<title>47&#45;&gt;48</title>\n<path fill=\"none\" stroke=\"#000000\" d=\"M2677.5,-103.9815C2677.5,-95.618 2677.5,-86.7965 2677.5,-78.3409\"/>\n<polygon fill=\"#000000\" stroke=\"#000000\" points=\"2681.0001,-78.2636 2677.5,-68.2637 2674.0001,-78.2637 2681.0001,-78.2636\"/>\n</g>\n<!-- 49 -->\n<g id=\"node50\" class=\"node\">\n<title>49</title>\n<path fill=\"#9ccef2\" stroke=\"#000000\" d=\"M2868,-68C2868,-68 2769,-68 2769,-68 2763,-68 2757,-62 2757,-56 2757,-56 2757,-12 2757,-12 2757,-6 2763,0 2769,0 2769,0 2868,0 2868,0 2874,0 2880,-6 2880,-12 2880,-12 2880,-56 2880,-56 2880,-62 2874,-68 2868,-68\"/>\n<text text-anchor=\"start\" x=\"2780.5\" y=\"-52.8\" font-family=\"Helvetica,sans-Serif\" font-size=\"14.00\" fill=\"#000000\">gini = 0.444</text>\n<text text-anchor=\"start\" x=\"2774.5\" y=\"-37.8\" font-family=\"Helvetica,sans-Serif\" font-size=\"14.00\" fill=\"#000000\">samples = 21</text>\n<text text-anchor=\"start\" x=\"2773\" y=\"-22.8\" font-family=\"Helvetica,sans-Serif\" font-size=\"14.00\" fill=\"#000000\">value = [7, 14]</text>\n<text text-anchor=\"start\" x=\"2765\" y=\"-7.8\" font-family=\"Helvetica,sans-Serif\" font-size=\"14.00\" fill=\"#000000\">class = Survived</text>\n</g>\n<!-- 47&#45;&gt;49 -->\n<g id=\"edge49\" class=\"edge\">\n<title>47&#45;&gt;49</title>\n<path fill=\"none\" stroke=\"#000000\" d=\"M2730.0032,-103.9815C2742.2066,-94.3313 2755.181,-84.0714 2767.3261,-74.4673\"/>\n<polygon fill=\"#000000\" stroke=\"#000000\" points=\"2769.4982,-77.2118 2775.171,-68.2637 2765.1562,-71.7211 2769.4982,-77.2118\"/>\n</g>\n</g>\n</svg>\n"
          },
          "metadata": {
            "tags": []
          },
          "execution_count": 81
        }
      ]
    },
    {
      "cell_type": "markdown",
      "metadata": {
        "id": "0zvVWIxLfMPL",
        "colab_type": "text"
      },
      "source": [
        "**Q4)Decision tree with cross validation**"
      ]
    },
    {
      "cell_type": "code",
      "metadata": {
        "id": "PkrJXgopZ-DX",
        "colab_type": "code",
        "colab": {
          "base_uri": "https://localhost:8080/",
          "height": 34
        },
        "outputId": "e0db1c56-7132-43f8-b758-2d4c90855c92"
      },
      "source": [
        "from sklearn import tree\n",
        "from sklearn.model_selection import cross_val_score\n",
        "\n",
        "\n",
        "\n",
        "features = ['Pclass', 'Sex', 'Age','Parch', 'Fare', 'Embarked']\n",
        "y_train = train[['Survived']]\n",
        "x_train = train.drop(['Survived'], axis=1)\n",
        "\n",
        "decision_tree = tree.DecisionTreeClassifier(max_depth=5)\n",
        "\n",
        "scores = cross_val_score(estimator=decision_tree, X=x_train, y=y_train, cv=5)\n",
        "\n",
        "scores.mean()\n"
      ],
      "execution_count": 92,
      "outputs": [
        {
          "output_type": "execute_result",
          "data": {
            "text/plain": [
              "0.7957190383528968"
            ]
          },
          "metadata": {
            "tags": []
          },
          "execution_count": 92
        }
      ]
    },
    {
      "cell_type": "markdown",
      "metadata": {
        "id": "ERwUubE4iXzx",
        "colab_type": "text"
      },
      "source": [
        "**Q5)Random forest with cross validation**"
      ]
    },
    {
      "cell_type": "code",
      "metadata": {
        "id": "JslrtHlyild0",
        "colab_type": "code",
        "colab": {
          "base_uri": "https://localhost:8080/",
          "height": 34
        },
        "outputId": "8c60a23a-9083-4f40-e80f-d135d5e840fa"
      },
      "source": [
        "from sklearn import tree\n",
        "from sklearn.model_selection import GridSearchCV\n",
        "\n",
        "\n",
        "features = ['Pclass', 'Sex', 'Age','Parch', 'Fare', 'Embarked']\n",
        "y_train = train[['Survived']]\n",
        "x_train = train.drop(['Survived'], axis=1)\n",
        "parameters = {'max_depth':range(3,20)}\n",
        "\n",
        "decision_tree = GridSearchCV(tree.DecisionTreeClassifier(), parameters)\n",
        "decision_tree.fit(X=x_train, y=y_train)\n",
        "\n",
        "tree_model = decision_tree.best_estimator_\n",
        "print (decision_tree.best_score_, decision_tree.best_params_)\n"
      ],
      "execution_count": 95,
      "outputs": [
        {
          "output_type": "stream",
          "text": [
            "0.8193019898311469 {'max_depth': 9}\n"
          ],
          "name": "stdout"
        }
      ]
    }
  ]
}