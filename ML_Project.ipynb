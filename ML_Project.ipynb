{
  "nbformat": 4,
  "nbformat_minor": 0,
  "metadata": {
    "colab": {
      "name": "ML_Project.ipynb",
      "provenance": [],
      "collapsed_sections": [],
      "authorship_tag": "ABX9TyNLY39NrcYakjxkFYIMcGYm",
      "include_colab_link": true
    },
    "kernelspec": {
      "name": "python3",
      "display_name": "Python 3"
    }
  },
  "cells": [
    {
      "cell_type": "markdown",
      "metadata": {
        "id": "view-in-github",
        "colab_type": "text"
      },
      "source": [
        "<a href=\"https://colab.research.google.com/github/in3xes/CAP5610/blob/master/ML_Project.ipynb\" target=\"_parent\"><img src=\"https://colab.research.google.com/assets/colab-badge.svg\" alt=\"Open In Colab\"/></a>"
      ]
    },
    {
      "cell_type": "code",
      "metadata": {
        "id": "tGirOhC9sqTP"
      },
      "source": [
        "import pandas as pd\n",
        "import numpy as np\n",
        "import keras\n",
        "\n",
        "from keras.utils.np_utils import to_categorical\n",
        "import matplotlib.pyplot as plt\n",
        "from sklearn.model_selection import train_test_split\n"
      ],
      "execution_count": 36,
      "outputs": []
    },
    {
      "cell_type": "code",
      "metadata": {
        "id": "wtmBLrJHtoqh"
      },
      "source": [
        "train = pd.read_csv(\"/content/train.csv\")\n",
        "test = pd.read_csv(\"/content/test.csv\")"
      ],
      "execution_count": 70,
      "outputs": []
    },
    {
      "cell_type": "code",
      "metadata": {
        "id": "S935gYClv7wA"
      },
      "source": [
        "ytrain = train[\"label\"]\n",
        "xtrain = train.drop(labels = [\"label\"],axis = 1)\n",
        "\n",
        "# normallization\n",
        "xtrain = xtrain/255.0\n",
        "test = test/255.0\n",
        "\n",
        "xtrain = xtrain.values.reshape(-1,28,28,1)\n",
        "test = test.values.reshape(-1,28,28,1)\n",
        "\n",
        "ytrain = to_categorical(ytrain, num_classes = 10)\n",
        "\n",
        "xtrain, xval, ytrain, yval = train_test_split(xtrain, ytrain, test_size=0.1)\n"
      ],
      "execution_count": 71,
      "outputs": []
    },
    {
      "cell_type": "code",
      "metadata": {
        "id": "JQYokaOMw3mZ",
        "outputId": "94037d23-eef0-41c1-8881-1cd85e8842b6",
        "colab": {
          "base_uri": "https://localhost:8080/",
          "height": 265
        }
      },
      "source": [
        "g = plt.imshow(xtrain[1][:,:,0])"
      ],
      "execution_count": 77,
      "outputs": [
        {
          "output_type": "display_data",
          "data": {
            "image/png": "[encoded data removed]",
            "text/plain": [
              "<Figure size 432x288 with 1 Axes>"
            ]
          },
          "metadata": {
            "tags": [],
            "needs_background": "light"
          }
        }
      ]
    },
    {
      "cell_type": "code",
      "metadata": {
        "id": "sQR9qOozyMcE"
      },
      "source": [
        "from keras.models import Sequential\n",
        "from keras.layers import Dense, Dropout, Flatten, Conv2D, MaxPool2D\n",
        "\n",
        "\n",
        "model = Sequential()\n",
        "#\n",
        "model.add(Conv2D(filters = 8, kernel_size = (5,5), activation ='relu', input_shape = (28,28,1)))\n",
        "model.add(MaxPool2D(pool_size=(2,2)))\n",
        "\n",
        "# fully connected\n",
        "model.add(Flatten())\n",
        "model.add(Dense(256, activation = \"relu\"))\n",
        "model.add(Dense(10, activation = \"softmax\"))"
      ],
      "execution_count": 73,
      "outputs": []
    },
    {
      "cell_type": "code",
      "metadata": {
        "id": "Aw1qXqwpyYPs"
      },
      "source": [
        "from keras.optimizers import RMSprop,Adam\n",
        "\n",
        "epochs = 30  # for better result increase the epochs\n",
        "batch_size = 250\n",
        "\n",
        "\n",
        "opt = Adam(learning_rate=0.01)\n",
        "model.compile(loss='mse', optimizer=opt, metrics=[\"accuracy\"])\n"
      ],
      "execution_count": 74,
      "outputs": []
    },
    {
      "cell_type": "code",
      "metadata": {
        "id": "w8ZNnSgHyddX",
        "outputId": "43256596-b22c-4dec-f6b8-ac8c9731072a",
        "colab": {
          "base_uri": "https://localhost:8080/",
          "height": 1000
        }
      },
      "source": [
        "history = model.fit(xtrain, ytrain, batch_size=batch_size,\n",
        "                              epochs=epochs, validation_data=(xval,yval),\n",
        "                              verbose=2, steps_per_epoch=xtrain.shape[0] // batch_size)"
      ],
      "execution_count": 75,
      "outputs": [
        {
          "output_type": "stream",
          "text": [
            "Epoch 1/30\n",
            "151/151 - 10s - loss: 0.0186 - accuracy: 0.8608 - val_loss: 0.0046 - val_accuracy: 0.9712\n",
            "Epoch 2/30\n",
            "151/151 - 10s - loss: 0.0035 - accuracy: 0.9774 - val_loss: 0.0035 - val_accuracy: 0.9786\n",
            "Epoch 3/30\n",
            "151/151 - 10s - loss: 0.0027 - accuracy: 0.9831 - val_loss: 0.0034 - val_accuracy: 0.9783\n",
            "Epoch 4/30\n",
            "151/151 - 10s - loss: 0.0020 - accuracy: 0.9874 - val_loss: 0.0024 - val_accuracy: 0.9848\n",
            "Epoch 5/30\n",
            "151/151 - 10s - loss: 0.0018 - accuracy: 0.9885 - val_loss: 0.0038 - val_accuracy: 0.9769\n",
            "Epoch 6/30\n",
            "151/151 - 10s - loss: 0.0018 - accuracy: 0.9891 - val_loss: 0.0035 - val_accuracy: 0.9795\n",
            "Epoch 7/30\n",
            "151/151 - 14s - loss: 0.0021 - accuracy: 0.9873 - val_loss: 0.0035 - val_accuracy: 0.9788\n",
            "Epoch 8/30\n",
            "151/151 - 10s - loss: 0.0017 - accuracy: 0.9901 - val_loss: 0.0029 - val_accuracy: 0.9829\n",
            "Epoch 9/30\n",
            "151/151 - 10s - loss: 0.0017 - accuracy: 0.9897 - val_loss: 0.0026 - val_accuracy: 0.9850\n",
            "Epoch 10/30\n",
            "151/151 - 10s - loss: 0.0014 - accuracy: 0.9916 - val_loss: 0.0029 - val_accuracy: 0.9838\n",
            "Epoch 11/30\n",
            "151/151 - 10s - loss: 0.0018 - accuracy: 0.9892 - val_loss: 0.0041 - val_accuracy: 0.9776\n",
            "Epoch 12/30\n",
            "151/151 - 10s - loss: 0.0018 - accuracy: 0.9900 - val_loss: 0.0041 - val_accuracy: 0.9781\n",
            "Epoch 13/30\n",
            "151/151 - 10s - loss: 0.0025 - accuracy: 0.9862 - val_loss: 0.0033 - val_accuracy: 0.9824\n",
            "Epoch 14/30\n",
            "151/151 - 10s - loss: 0.0032 - accuracy: 0.9829 - val_loss: 0.0051 - val_accuracy: 0.9733\n",
            "Epoch 15/30\n",
            "151/151 - 10s - loss: 0.0030 - accuracy: 0.9841 - val_loss: 0.0052 - val_accuracy: 0.9729\n",
            "Epoch 16/30\n",
            "151/151 - 10s - loss: 0.0027 - accuracy: 0.9856 - val_loss: 0.0054 - val_accuracy: 0.9714\n",
            "Epoch 17/30\n",
            "151/151 - 10s - loss: 0.0031 - accuracy: 0.9839 - val_loss: 0.0046 - val_accuracy: 0.9764\n",
            "Epoch 18/30\n",
            "151/151 - 10s - loss: 0.0030 - accuracy: 0.9844 - val_loss: 0.0048 - val_accuracy: 0.9750\n",
            "Epoch 19/30\n",
            "151/151 - 10s - loss: 0.0032 - accuracy: 0.9834 - val_loss: 0.0043 - val_accuracy: 0.9779\n",
            "Epoch 20/30\n",
            "151/151 - 10s - loss: 0.0032 - accuracy: 0.9833 - val_loss: 0.0070 - val_accuracy: 0.9645\n",
            "Epoch 21/30\n",
            "151/151 - 10s - loss: 0.0036 - accuracy: 0.9814 - val_loss: 0.0044 - val_accuracy: 0.9774\n",
            "Epoch 22/30\n",
            "151/151 - 10s - loss: 0.0039 - accuracy: 0.9799 - val_loss: 0.0059 - val_accuracy: 0.9695\n",
            "Epoch 23/30\n",
            "151/151 - 10s - loss: 0.0037 - accuracy: 0.9810 - val_loss: 0.0048 - val_accuracy: 0.9757\n",
            "Epoch 24/30\n",
            "151/151 - 10s - loss: 0.0034 - accuracy: 0.9827 - val_loss: 0.0061 - val_accuracy: 0.9690\n",
            "Epoch 25/30\n",
            "151/151 - 10s - loss: 0.0037 - accuracy: 0.9809 - val_loss: 0.0064 - val_accuracy: 0.9676\n",
            "Epoch 26/30\n",
            "151/151 - 10s - loss: 0.0039 - accuracy: 0.9798 - val_loss: 0.0045 - val_accuracy: 0.9769\n",
            "Epoch 27/30\n",
            "151/151 - 10s - loss: 0.0030 - accuracy: 0.9848 - val_loss: 0.0042 - val_accuracy: 0.9788\n",
            "Epoch 28/30\n",
            "151/151 - 10s - loss: 0.0033 - accuracy: 0.9834 - val_loss: 0.0048 - val_accuracy: 0.9755\n",
            "Epoch 29/30\n",
            "151/151 - 10s - loss: 0.0032 - accuracy: 0.9839 - val_loss: 0.0048 - val_accuracy: 0.9755\n",
            "Epoch 30/30\n",
            "151/151 - 10s - loss: 0.0037 - accuracy: 0.9812 - val_loss: 0.0057 - val_accuracy: 0.9714\n"
          ],
          "name": "stdout"
        }
      ]
    },
    {
      "cell_type": "code",
      "metadata": {
        "id": "DnjTIjbu8A8z",
        "outputId": "c1bdf2b7-d363-4fa2-9d67-05d33b514ee6",
        "colab": {
          "base_uri": "https://localhost:8080/",
          "height": 269
        }
      },
      "source": [
        "import matplotlib.pyplot as plt\n",
        "plt.plot(history.history['val_accuracy'])\n",
        "plt.ylabel('Accuracy')\n",
        "plt.ylim([0.6,1.1])\n",
        "plt.show()"
      ],
      "execution_count": 78,
      "outputs": [
        {
          "output_type": "display_data",
          "data": {
            "image/png": "[encoded data removed]",
            "text/plain": [
              "<Figure size 432x288 with 1 Axes>"
            ]
          },
          "metadata": {
            "tags": [],
            "needs_background": "light"
          }
        }
      ]
    }
  ]
}