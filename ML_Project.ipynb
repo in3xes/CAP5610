{
  "nbformat": 4,
  "nbformat_minor": 0,
  "metadata": {
    "colab": {
      "name": "ML_Project.ipynb",
      "provenance": [],
      "collapsed_sections": [],
      "authorship_tag": "ABX9TyNa6vqdBO2yIs6AM1xyHRFg",
      "include_colab_link": true
    },
    "kernelspec": {
      "display_name": "Python 3",
      "name": "python3"
    }
  },
  "cells": [
    {
      "cell_type": "markdown",
      "metadata": {
        "id": "view-in-github",
        "colab_type": "text"
      },
      "source": [
        "<a href=\"https://colab.research.google.com/github/in3xes/CAP5610/blob/master/ML_Project.ipynb\" target=\"_parent\"><img src=\"https://colab.research.google.com/assets/colab-badge.svg\" alt=\"Open In Colab\"/></a>"
      ]
    },
    {
      "cell_type": "code",
      "metadata": {
        "id": "Nz4c_9J4iyZ1"
      },
      "source": [
        "import numpy as np\n",
        "import pandas as pd\n",
        "import tensorflow as tf\n",
        "\n",
        "from tensorflow.keras import layers,models\n",
        "\n",
        "import matplotlib.pyplot as plt\n",
        "import matplotlib.image as mpimg\n",
        "import seaborn as sns\n",
        "%matplotlib inline\n",
        "\n",
        "from sklearn.model_selection import train_test_split\n",
        "from sklearn.metrics import confusion_matrix\n",
        "\n",
        "import itertools"
      ],
      "execution_count": 1,
      "outputs": []
    },
    {
      "cell_type": "code",
      "metadata": {
        "id": "R0kNCmzAm3S0"
      },
      "source": [
        "train = pd.read_csv(\"/content/train.csv\")\n",
        "test = pd.read_csv(\"/content/test.csv\")"
      ],
      "execution_count": 2,
      "outputs": []
    },
    {
      "cell_type": "code",
      "metadata": {
        "id": "EMqQaGBgm56G"
      },
      "source": [
        "Y_train = train[\"label\"]\n",
        "X_train = train.drop(labels=[\"label\"], axis=1)\n",
        "\n",
        "X_train = X_train/255\n",
        "test = test/255\n",
        "\n",
        "X_train = X_train.values.reshape(-1, 28, 28, 1)\n",
        "test = test.values.reshape(-1, 28, 28, 1)\n",
        "\n",
        "Y_train = tf.keras.utils.to_categorical(Y_train, num_classes=10)\n",
        "\n",
        "X_train, X_val, Y_train, Y_val = train_test_split(X_train,\n",
        "                                                  Y_train,\n",
        "                                                  test_size=0.1,\n",
        "                                                  random_state=2)"
      ],
      "execution_count": 3,
      "outputs": []
    },
    {
      "cell_type": "code",
      "metadata": {
        "id": "E6WtzS-hoV_l"
      },
      "source": [
        "model = models.Sequential()\n",
        "model.add(layers.Conv2D(filters=64,\n",
        "                        kernel_size=(3,3),\n",
        "                        activation='relu',\n",
        "                        input_shape=(28,28,1)))\n",
        "model.add(layers.MaxPooling2D(pool_size=(2,2)))\n",
        "\n",
        "model.add(layers.Conv2D(filters=128,\n",
        "                        kernel_size=(3,3),\n",
        "                        activation='relu'))\n",
        "model.add(layers.MaxPooling2D(pool_size=(2,2)))\n",
        "\n",
        "model.add(layers.Conv2D(filters=128,\n",
        "                        kernel_size=(3,3),\n",
        "                        activation='relu'))\n",
        "\n",
        "model.add(layers.Flatten())\n",
        "model.add(layers.Dense(128,\n",
        "                       activation='relu'))\n",
        "model.add(layers.Dense(10,\n",
        "                       activation='softmax'))"
      ],
      "execution_count": 4,
      "outputs": []
    },
    {
      "cell_type": "code",
      "metadata": {
        "id": "ges7VAreoZNN"
      },
      "source": [
        "model.compile(optimizer='rmsprop',\n",
        "              loss='categorical_crossentropy',\n",
        "              metrics=['accuracy'])"
      ],
      "execution_count": 5,
      "outputs": []
    },
    {
      "cell_type": "code",
      "metadata": {
        "colab": {
          "base_uri": "https://localhost:8080/"
        },
        "id": "ZndPs1e3od_2",
        "outputId": "df855da1-0eea-48d0-91e7-be51c1afdad8"
      },
      "source": [
        "history = model.fit(X_train, Y_train, epochs=20, batch_size=65)"
      ],
      "execution_count": 6,
      "outputs": [
        {
          "output_type": "stream",
          "text": [
            "Epoch 1/20\n",
            "582/582 [==============================] - 85s 146ms/step - loss: 0.1768 - accuracy: 0.9438\n",
            "Epoch 2/20\n",
            "582/582 [==============================] - 86s 147ms/step - loss: 0.0456 - accuracy: 0.9856\n",
            "Epoch 3/20\n",
            "582/582 [==============================] - 86s 147ms/step - loss: 0.0298 - accuracy: 0.9913\n",
            "Epoch 4/20\n",
            "582/582 [==============================] - 85s 147ms/step - loss: 0.0214 - accuracy: 0.9936\n",
            "Epoch 5/20\n",
            "582/582 [==============================] - 86s 147ms/step - loss: 0.0160 - accuracy: 0.9952\n",
            "Epoch 6/20\n",
            "582/582 [==============================] - 85s 147ms/step - loss: 0.0115 - accuracy: 0.9962\n",
            "Epoch 7/20\n",
            "582/582 [==============================] - 86s 147ms/step - loss: 0.0099 - accuracy: 0.9968\n",
            "Epoch 8/20\n",
            "582/582 [==============================] - 85s 146ms/step - loss: 0.0094 - accuracy: 0.9970\n",
            "Epoch 9/20\n",
            "582/582 [==============================] - 85s 146ms/step - loss: 0.0069 - accuracy: 0.9980\n",
            "Epoch 10/20\n",
            "582/582 [==============================] - 85s 146ms/step - loss: 0.0064 - accuracy: 0.9981\n",
            "Epoch 11/20\n",
            "582/582 [==============================] - 85s 147ms/step - loss: 0.0067 - accuracy: 0.9983\n",
            "Epoch 12/20\n",
            "582/582 [==============================] - 85s 146ms/step - loss: 0.0051 - accuracy: 0.9987\n",
            "Epoch 13/20\n",
            "582/582 [==============================] - 85s 146ms/step - loss: 0.0046 - accuracy: 0.9986\n",
            "Epoch 14/20\n",
            "582/582 [==============================] - 85s 146ms/step - loss: 0.0047 - accuracy: 0.9988\n",
            "Epoch 15/20\n",
            "582/582 [==============================] - 85s 146ms/step - loss: 0.0041 - accuracy: 0.9991\n",
            "Epoch 16/20\n",
            "582/582 [==============================] - 85s 146ms/step - loss: 0.0037 - accuracy: 0.9993\n",
            "Epoch 17/20\n",
            "582/582 [==============================] - 85s 147ms/step - loss: 0.0031 - accuracy: 0.9990\n",
            "Epoch 18/20\n",
            "582/582 [==============================] - 86s 147ms/step - loss: 0.0030 - accuracy: 0.9991\n",
            "Epoch 19/20\n",
            "582/582 [==============================] - 85s 146ms/step - loss: 0.0036 - accuracy: 0.9992\n",
            "Epoch 20/20\n",
            "582/582 [==============================] - 85s 146ms/step - loss: 0.0029 - accuracy: 0.9993\n"
          ],
          "name": "stdout"
        }
      ]
    },
    {
      "cell_type": "code",
      "metadata": {
        "id": "GoZcZfwVcwzp",
        "colab": {
          "base_uri": "https://localhost:8080/",
          "height": 265
        },
        "outputId": "f8abf893-8b63-4ec0-cf88-ff74fe6bac85"
      },
      "source": [
        "fig, ax = plt.subplots(2,1)\n",
        "ax[0].plot(history.history['loss'], color='b', label=\"Training loss\")\n",
        "legend = ax[0].legend(loc='best', shadow=True)\n",
        "\n",
        "ax[1].plot(history.history['accuracy'], color='b', label=\"Training accuracy\")\n",
        "legend = ax[1].legend(loc='best', shadow=True)"
      ],
      "execution_count": 18,
      "outputs": [
        {
          "output_type": "display_data",
          "data": {
            "image/png": "[encoded data removed]",
            "text/plain": [
              "<Figure size 432x288 with 2 Axes>"
            ]
          },
          "metadata": {
            "tags": [],
            "needs_background": "light"
          }
        }
      ]
    },
    {
      "cell_type": "code",
      "metadata": {
        "colab": {
          "base_uri": "https://localhost:8080/",
          "height": 311
        },
        "id": "XuBKsU4fnpe8",
        "outputId": "53029a81-1667-441f-fc1b-ae70b493b7db"
      },
      "source": [
        "def plot_confusion_matrix(cm, classes,\n",
        "                          normalize=False,\n",
        "                          title='Confusion matrix',\n",
        "                          cmap=plt.cm.Blues):\n",
        "    plt.imshow(cm, interpolation='nearest', cmap=cmap)\n",
        "    plt.title(title)\n",
        "    plt.colorbar()\n",
        "    tick_marks = np.arange(len(classes))\n",
        "    plt.xticks(tick_marks, classes, rotation=45)\n",
        "    plt.yticks(tick_marks, classes)\n",
        "\n",
        "    if normalize:\n",
        "        cm = cm.astype('float') / cm.sum(axis=1)[:, np.newaxis]\n",
        "\n",
        "    thresh = cm.max() / 2.\n",
        "    for i, j in itertools.product(range(cm.shape[0]), range(cm.shape[1])):\n",
        "        plt.text(j, i, cm[i, j],\n",
        "                 horizontalalignment=\"center\",\n",
        "                 color=\"white\" if cm[i, j] > thresh else \"black\")\n",
        "\n",
        "    plt.tight_layout()\n",
        "    plt.ylabel('True label')\n",
        "    plt.xlabel('Predicted label')\n",
        "\n",
        "Y_pred = model.predict(X_val)\n",
        "Y_pred_classes = np.argmax(Y_pred,axis = 1) \n",
        "Y_true = np.argmax(Y_val,axis = 1) \n",
        "confusion_mtx = confusion_matrix(Y_true, Y_pred_classes) \n",
        "plot_confusion_matrix(confusion_mtx, classes = range(10)) "
      ],
      "execution_count": 10,
      "outputs": [
        {
          "output_type": "display_data",
          "data": {
            "image/png": "[encoded data removed]",
            "text/plain": [
              "<Figure size 432x288 with 2 Axes>"
            ]
          },
          "metadata": {
            "tags": [],
            "needs_background": "light"
          }
        }
      ]
    },
    {
      "cell_type": "code",
      "metadata": {
        "id": "JebjHSi_suC_"
      },
      "source": [
        "results = model.predict(test)\n",
        "results = np.argmax(results,axis = 1)\n",
        "results = pd.Series(results,name=\"Label\")\n",
        "submission = pd.concat([pd.Series(range(1,28001),name = \"ImageId\"),results],axis = 1)\n",
        "submission.to_csv(\"output.csv\",index=False)"
      ],
      "execution_count": 11,
      "outputs": []
    }
  ]
}